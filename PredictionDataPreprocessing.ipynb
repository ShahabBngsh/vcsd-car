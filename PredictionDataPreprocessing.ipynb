{
 "cells": [
  {
   "cell_type": "code",
   "execution_count": null,
   "id": "38ebc60c",
   "metadata": {},
   "outputs": [],
   "source": [
    "import librosa"
   ]
  },
  {
   "cell_type": "code",
   "execution_count": 16,
   "id": "e6ebe39b",
   "metadata": {},
   "outputs": [
    {
     "name": "stdout",
     "output_type": "stream",
     "text": [
      "Loading is completed Done\n"
     ]
    },
    {
     "data": {
      "text/plain": [
       "[]"
      ]
     },
     "execution_count": 16,
     "metadata": {},
     "output_type": "execute_result"
    }
   ],
   "source": [
    "# Librosa and AudioSegment for audio files manipulation\n",
    "import librosa\n",
    "from pydub import AudioSegment\n",
    "audioLength=2.5\n",
    "filePathOriginal='VoiceData/Piyush_prediction/'\n",
    "filesBasicPath='VoiceData/predictionSameLength/'\n",
    "audioFileLength=[]\n",
    "audio_path_ahistaChalo=[]\n",
    "audio_path_bayainMuro=[]\n",
    "audio_path_chalo=[]\n",
    "audio_path_changeLane=[]\n",
    "audio_path_dayainMuro=[]\n",
    "audio_path_laneBadlo=[]\n",
    "audio_path_rukJao=[]\n",
    "audio_path_speedDown=[]\n",
    "audio_path_speedUp=[]\n",
    "audio_path_start=[]\n",
    "audio_path_stop=[]\n",
    "audio_path_tezChalo=[]\n",
    "audio_path_turnLeft=[]\n",
    "audio_path_turnRight=[]\n",
    "fypLabAudio = AudioSegment.from_wav('VoiceData/BackgoundNoises_PostLoudnessMani/room.wav')\n",
    "numberOfCommands=12\n",
    "for i in range(1,numberOfCommands+1):\n",
    "    if librosa.get_duration(filename=filesBasicPath+str(i)+'/ahista chalo.wav')<audioLength:\n",
    "        sound1 = AudioSegment.from_wav(filePathOriginal+str(i)+'/ahista chalo.wav')\n",
    "        combined_sounds = fypLabAudio.overlay(sound1)\n",
    "        combined_sounds.export(filesBasicPath+str(i)+'/ahista chalo.wav', format=\"wav\")\n",
    "\n",
    "    if librosa.get_duration(filename=filesBasicPath+str(i)+'/bayain muro.wav')<audioLength:\n",
    "        sound1 = AudioSegment.from_wav(filePathOriginal+str(i)+'/bayain muro.wav')\n",
    "        combined_sounds = fypLabAudio.overlay(sound1)\n",
    "        combined_sounds.export(filesBasicPath+str(i)+'/bayain muro.wav', format=\"wav\")\n",
    "\n",
    "    if librosa.get_duration(filename=filesBasicPath+str(i)+'/chalo.wav')<2.5:\n",
    "        sound1 = AudioSegment.from_wav(filePathOriginal+str(i)+'/chalo.wav')\n",
    "        combined_sounds = fypLabAudio.overlay(sound1)\n",
    "        combined_sounds.export(filesBasicPath+str(i)+'/chalo.wav', format=\"wav\")\n",
    "\n",
    "    if i!=7:\n",
    "        if librosa.get_duration(filename=filesBasicPath+str(i)+'/dayain muro.wav')<audioLength:\n",
    "            sound1 = AudioSegment.from_wav(filePathOriginal+str(i)+'/dayain muro.wav')\n",
    "            combined_sounds = fypLabAudio.overlay(sound1)\n",
    "            combined_sounds.export(filesBasicPath+str(i)+'/dayain muro.wav', format=\"wav\")\n",
    "\n",
    "    if librosa.get_duration(filename=filesBasicPath+str(i)+'/ruk jao.wav')<audioLength:\n",
    "        sound1 = AudioSegment.from_wav(filePathOriginal+str(i)+'/ruk jao.wav')\n",
    "        combined_sounds = fypLabAudio.overlay(sound1)\n",
    "        combined_sounds.export(filesBasicPath+str(i)+'/ruk jao.wav', format=\"wav\")\n",
    "    if i!=9:\n",
    "        if librosa.get_duration(filename=filesBasicPath+str(i)+'/tez chalo.wav')<audioLength:\n",
    "            sound1 = AudioSegment.from_wav(filePathOriginal+str(i)+'/tez chalo.wav')\n",
    "            combined_sounds = fypLabAudio.overlay(sound1)\n",
    "            combined_sounds.export(filesBasicPath+str(i)+'/tez chalo.wav', format=\"wav\")\n",
    "\n",
    "    if i!=8:\n",
    "        if librosa.get_duration(filename=filesBasicPath+str(i)+'/lane badlo.wav')<audioLength:\n",
    "            sound1 = AudioSegment.from_wav(filePathOriginal+str(i)+'/lane badlo.wav')\n",
    "            combined_sounds = fypLabAudio.overlay(sound1)\n",
    "            combined_sounds.export(filesBasicPath+str(i)+'/lane badlo.wav', format=\"wav\")\n",
    "\n",
    "    if librosa.get_duration(filename=filesBasicPath+str(i)+'/change lane.wav')<audioLength:\n",
    "        sound1 = AudioSegment.from_wav(filePathOriginal+str(i)+'/change lane.wav')\n",
    "        combined_sounds = fypLabAudio.overlay(sound1)\n",
    "        combined_sounds.export(filesBasicPath+str(i)+'/change lane.wav', format=\"wav\")\n",
    "\n",
    "    if librosa.get_duration(filename=filesBasicPath+str(i)+'/speed down.wav')<audioLength:\n",
    "        sound1 = AudioSegment.from_wav(filePathOriginal+str(i)+'/speed down.wav')\n",
    "        combined_sounds = fypLabAudio.overlay(sound1)\n",
    "        combined_sounds.export(filesBasicPath+str(i)+'/speed down.wav', format=\"wav\")\n",
    "\n",
    "    if librosa.get_duration(filename=filesBasicPath+str(i)+'/speed up.wav')<audioLength:\n",
    "        sound1 = AudioSegment.from_wav(filePathOriginal+str(i)+'/speed up.wav')\n",
    "        combined_sounds = fypLabAudio.overlay(sound1)\n",
    "        combined_sounds.export(filesBasicPath+str(i)+'/speed up.wav', format=\"wav\")\n",
    "\n",
    "    if librosa.get_duration(filename=filesBasicPath+str(i)+'/start.wav')<audioLength:\n",
    "        sound1 = AudioSegment.from_wav(filePathOriginal+str(i)+'/start.wav')\n",
    "        combined_sounds = fypLabAudio.overlay(sound1)\n",
    "        combined_sounds.export(filesBasicPath+str(i)+'/start.wav', format=\"wav\")        \n",
    "\n",
    "    if librosa.get_duration(filename=filesBasicPath+str(i)+'/stop.wav')<audioLength:\n",
    "        sound1 = AudioSegment.from_wav(filePathOriginal+str(i)+'/stop.wav')\n",
    "        combined_sounds = fypLabAudio.overlay(sound1)\n",
    "        combined_sounds.export(filesBasicPath+str(i)+'/stop.wav', format=\"wav\")\n",
    "\n",
    "    if librosa.get_duration(filename=filesBasicPath+str(i)+'/turn left.wav')<audioLength:\n",
    "        sound1 = AudioSegment.from_wav(filePathOriginal+str(i)+'/turn left.wav')\n",
    "        combined_sounds = fypLabAudio.overlay(sound1)\n",
    "        combined_sounds.export(filesBasicPath+str(i)+'/turn left.wav', format=\"wav\")\n",
    "\n",
    "    if librosa.get_duration(filename=filesBasicPath+str(i)+'/turn right.wav')<audioLength:\n",
    "        sound1 = AudioSegment.from_wav(filePathOriginal+str(i)+'/turn right.wav')\n",
    "        combined_sounds = fypLabAudio.overlay(sound1)\n",
    "        combined_sounds.export(filesBasicPath+str(i)+'/turn right.wav', format=\"wav\")\n",
    "\n",
    "print(\"Loading is completed Done\")\n"
   ]
  },
  {
   "cell_type": "code",
   "execution_count": 15,
   "id": "5974dbbf",
   "metadata": {},
   "outputs": [
    {
     "name": "stdout",
     "output_type": "stream",
     "text": [
      "0\n"
     ]
    }
   ],
   "source": []
  },
  {
   "cell_type": "code",
   "execution_count": null,
   "id": "c91d34f9",
   "metadata": {},
   "outputs": [],
   "source": []
  }
 ],
 "metadata": {
  "kernelspec": {
   "display_name": "Python 3 (ipykernel)",
   "language": "python",
   "name": "python3"
  },
  "language_info": {
   "codemirror_mode": {
    "name": "ipython",
    "version": 3
   },
   "file_extension": ".py",
   "mimetype": "text/x-python",
   "name": "python",
   "nbconvert_exporter": "python",
   "pygments_lexer": "ipython3",
   "version": "3.9.7"
  }
 },
 "nbformat": 4,
 "nbformat_minor": 5
}
