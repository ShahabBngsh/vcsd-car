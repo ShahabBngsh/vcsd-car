{
 "cells": [
  {
   "cell_type": "code",
   "execution_count": 7,
   "id": "446203f6",
   "metadata": {},
   "outputs": [],
   "source": [
    "import librosa\n",
    "from tensorflow import keras"
   ]
  },
  {
   "cell_type": "code",
   "execution_count": 3,
   "id": "2b5a3d33",
   "metadata": {},
   "outputs": [
    {
     "name": "stdout",
     "output_type": "stream",
     "text": [
      "Loading is completed Done\n"
     ]
    }
   ],
   "source": [
    "audioLength=2.5\n",
    "filesBasicPath='VoiceData/predictionSameLength/'\n",
    "audioFileLength=[]\n",
    "audio_path_ahistaChalo=[]\n",
    "audio_path_bayainMuro=[]\n",
    "audio_path_chalo=[]\n",
    "audio_path_changeLane=[]\n",
    "audio_path_dayainMuro=[]\n",
    "audio_path_laneBadlo=[]\n",
    "audio_path_rukJao=[]\n",
    "audio_path_speedDown=[]\n",
    "audio_path_speedUp=[]\n",
    "audio_path_start=[]\n",
    "audio_path_stop=[]\n",
    "audio_path_tezChalo=[]\n",
    "audio_path_turnLeft=[]\n",
    "audio_path_turnRight=[]\n",
    "numberOfCommands=12\n",
    "for i in range(1,numberOfCommands+1):\n",
    "    if librosa.get_duration(filename=filesBasicPath+str(i)+'/ahista chalo.wav')<=audioLength:\n",
    "        audio_path_ahistaChalo.append(filesBasicPath+str(i)+'/ahista chalo.wav')\n",
    "        audioFileLength.append(librosa.get_duration(filename=filesBasicPath+str(i)+'/ahista chalo.wav'))\n",
    "    if librosa.get_duration(filename=filesBasicPath+str(i)+'/bayain muro.wav')<=audioLength:\n",
    "        audio_path_bayainMuro.append(filesBasicPath+str(i)+'/bayain muro.wav')\n",
    "        audioFileLength.append(librosa.get_duration(filename=filesBasicPath+str(i)+'/bayain muro.wav'))\n",
    "    if librosa.get_duration(filename=filesBasicPath+str(i)+'/chalo.wav')<=2.5:\n",
    "        audio_path_chalo.append(filesBasicPath+str(i)+'/chalo.wav')\n",
    "        audioFileLength.append(librosa.get_duration(filename=filesBasicPath+str(i)+'/chalo.wav'))\n",
    "    if i!=7:\n",
    "        if librosa.get_duration(filename=filesBasicPath+str(i)+'/dayain muro.wav')<=audioLength:\n",
    "            audio_path_dayainMuro.append(filesBasicPath+str(i)+'/dayain muro.wav')\n",
    "            audioFileLength.append(librosa.get_duration(filename=filesBasicPath+str(i)+'/dayain muro.wav'))\n",
    "    if librosa.get_duration(filename=filesBasicPath+str(i)+'/ruk jao.wav')<=audioLength:\n",
    "        audio_path_rukJao.append(filesBasicPath+str(i)+'/ruk jao.wav')\n",
    "        audioFileLength.append(librosa.get_duration(filename=filesBasicPath+str(i)+'/ruk jao.wav'))\n",
    "    if i!=9:\n",
    "        if librosa.get_duration(filename=filesBasicPath+str(i)+'/tez chalo.wav')<=audioLength:\n",
    "            audio_path_tezChalo.append(filesBasicPath+str(i)+'/tez chalo.wav')\n",
    "            audioFileLength.append(librosa.get_duration(filename=filesBasicPath+str(i)+'/tez chalo.wav'))\n",
    "    if i!=8:\n",
    "        if librosa.get_duration(filename=filesBasicPath+str(i)+'/lane badlo.wav')<=audioLength:\n",
    "            audio_path_laneBadlo.append(filesBasicPath+str(i)+'/lane badlo.wav')\n",
    "            audioFileLength.append(librosa.get_duration(filename=filesBasicPath+str(i)+'/lane badlo.wav'))\n",
    "    if librosa.get_duration(filename=filesBasicPath+str(i)+'/change lane.wav')<=audioLength:\n",
    "        audio_path_changeLane.append(filesBasicPath+str(i)+'/change lane.wav')\n",
    "        audioFileLength.append(librosa.get_duration(filename=filesBasicPath+str(i)+'/change lane.wav'))\n",
    "    if librosa.get_duration(filename=filesBasicPath+str(i)+'/speed down.wav')<=audioLength:\n",
    "        audio_path_speedDown.append(filesBasicPath+str(i)+'/speed down.wav')\n",
    "        audioFileLength.append(librosa.get_duration(filename=filesBasicPath+str(i)+'/speed down.wav'))\n",
    "    if librosa.get_duration(filename=filesBasicPath+str(i)+'/speed up.wav')<=audioLength:\n",
    "        audio_path_speedUp.append(filesBasicPath+str(i)+'/speed up.wav')\n",
    "        audioFileLength.append(librosa.get_duration(filename=filesBasicPath+str(i)+'/speed up.wav'))\n",
    "    if librosa.get_duration(filename=filesBasicPath+str(i)+'/start.wav')<=audioLength:\n",
    "        audio_path_start.append(filesBasicPath+str(i)+'/start.wav')\n",
    "        audioFileLength.append(librosa.get_duration(filename=filesBasicPath+str(i)+'/start.wav'))\n",
    "    if librosa.get_duration(filename=filesBasicPath+str(i)+'/stop.wav')<=audioLength:\n",
    "        audio_path_stop.append(filesBasicPath+str(i)+'/stop.wav')\n",
    "        audioFileLength.append(librosa.get_duration(filename=filesBasicPath+str(i)+'/stop.wav'))\n",
    "    if librosa.get_duration(filename=filesBasicPath+str(i)+'/turn left.wav')<=audioLength:\n",
    "        audio_path_turnLeft.append(filesBasicPath+str(i)+'/turn left.wav')\n",
    "        audioFileLength.append(librosa.get_duration(filename=filesBasicPath+str(i)+'/turn left.wav'))\n",
    "    if librosa.get_duration(filename=filesBasicPath+str(i)+'/turn right.wav')<=audioLength:\n",
    "        audio_path_turnRight.append(filesBasicPath+str(i)+'/turn right.wav')\n",
    "        audioFileLength.append(librosa.get_duration(filename=filesBasicPath+str(i)+'/turn right.wav'))\n",
    "print(\"Loading is completed Done\")\n"
   ]
  },
  {
   "cell_type": "code",
   "execution_count": 4,
   "id": "ace3aa68",
   "metadata": {},
   "outputs": [
    {
     "name": "stdout",
     "output_type": "stream",
     "text": [
      "12\n"
     ]
    }
   ],
   "source": [
    "count=1\n",
    "x_ahistaChalo=[]\n",
    "sr_ahistaChalo=[]\n",
    "for i in range(0,len(audio_path_ahistaChalo)):\n",
    "    x1,sr1=librosa.load(audio_path_ahistaChalo[i])\n",
    "    x_ahistaChalo.append(x1)\n",
    "    sr_ahistaChalo.append(sr1)\n",
    "    count+=1\n",
    "    \n",
    "print(len(x_ahistaChalo))"
   ]
  },
  {
   "cell_type": "code",
   "execution_count": null,
   "id": "04312703",
   "metadata": {},
   "outputs": [],
   "source": []
  },
  {
   "cell_type": "code",
   "execution_count": 6,
   "id": "c4b9a5ae",
   "metadata": {},
   "outputs": [
    {
     "name": "stdout",
     "output_type": "stream",
     "text": [
      "(12, 108, 13)\n"
     ]
    }
   ],
   "source": [
    "import numpy as np\n",
    "mfcc_ahistaChalo=[]\n",
    "for i in range(0,len(audio_path_ahistaChalo)):\n",
    "    mfcc_ahistaChalo.append(librosa.feature.mfcc(x_ahistaChalo[i], n_mfcc=13,sr=sr_ahistaChalo[i]).T)\n",
    "print(np.shape(mfcc_ahistaChalo))"
   ]
  },
  {
   "cell_type": "code",
   "execution_count": 36,
   "id": "0bb3d240",
   "metadata": {},
   "outputs": [
    {
     "name": "stdout",
     "output_type": "stream",
     "text": [
      "12\n",
      "(12, 108, 13)\n"
     ]
    }
   ],
   "source": [
    "count=1\n",
    "x1=0\n",
    "s1=0\n",
    "x_bayainMuro=[]\n",
    "sr_bayainMuro=[]\n",
    "for i in range(0,len(audio_path_bayainMuro)):\n",
    "    x1,sr1=librosa.load(audio_path_bayainMuro[i])\n",
    "    x_bayainMuro.append(x1)\n",
    "    sr_bayainMuro.append(sr1)\n",
    "    count+=1\n",
    "print(len(x_bayainMuro))\n",
    "mfcc_bayainMuro=[]\n",
    "for i in range(0,len(audio_path_bayainMuro)):\n",
    "    mfcc_bayainMuro.append(librosa.feature.mfcc(x_bayainMuro[i], n_mfcc=13,sr=sr_bayainMuro[i]).T)\n",
    "print(np.shape(mfcc_bayainMuro))"
   ]
  },
  {
   "cell_type": "code",
   "execution_count": 45,
   "id": "9776a314",
   "metadata": {},
   "outputs": [
    {
     "name": "stdout",
     "output_type": "stream",
     "text": [
      "12\n",
      "(12, 108, 13)\n"
     ]
    }
   ],
   "source": [
    "count=1\n",
    "x_chalo=[]\n",
    "sr_chalo=[]\n",
    "for i in range(0,len(audio_path_chalo)):\n",
    "    x1,sr1=librosa.load(audio_path_chalo[i])\n",
    "    x_chalo.append(x1)\n",
    "    sr_chalo.append(sr1)\n",
    "    count+=1\n",
    "print(len(x_chalo))\n",
    "mfcc_chalo=[]\n",
    "for i in range(0,len(audio_path_chalo)):\n",
    "    mfcc_chalo.append(librosa.feature.mfcc(x_chalo[i], n_mfcc=13,sr=sr_chalo[i]).T)\n",
    "print(np.shape(mfcc_chalo))"
   ]
  },
  {
   "cell_type": "code",
   "execution_count": 30,
   "id": "06c2fb12",
   "metadata": {},
   "outputs": [],
   "source": [
    "modelFileName=\"lstm5_PL_200_370.h5\"\n",
    "modelLSTM = keras.models.load_model(\"savedModels/\"+modelFileName)"
   ]
  },
  {
   "cell_type": "code",
   "execution_count": 9,
   "id": "8198c954",
   "metadata": {},
   "outputs": [
    {
     "name": "stdout",
     "output_type": "stream",
     "text": [
      "Model: \"sequential\"\n",
      "_________________________________________________________________\n",
      " Layer (type)                Output Shape              Param #   \n",
      "=================================================================\n",
      " lstm (LSTM)                 (None, 108, 108)          52704     \n",
      "                                                                 \n",
      " lstm_1 (LSTM)               (None, 32)                18048     \n",
      "                                                                 \n",
      " dense (Dense)               (None, 14)                462       \n",
      "                                                                 \n",
      "=================================================================\n",
      "Total params: 71,214\n",
      "Trainable params: 71,214\n",
      "Non-trainable params: 0\n",
      "_________________________________________________________________\n"
     ]
    }
   ],
   "source": [
    "modelLSTM.summary()"
   ]
  },
  {
   "cell_type": "code",
   "execution_count": 31,
   "id": "ab80e31f",
   "metadata": {},
   "outputs": [],
   "source": [
    "modelFileName=\"biLstm5_PL_100_370.h5\"\n",
    "modelBiLSTM = keras.models.load_model(\"savedModels/\"+modelFileName)"
   ]
  },
  {
   "cell_type": "code",
   "execution_count": 46,
   "id": "7ef2766c",
   "metadata": {},
   "outputs": [],
   "source": [
    "y_probLstm=modelLSTM.predict(np.array(mfcc_chalo))\n",
    "y_classesLstm = y_probLstm.argmax(axis=-1)"
   ]
  },
  {
   "cell_type": "code",
   "execution_count": 47,
   "id": "d6bc897c",
   "metadata": {},
   "outputs": [
    {
     "name": "stdout",
     "output_type": "stream",
     "text": [
      "[7 7 7 7 8 7 7 7 2 8 7 7]\n"
     ]
    }
   ],
   "source": [
    "print(y_classesLstm)"
   ]
  },
  {
   "cell_type": "code",
   "execution_count": 48,
   "id": "74105c3a",
   "metadata": {},
   "outputs": [],
   "source": [
    "y_probBiLstm=modelBiLSTM.predict(np.array(mfcc_chalo))\n",
    "y_classesBiLstm = y_probBiLstm.argmax(axis=-1)"
   ]
  },
  {
   "cell_type": "code",
   "execution_count": 49,
   "id": "ea535c3a",
   "metadata": {},
   "outputs": [
    {
     "name": "stdout",
     "output_type": "stream",
     "text": [
      "[7 7 7 7 7 7 7 7 2 8 7 7]\n"
     ]
    }
   ],
   "source": [
    "print(y_classesBiLstm)"
   ]
  },
  {
   "cell_type": "code",
   "execution_count": null,
   "id": "c8e43f25",
   "metadata": {},
   "outputs": [],
   "source": [
    "import numpy as np\n",
    "from tensorflow.keras.optimizers import SGD\n",
    "np.random.seed(1337)\n",
    "from keras.utils import np_utils\n",
    "from keras.models import Sequential\n",
    "from keras.layers.core import Dense, Activation\n",
    "from keras.layers.recurrent import LSTM\n",
    "from tensorflow.keras.optimizers import Adam\n",
    "# x_train=np.append(mfcc_ahistaChalo)\n",
    "trainSizeEachCommand=55\n",
    "validationSizeEachCommand=10\n",
    "x_train=[]\n",
    "x_test=[]\n",
    "x_validation=[]\n",
    "print(np.shape(mfcc_ahistaChalo))\n",
    "y_train=np.zeros(shape=(784,))\n",
    "y_test=np.zeros(shape=(162,))\n",
    "y_validation=np.zeros(shape=(140,))\n",
    "print(np.shape(y_train))\n",
    "print(np.shape(y_test)) \n",
    "trainCounter=0\n",
    "validationCounter=0\n",
    "testCounter=0\n",
    "for i in range(0,len(mfcc_start)):\n",
    "    if i<=trainSizeEachCommand:\n",
    "        y_train[trainCounter]=0\n",
    "        trainCounter+=1\n",
    "        x_train.append(mfcc_start[i].T)\n",
    "    elif i>trainSizeEachCommand and i<=trainSizeEachCommand+validationSizeEachCommand:\n",
    "        y_validation[validationCounter]=0\n",
    "        validationCounter+=1\n",
    "        x_validation.append(mfcc_start[i].T)\n",
    "    else:\n",
    "        y_test[testCounter]=0\n",
    "        testCounter+=1\n",
    "        x_test.append(mfcc_start[i].T)\n",
    "\n",
    "print(y_validation)\n",
    "print(np.array(y_validation).shape)\n",
    "for i in range(0,len(mfcc_stop)):\n",
    "    if i<=trainSizeEachCommand:\n",
    "        y_train[trainCounter]=1\n",
    "        trainCounter+=1\n",
    "        x_train.append(mfcc_stop[i].T)\n",
    "    elif i>trainSizeEachCommand and i<=trainSizeEachCommand+validationSizeEachCommand:\n",
    "        y_validation[validationCounter]=1\n",
    "        validationCounter+=1\n",
    "        x_validation.append(mfcc_stop[i].T)\n",
    "    else:\n",
    "        y_test[testCounter]=1\n",
    "        testCounter+=1\n",
    "        x_test.append(mfcc_stop[i].T)\n",
    "\n",
    "        \n",
    "print(y_validation)\n",
    "\n",
    "for i in range(0,len(mfcc_changeLane)):\n",
    "    if i<=trainSizeEachCommand:\n",
    "        y_train[trainCounter]=2\n",
    "        trainCounter+=1\n",
    "        x_train.append(mfcc_changeLane[i].T)\n",
    "    elif i>trainSizeEachCommand and i<=trainSizeEachCommand+validationSizeEachCommand:\n",
    "        y_validation[validationCounter]=2\n",
    "        validationCounter+=1\n",
    "        x_validation.append(mfcc_changeLane[i].T)\n",
    "    else:\n",
    "        y_test[testCounter]=2\n",
    "        testCounter+=1\n",
    "        x_test.append(mfcc_changeLane[i].T)\n",
    "        \n",
    "        \n",
    "\n",
    "for i in range(0,len(mfcc_turnLeft)):\n",
    "    if i<=trainSizeEachCommand:\n",
    "        y_train[trainCounter]=3\n",
    "        trainCounter+=1\n",
    "        x_train.append(mfcc_turnLeft[i].T)\n",
    "    elif i>trainSizeEachCommand and i<=trainSizeEachCommand+validationSizeEachCommand:\n",
    "        y_validation[validationCounter]=3\n",
    "        validationCounter+=1\n",
    "        x_validation.append(mfcc_turnLeft[i].T)\n",
    "    else:\n",
    "        y_test[testCounter]=3\n",
    "        testCounter+=1\n",
    "        x_test.append(mfcc_turnLeft[i].T)\n",
    "\n",
    "\n",
    "\n",
    "for i in range(0,len(mfcc_turnRight)):\n",
    "    if i<=trainSizeEachCommand:\n",
    "        y_train[trainCounter]=4\n",
    "        trainCounter+=1\n",
    "        x_train.append(mfcc_turnRight[i].T)\n",
    "    elif i>trainSizeEachCommand and i<=trainSizeEachCommand+validationSizeEachCommand:\n",
    "        y_validation[validationCounter]=4\n",
    "        validationCounter+=1\n",
    "        x_validation.append(mfcc_turnRight[i].T)\n",
    "    else:\n",
    "        y_test[testCounter]=4\n",
    "        testCounter+=1\n",
    "        x_test.append(mfcc_turnRight[i].T)\n",
    "        \n",
    "\n",
    "\n",
    "for i in range(0,len(mfcc_speedUp)):\n",
    "    if i<=trainSizeEachCommand:\n",
    "        y_train[trainCounter]=5\n",
    "        trainCounter+=1\n",
    "        x_train.append(mfcc_speedUp[i].T)\n",
    "    elif i>trainSizeEachCommand and i<=trainSizeEachCommand+validationSizeEachCommand:\n",
    "        y_validation[validationCounter]=5\n",
    "        validationCounter+=1\n",
    "        x_validation.append(mfcc_speedUp[i].T)\n",
    "    else:\n",
    "        y_test[testCounter]=5\n",
    "        testCounter+=1\n",
    "        x_test.append(mfcc_speedUp[i].T)\n",
    "        \n",
    "        \n",
    "\n",
    "for i in range(0,len(mfcc_speedDown)):\n",
    "    if i<=trainSizeEachCommand:\n",
    "        y_train[trainCounter]=6\n",
    "        trainCounter+=1\n",
    "        x_train.append(mfcc_speedDown[i].T)\n",
    "    elif i>trainSizeEachCommand and i<=trainSizeEachCommand+validationSizeEachCommand:\n",
    "        y_validation[validationCounter]=6\n",
    "        validationCounter+=1\n",
    "        x_validation.append(mfcc_speedDown[i].T)\n",
    "    else:\n",
    "        y_test[testCounter]=6\n",
    "        testCounter+=1\n",
    "        x_test.append(mfcc_speedDown[i].T)\n",
    "        \n",
    "        \n",
    "for i in range(0,len(mfcc_chalo)):\n",
    "    if i<=trainSizeEachCommand:\n",
    "        y_train[trainCounter]=7\n",
    "        trainCounter+=1\n",
    "        x_train.append(mfcc_chalo[i].T)\n",
    "    elif i>trainSizeEachCommand and i<=trainSizeEachCommand+validationSizeEachCommand:\n",
    "        y_validation[validationCounter]=7\n",
    "        validationCounter+=1\n",
    "        x_validation.append(mfcc_chalo[i].T)\n",
    "    else:\n",
    "        y_test[testCounter]=7\n",
    "        testCounter+=1\n",
    "        x_test.append(mfcc_chalo[i].T)\n",
    "        \n",
    "        \n",
    "\n",
    "for i in range(0,len(mfcc_rukJao)):\n",
    "    if i<=trainSizeEachCommand:\n",
    "        y_train[trainCounter]=8\n",
    "        trainCounter+=1\n",
    "        x_train.append(mfcc_rukJao[i].T)\n",
    "    elif i>trainSizeEachCommand and i<=trainSizeEachCommand+validationSizeEachCommand:\n",
    "        y_validation[validationCounter]=8\n",
    "        validationCounter+=1\n",
    "        x_validation.append(mfcc_rukJao[i].T)\n",
    "    else:\n",
    "        y_test[testCounter]=8\n",
    "        testCounter+=1\n",
    "        x_test.append(mfcc_rukJao[i].T)\n",
    "        \n",
    "        \n",
    "for i in range(0,len(mfcc_laneBadlo)):\n",
    "    if i<=trainSizeEachCommand:\n",
    "        y_train[trainCounter]=9\n",
    "        trainCounter+=1\n",
    "        x_train.append(mfcc_laneBadlo[i].T)\n",
    "    elif i>trainSizeEachCommand and i<=trainSizeEachCommand+validationSizeEachCommand:\n",
    "        y_validation[validationCounter]=9\n",
    "        validationCounter+=1\n",
    "        x_validation.append(mfcc_laneBadlo[i].T)\n",
    "    else:\n",
    "        y_test[testCounter]=9\n",
    "        testCounter+=1\n",
    "        x_test.append(mfcc_laneBadlo[i].T)\n",
    "        \n",
    "        \n",
    "for i in range(0,len(mfcc_bayainMuro)):\n",
    "    if i<=trainSizeEachCommand:\n",
    "        y_train[trainCounter]=10\n",
    "        trainCounter+=1\n",
    "        x_train.append(mfcc_bayainMuro[i].T)\n",
    "    elif i>trainSizeEachCommand and i<=trainSizeEachCommand+validationSizeEachCommand:\n",
    "        y_validation[validationCounter]=10\n",
    "        validationCounter+=1\n",
    "        x_validation.append(mfcc_bayainMuro[i].T)\n",
    "    else:\n",
    "        y_test[testCounter]=10\n",
    "        testCounter+=1\n",
    "        x_test.append(mfcc_bayainMuro[i].T)\n",
    "        \n",
    "        \n",
    "        \n",
    "for i in range(0,len(mfcc_dayainMuro)):\n",
    "    if i<=trainSizeEachCommand:\n",
    "        y_train[trainCounter]=11\n",
    "        trainCounter+=1\n",
    "        x_train.append(mfcc_dayainMuro[i].T)\n",
    "    elif i>trainSizeEachCommand and i<=trainSizeEachCommand+validationSizeEachCommand:\n",
    "        y_validation[validationCounter]=11\n",
    "        validationCounter+=1\n",
    "        x_validation.append(mfcc_dayainMuro[i].T)\n",
    "    else:\n",
    "        y_test[testCounter]=11\n",
    "        testCounter+=1\n",
    "        x_test.append(mfcc_dayainMuro[i].T)\n",
    "        \n",
    "        \n",
    "for i in range(0,len(mfcc_tezChalo)):\n",
    "    if i<=trainSizeEachCommand:\n",
    "        y_train[trainCounter]=12\n",
    "        trainCounter+=1\n",
    "        x_train.append(mfcc_tezChalo[i].T)\n",
    "    elif i>trainSizeEachCommand and i<=trainSizeEachCommand+validationSizeEachCommand:\n",
    "        y_validation[validationCounter]=12\n",
    "        validationCounter+=1\n",
    "        x_validation.append(mfcc_tezChalo[i].T)\n",
    "    else:\n",
    "        y_test[testCounter]=12\n",
    "        testCounter+=1\n",
    "        x_test.append(mfcc_tezChalo[i].T)\n",
    "\n",
    "        \n",
    "\n",
    "for i in range(0,len(mfcc_ahistaChalo)):\n",
    "    if i<=trainSizeEachCommand:\n",
    "        y_train[trainCounter]=13\n",
    "        trainCounter+=1\n",
    "        x_train.append(mfcc_ahistaChalo[i].T)\n",
    "    elif i>trainSizeEachCommand and i<=trainSizeEachCommand+validationSizeEachCommand:\n",
    "        y_validation[validationCounter]=13\n",
    "        validationCounter+=1\n",
    "        x_validation.append(mfcc_ahistaChalo[i].T)\n",
    "    else:\n",
    "        y_test[testCounter]=13\n",
    "        testCounter+=1\n",
    "        x_test.append(mfcc_ahistaChalo[i].T)\n",
    "\n",
    "        \n",
    "        \n",
    "        \n",
    "        \n",
    "# print(np.shape(x_train))\n",
    "# print(np.shape(x_test))\n",
    "\n",
    "print(np.shape(x_train))\n",
    "print(np.shape(x_test))\n",
    "print(np.shape(x_validation))\n",
    "# print(y_train)\n",
    "# print(y_test)\n",
    "print(y_validation)\n"
   ]
  },
  {
   "cell_type": "code",
   "execution_count": null,
   "id": "db7ba7a0",
   "metadata": {},
   "outputs": [],
   "source": []
  },
  {
   "cell_type": "code",
   "execution_count": null,
   "id": "c7396436",
   "metadata": {},
   "outputs": [],
   "source": []
  },
  {
   "cell_type": "code",
   "execution_count": null,
   "id": "758d85ef",
   "metadata": {},
   "outputs": [],
   "source": []
  },
  {
   "cell_type": "code",
   "execution_count": null,
   "id": "f0c5aea0",
   "metadata": {},
   "outputs": [],
   "source": []
  },
  {
   "cell_type": "code",
   "execution_count": 128,
   "id": "302e1ca5",
   "metadata": {},
   "outputs": [],
   "source": [
    "import librosa\n",
    "import os\n",
    "import numpy as np\n",
    "from keras.utils import np_utils"
   ]
  },
  {
   "cell_type": "code",
   "execution_count": 143,
   "id": "b249e238",
   "metadata": {},
   "outputs": [
    {
     "name": "stdout",
     "output_type": "stream",
     "text": [
      "101\n",
      "101\n",
      "File Loading is completed\n"
     ]
    }
   ],
   "source": [
    "audioLength=2.5\n",
    "filesBasicPath='VoiceData/predicitonSameLength/'\n",
    "audioFiles=[]\n",
    "foldersList=['start','stop','changeLane','turnLeft','turnRight','speedUp','speedDown','chalo','rukJao','laneBadlo','bayainMuro','dayainMuro','tezChalo','ahistaChalo']\n",
    "\n",
    "foldersListOld=['start','stop','changeLane','turnLeft','turnRight','speedUp','speedDown','chalo','rukJao','laneBadlo','bayainMuro','dayainMuro','tezChalo','ahistaChalo']\n",
    "outputs=[]\n",
    "path = os.getcwd()\n",
    "count=0\n",
    "for i in range(0,len(foldersList)):\n",
    "    audioFiles.extend(os.listdir(path+'/'+filesBasicPath+foldersList[i]))\n",
    "    for j in range(count,len(audioFiles)):\n",
    "        count+=1\n",
    "        outputs.append(i)\n",
    "        audioFiles[j]=filesBasicPath+foldersList[i]+'/'+audioFiles[j]\n",
    "\n",
    "print(len(audioFiles))\n",
    "print(len(outputs))\n",
    "print(\"File Loading is completed\")\n"
   ]
  },
  {
   "cell_type": "code",
   "execution_count": 144,
   "id": "4cfd2502",
   "metadata": {},
   "outputs": [
    {
     "name": "stdout",
     "output_type": "stream",
     "text": [
      "Time series and sampling rate extraction completed\n"
     ]
    }
   ],
   "source": [
    "timeSeriesValuesList=[]\n",
    "samplingRateList=[]\n",
    "for i in range(0,len(audioFiles)):\n",
    "    timeSeriesValue,samplingRate=librosa.load(audioFiles[i])\n",
    "    timeSeriesValuesList.append(timeSeriesValue)\n",
    "    samplingRateList.append(samplingRate)\n",
    "\n",
    "print(\"Time series and sampling rate extraction completed\")"
   ]
  },
  {
   "cell_type": "code",
   "execution_count": 145,
   "id": "6201e7e6",
   "metadata": {},
   "outputs": [
    {
     "name": "stdout",
     "output_type": "stream",
     "text": [
      "101\n",
      "101\n"
     ]
    }
   ],
   "source": [
    "print(len(samplingRateList))\n",
    "print(len(timeSeriesValuesList))"
   ]
  },
  {
   "cell_type": "code",
   "execution_count": 146,
   "id": "45f21e4b",
   "metadata": {},
   "outputs": [
    {
     "name": "stdout",
     "output_type": "stream",
     "text": [
      "Mfcc extraction completed\n"
     ]
    }
   ],
   "source": [
    "mfccs=[]\n",
    "for i in range(0,len(audioFiles)):\n",
    "    mfccs.append(librosa.feature.mfcc(timeSeriesValuesList[i], n_mfcc=13,sr=samplingRateList[i]).T)\n",
    "    \n",
    "print(\"Mfcc extraction completed\")"
   ]
  },
  {
   "cell_type": "code",
   "execution_count": 147,
   "id": "fabcbcb5",
   "metadata": {},
   "outputs": [
    {
     "name": "stdout",
     "output_type": "stream",
     "text": [
      "(101, 108, 13)\n",
      "<class 'list'>\n",
      "<class 'numpy.ndarray'>\n"
     ]
    }
   ],
   "source": [
    "print(np.shape(np.array(mfccs)))\n",
    "print(type(mfccs))\n",
    "print(type(mfccs[0]))"
   ]
  },
  {
   "cell_type": "code",
   "execution_count": 170,
   "id": "a3e4233c",
   "metadata": {},
   "outputs": [],
   "source": [
    "modelFileName=\"lstm_400_56.h5\"\n",
    "modelLSTM = keras.models.load_model(\"savedModels/\"+modelFileName)\n",
    "\n",
    "modelFileName=\"biLstm_150_56.h5\"\n",
    "modelBiLSTM = keras.models.load_model(\"savedModels/\"+modelFileName)\n",
    "\n",
    "\n"
   ]
  },
  {
   "cell_type": "code",
   "execution_count": 171,
   "id": "97efdeb6",
   "metadata": {},
   "outputs": [
    {
     "name": "stdout",
     "output_type": "stream",
     "text": [
      "[ 1  0  1  7  1  0  1  1  0  8  1  1  1  1  2  2  2  5  2  2  2  2  3  4\n",
      "  3  3  3  7  4  4  4  0  3  4  7  5  6  6  5  5  5  5  9  6 13  6  5  5\n",
      "  5 12  7  7  7  1  7  7  5  8  7  8  8 11  5  8  9  9  9  5  9  9  7  8\n",
      " 10 10 10 10 11 13 10 10  9 11 11 11  3  4 11 12  2  9 12  5  1 12 13 13\n",
      " 13  3 13 13 13]\n"
     ]
    }
   ],
   "source": [
    "y_probLstm=modelLSTM.predict(np.array(mfccs))\n",
    "y_classesLstm = y_probLstm.argmax(axis=-1)\n",
    "\n",
    "print(y_classesLstm)\n"
   ]
  },
  {
   "cell_type": "code",
   "execution_count": 172,
   "id": "571ab468",
   "metadata": {},
   "outputs": [
    {
     "name": "stdout",
     "output_type": "stream",
     "text": [
      "[ 0  0  2  0  1  0  1  1  0  8  8  7  1  1  2  2  2  6  2  9  2  3  3  3\n",
      "  3  3  3  3  4  4  4  0  4  3  3  5  9  5  5  5  5  5  9  5 13  6  6  6\n",
      "  6  7  7  7  7  7  7  5  9  8  8  8  8 11  7  8  9  9  9  9  9  9  9  7\n",
      " 10 10 10 13 11 10 10  3 11 11 11 11  9 11 11 12 12 11 12 12  7 12 13 13\n",
      " 13  3 13 13 13]\n"
     ]
    }
   ],
   "source": [
    "y_probBiLstm=modelBiLSTM.predict(np.array(mfccs))\n",
    "y_classesBiLstm = y_probBiLstm.argmax(axis=-1)\n",
    "\n",
    "print(y_classesBiLstm)"
   ]
  },
  {
   "cell_type": "code",
   "execution_count": 173,
   "id": "017d2849",
   "metadata": {},
   "outputs": [
    {
     "name": "stdout",
     "output_type": "stream",
     "text": [
      "101\n",
      "101\n"
     ]
    }
   ],
   "source": [
    "print(len(y_classesBiLstm))\n",
    "print(len(outputs))"
   ]
  },
  {
   "cell_type": "code",
   "execution_count": 174,
   "id": "825a31c2",
   "metadata": {},
   "outputs": [
    {
     "name": "stdout",
     "output_type": "stream",
     "text": [
      "0     1     0\n",
      "0     0     0\n",
      "0     1     2\n",
      "0     7     0\n",
      "0     1     1\n",
      "0     0     0\n",
      "1     1     1\n",
      "1     1     1\n",
      "1     0     0\n",
      "1     8     8\n",
      "1     1     8\n",
      "1     1     7\n",
      "1     1     1\n",
      "1     1     1\n",
      "2     2     2\n",
      "2     2     2\n",
      "2     2     2\n",
      "2     5     6\n",
      "2     2     2\n",
      "2     2     9\n",
      "2     2     2\n",
      "3     2     3\n",
      "3     3     3\n",
      "3     4     3\n",
      "3     3     3\n",
      "3     3     3\n",
      "3     3     3\n",
      "3     7     3\n",
      "4     4     4\n",
      "4     4     4\n",
      "4     4     4\n",
      "4     0     0\n",
      "4     3     4\n",
      "4     4     3\n",
      "4     7     3\n",
      "5     5     5\n",
      "5     6     9\n",
      "5     6     5\n",
      "5     5     5\n",
      "5     5     5\n",
      "5     5     5\n",
      "5     5     5\n",
      "6     9     9\n",
      "6     6     5\n",
      "6     13     13\n",
      "6     6     6\n",
      "6     5     6\n",
      "6     5     6\n",
      "6     5     6\n",
      "7     12     7\n",
      "7     7     7\n",
      "7     7     7\n",
      "7     7     7\n",
      "7     1     7\n",
      "7     7     7\n",
      "7     7     5\n",
      "7     5     9\n",
      "8     8     8\n",
      "8     7     8\n",
      "8     8     8\n",
      "8     8     8\n",
      "8     11     11\n",
      "8     5     7\n",
      "8     8     8\n",
      "9     9     9\n",
      "9     9     9\n",
      "9     9     9\n",
      "9     5     9\n",
      "9     9     9\n",
      "9     9     9\n",
      "9     7     9\n",
      "9     8     7\n",
      "10     10     10\n",
      "10     10     10\n",
      "10     10     10\n",
      "10     10     13\n",
      "10     11     11\n",
      "10     13     10\n",
      "10     10     10\n",
      "10     10     3\n",
      "11     9     11\n",
      "11     11     11\n",
      "11     11     11\n",
      "11     11     11\n",
      "11     3     9\n",
      "11     4     11\n",
      "11     11     11\n",
      "12     12     12\n",
      "12     2     12\n",
      "12     9     11\n",
      "12     12     12\n",
      "12     5     12\n",
      "12     1     7\n",
      "12     12     12\n",
      "13     13     13\n",
      "13     13     13\n",
      "13     13     13\n",
      "13     3     3\n",
      "13     13     13\n",
      "13     13     13\n",
      "13     13     13\n",
      "Lstm Accuracy: 0.6138613861386139\n",
      "BiLstm Accuracy: 0.7326732673267327\n"
     ]
    }
   ],
   "source": [
    "lstmCount=0\n",
    "biLstmCount=0\n",
    "for i in range (0,len(outputs)):\n",
    "    print(outputs[i],\"   \",y_classesLstm[i],\"   \",y_classesBiLstm[i])\n",
    "    if outputs[i]==y_classesLstm[i]:\n",
    "        lstmCount+=1\n",
    "    if outputs[i]==y_classesBiLstm[i]:\n",
    "        biLstmCount+=1\n",
    "        \n",
    "print(\"Lstm Accuracy: \"+str(lstmCount/len(outputs)))\n",
    "print(\"BiLstm Accuracy: \"+str(biLstmCount/len(outputs)))"
   ]
  },
  {
   "cell_type": "code",
   "execution_count": 153,
   "id": "d8dd671d",
   "metadata": {},
   "outputs": [],
   "source": [
    "nb_classes=14\n",
    "outputClasses = np_utils.to_categorical(outputs, nb_classes)"
   ]
  },
  {
   "cell_type": "code",
   "execution_count": 154,
   "id": "a0881cd7",
   "metadata": {},
   "outputs": [
    {
     "name": "stdout",
     "output_type": "stream",
     "text": [
      "[[1. 0. 0. ... 0. 0. 0.]\n",
      " [1. 0. 0. ... 0. 0. 0.]\n",
      " [1. 0. 0. ... 0. 0. 0.]\n",
      " ...\n",
      " [0. 0. 0. ... 0. 0. 1.]\n",
      " [0. 0. 0. ... 0. 0. 1.]\n",
      " [0. 0. 0. ... 0. 0. 1.]]\n"
     ]
    }
   ],
   "source": [
    "print(outputClasses)"
   ]
  },
  {
   "cell_type": "code",
   "execution_count": 155,
   "id": "7c2c36dd",
   "metadata": {},
   "outputs": [
    {
     "name": "stdout",
     "output_type": "stream",
     "text": [
      "\n",
      "Testing LSTM...\n",
      "1/1 [==============================] - 0s 474ms/step - loss: 0.8865 - accuracy: 0.7822\n",
      "Test loss:   0.8865411877632141\n",
      "Test accuracy:   0.7821782231330872\n"
     ]
    }
   ],
   "source": [
    "batch_size = 370   # num of training examples per minibatch\n",
    "\n",
    "print(\"\\nTesting LSTM...\")\n",
    "score, accuracy = modelLSTM.evaluate(\n",
    "    np.array(mfccs), np.array(outputClasses), batch_size=batch_size, verbose=1)\n",
    "print(\"Test loss:  \", score)\n",
    "print(\"Test accuracy:  \", accuracy)"
   ]
  },
  {
   "cell_type": "code",
   "execution_count": 156,
   "id": "0b61df27",
   "metadata": {},
   "outputs": [
    {
     "name": "stdout",
     "output_type": "stream",
     "text": [
      "\n",
      "Testing BiLstm...\n",
      "1/1 [==============================] - 1s 865ms/step - loss: 0.9922 - accuracy: 0.7030\n",
      "Test loss:   0.9922345876693726\n",
      "Test accuracy:   0.7029703259468079\n"
     ]
    }
   ],
   "source": [
    "print(\"\\nTesting BiLstm...\")\n",
    "score, accuracy = modelBiLSTM.evaluate(\n",
    "    np.array(mfccs), np.array(outputClasses), batch_size=batch_size, verbose=1)\n",
    "print(\"Test loss:  \", score)\n",
    "print(\"Test accuracy:  \", accuracy)"
   ]
  },
  {
   "cell_type": "code",
   "execution_count": null,
   "id": "9bc4bdfe",
   "metadata": {},
   "outputs": [],
   "source": []
  }
 ],
 "metadata": {
  "kernelspec": {
   "display_name": "Python 3 (ipykernel)",
   "language": "python",
   "name": "python3"
  },
  "language_info": {
   "codemirror_mode": {
    "name": "ipython",
    "version": 3
   },
   "file_extension": ".py",
   "mimetype": "text/x-python",
   "name": "python",
   "nbconvert_exporter": "python",
   "pygments_lexer": "ipython3",
   "version": "3.9.7"
  }
 },
 "nbformat": 4,
 "nbformat_minor": 5
}
