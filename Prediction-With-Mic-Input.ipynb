{
 "cells": [
  {
   "cell_type": "code",
   "execution_count": 13,
   "id": "56474900",
   "metadata": {},
   "outputs": [
    {
     "name": "stdout",
     "output_type": "stream",
     "text": [
      "[[0.         0.        ]\n",
      " [0.         0.        ]\n",
      " [0.         0.        ]\n",
      " ...\n",
      " [0.00021166 0.00021166]\n",
      " [0.00023913 0.00023913]\n",
      " [0.00011831 0.00011831]]\n"
     ]
    }
   ],
   "source": [
    "# # https://www.geeksforgeeks.org/create-a-voice-recorder-using-python/\n",
    "\n",
    "# import sounddevice as sd\n",
    "# from scipy.io.wavfile import write\n",
    "# import wavio as wv\n",
    "# from pydub import AudioSegment\n",
    "  \n",
    "# # Sampling frequency\n",
    "# freq = 44100\n",
    "  \n",
    "# # Recording duration\n",
    "# duration = 2.5\n",
    "  \n",
    "# # Start recorder with the given values \n",
    "# # of duration and sample frequency\n",
    "# recording = sd.rec(int(duration * freq), \n",
    "#                    samplerate=freq, channels=2)\n",
    "  \n",
    "# # Record audio for the given number of seconds\n",
    "# sd.wait()\n",
    "# print(recording)\n",
    "# # This will convert the NumPy array to an audio\n",
    "# # file with the given sampling frequency\n",
    "# # write(\"recording0.wav\", freq, recording)\n",
    "  \n",
    "# # # Convert the NumPy array to audio file\n",
    "# wv.write(\"predictionFile/topredict.wav\", recording, freq, sampwidth=2)\n"
   ]
  },
  {
   "cell_type": "code",
   "execution_count": 2,
   "id": "e263323a",
   "metadata": {},
   "outputs": [],
   "source": [
    "import sounddevice as sd\n",
    "import librosa\n",
    "from scipy.io.wavfile import write\n",
    "from pydub import AudioSegment"
   ]
  },
  {
   "cell_type": "code",
   "execution_count": 42,
   "id": "c786918a",
   "metadata": {},
   "outputs": [
    {
     "name": "stdout",
     "output_type": "stream",
     "text": [
      "Recording started\n",
      "Recording end\n"
     ]
    }
   ],
   "source": [
    "# https://realpython.com/playing-and-recording-sound-python/\n",
    "\n",
    "fs = 44100  # Sample rate\n",
    "seconds = 2.5  # Duration of recording\n",
    "print(\"Recording started\")\n",
    "myrecording = sd.rec(int(seconds * fs), samplerate=fs, channels=2)\n",
    "sd.wait()  # Wait until recording is finished\n",
    "write('predictionFile/topredict.wav', fs, myrecording)  # Save as WAV file \n",
    "print(\"Recording end\")"
   ]
  },
  {
   "cell_type": "code",
   "execution_count": 4,
   "id": "20bda12f",
   "metadata": {},
   "outputs": [
    {
     "data": {
      "text/plain": [
       "<_io.BufferedRandom name='predictionFile/topredict.wav'>"
      ]
     },
     "execution_count": 4,
     "metadata": {},
     "output_type": "execute_result"
    }
   ],
   "source": [
    "audioFilesNew=[]\n",
    "# from pydub import AudioSegment\n",
    "# for item in audioFiles:\n",
    "background='VoiceData/BackgoundNoises_PostLoudnessMani/room.wav'\n",
    "predictionFile='predictionFile/topredict.wav'\n",
    "sound1 = AudioSegment.from_wav(predictionFile)\n",
    "combined_sounds = AudioSegment.from_wav(background).overlay(sound1)\n",
    "combined_sounds.export(predictionFile, format=\"wav\")\n",
    "\n",
    "# for item in audioFilesNew:\n",
    "#     print(librosa.get_duration(filename=item))\n"
   ]
  },
  {
   "cell_type": "code",
   "execution_count": 26,
   "id": "4caa1e86",
   "metadata": {},
   "outputs": [
    {
     "name": "stderr",
     "output_type": "stream",
     "text": [
      "playsound is relying on a python 2 subprocess. Please use `pip3 install PyObjC` if you want playsound to run more efficiently.\n",
      "Traceback (most recent call last):\n",
      "  File \"/opt/anaconda3/lib/python3.9/site-packages/playsound.py\", line 261, in <module>\n",
      "    playsound(argv[1])\n",
      "  File \"/opt/anaconda3/lib/python3.9/site-packages/playsound.py\", line 119, in _playsoundOSX\n",
      "    from AppKit import NSSound\n",
      "  File \"/System/Library/Frameworks/Python.framework/Versions/2.7/Extras/lib/python/PyObjC/AppKit/__init__.py\", line 8, in <module>\n",
      "    import objc\n",
      "  File \"/System/Library/Frameworks/Python.framework/Versions/2.7/Extras/lib/python/PyObjC/objc/__init__.py\", line 28, in <module>\n",
      "    from objc._bridgesupport import *\n",
      "  File \"/System/Library/Frameworks/Python.framework/Versions/2.7/Extras/lib/python/PyObjC/objc/_bridgesupport.py\", line 13, in <module>\n",
      "    import pkg_resources\n",
      "  File \"/opt/anaconda3/lib/python3.9/site-packages/pkg_resources/__init__.py\", line 1367\n",
      "    raise SyntaxError(e) from e\n",
      "                            ^\n",
      "SyntaxError: invalid syntax\n"
     ]
    },
    {
     "ename": "CalledProcessError",
     "evalue": "Command '['/System/Library/Frameworks/Python.framework/Versions/2.7/bin/python', '/opt/anaconda3/lib/python3.9/site-packages/playsound.py', 'file:///Users/dev/Desktop/FYP%20Voice%20Recocgnition/predictionFile/topredict.wav']' returned non-zero exit status 1.",
     "output_type": "error",
     "traceback": [
      "\u001b[0;31m---------------------------------------------------------------------------\u001b[0m",
      "\u001b[0;31mCalledProcessError\u001b[0m                        Traceback (most recent call last)",
      "\u001b[0;32m/var/folders/vl/5gvmmywn0hbd2mbjs0s4sqxr0000gp/T/ipykernel_8049/3985427005.py\u001b[0m in \u001b[0;36m<module>\u001b[0;34m\u001b[0m\n\u001b[1;32m      1\u001b[0m \u001b[0;32mfrom\u001b[0m \u001b[0mplaysound\u001b[0m \u001b[0;32mimport\u001b[0m \u001b[0mplaysound\u001b[0m\u001b[0;34m\u001b[0m\u001b[0;34m\u001b[0m\u001b[0m\n\u001b[0;32m----> 2\u001b[0;31m \u001b[0mplaysound\u001b[0m\u001b[0;34m(\u001b[0m\u001b[0mpredictionFile\u001b[0m\u001b[0;34m)\u001b[0m\u001b[0;34m\u001b[0m\u001b[0;34m\u001b[0m\u001b[0m\n\u001b[0m",
      "\u001b[0;32m/opt/anaconda3/lib/python3.9/site-packages/playsound.py\u001b[0m in \u001b[0;36m<lambda>\u001b[0;34m(sound, block)\u001b[0m\n\u001b[1;32m    242\u001b[0m         \u001b[0;32mexcept\u001b[0m \u001b[0mImportError\u001b[0m\u001b[0;34m:\u001b[0m\u001b[0;34m\u001b[0m\u001b[0;34m\u001b[0m\u001b[0m\n\u001b[1;32m    243\u001b[0m             \u001b[0mlogger\u001b[0m\u001b[0;34m.\u001b[0m\u001b[0mwarning\u001b[0m\u001b[0;34m(\u001b[0m\u001b[0;34m\"playsound is relying on a python 2 subprocess. Please use `pip3 install PyObjC` if you want playsound to run more efficiently.\"\u001b[0m\u001b[0;34m)\u001b[0m\u001b[0;34m\u001b[0m\u001b[0;34m\u001b[0m\u001b[0m\n\u001b[0;32m--> 244\u001b[0;31m             \u001b[0mplaysound\u001b[0m \u001b[0;34m=\u001b[0m \u001b[0;32mlambda\u001b[0m \u001b[0msound\u001b[0m\u001b[0;34m,\u001b[0m \u001b[0mblock\u001b[0m \u001b[0;34m=\u001b[0m \u001b[0;32mTrue\u001b[0m\u001b[0;34m:\u001b[0m \u001b[0m_playsoundAnotherPython\u001b[0m\u001b[0;34m(\u001b[0m\u001b[0;34m'/System/Library/Frameworks/Python.framework/Versions/2.7/bin/python'\u001b[0m\u001b[0;34m,\u001b[0m \u001b[0msound\u001b[0m\u001b[0;34m,\u001b[0m \u001b[0mblock\u001b[0m\u001b[0;34m,\u001b[0m \u001b[0mmacOS\u001b[0m \u001b[0;34m=\u001b[0m \u001b[0;32mTrue\u001b[0m\u001b[0;34m)\u001b[0m\u001b[0;34m\u001b[0m\u001b[0;34m\u001b[0m\u001b[0m\n\u001b[0m\u001b[1;32m    245\u001b[0m \u001b[0;32melse\u001b[0m\u001b[0;34m:\u001b[0m\u001b[0;34m\u001b[0m\u001b[0;34m\u001b[0m\u001b[0m\n\u001b[1;32m    246\u001b[0m     \u001b[0mplaysound\u001b[0m \u001b[0;34m=\u001b[0m \u001b[0m_playsoundNix\u001b[0m\u001b[0;34m\u001b[0m\u001b[0;34m\u001b[0m\u001b[0m\n",
      "\u001b[0;32m/opt/anaconda3/lib/python3.9/site-packages/playsound.py\u001b[0m in \u001b[0;36m_playsoundAnotherPython\u001b[0;34m(otherPython, sound, block, macOS)\u001b[0m\n\u001b[1;32m    227\u001b[0m     \u001b[0mt\u001b[0m\u001b[0;34m.\u001b[0m\u001b[0mstart\u001b[0m\u001b[0;34m(\u001b[0m\u001b[0;34m)\u001b[0m\u001b[0;34m\u001b[0m\u001b[0;34m\u001b[0m\u001b[0m\n\u001b[1;32m    228\u001b[0m     \u001b[0;32mif\u001b[0m \u001b[0mblock\u001b[0m\u001b[0;34m:\u001b[0m\u001b[0;34m\u001b[0m\u001b[0;34m\u001b[0m\u001b[0m\n\u001b[0;32m--> 229\u001b[0;31m         \u001b[0mt\u001b[0m\u001b[0;34m.\u001b[0m\u001b[0mjoin\u001b[0m\u001b[0;34m(\u001b[0m\u001b[0;34m)\u001b[0m\u001b[0;34m\u001b[0m\u001b[0;34m\u001b[0m\u001b[0m\n\u001b[0m\u001b[1;32m    230\u001b[0m \u001b[0;34m\u001b[0m\u001b[0m\n\u001b[1;32m    231\u001b[0m \u001b[0;32mfrom\u001b[0m \u001b[0mplatform\u001b[0m \u001b[0;32mimport\u001b[0m \u001b[0msystem\u001b[0m\u001b[0;34m\u001b[0m\u001b[0;34m\u001b[0m\u001b[0m\n",
      "\u001b[0;32m/opt/anaconda3/lib/python3.9/site-packages/playsound.py\u001b[0m in \u001b[0;36mjoin\u001b[0;34m(self, timeout)\u001b[0m\n\u001b[1;32m    216\u001b[0m             \u001b[0msuper\u001b[0m\u001b[0;34m(\u001b[0m\u001b[0;34m)\u001b[0m\u001b[0;34m.\u001b[0m\u001b[0mjoin\u001b[0m\u001b[0;34m(\u001b[0m\u001b[0mtimeout\u001b[0m\u001b[0;34m)\u001b[0m\u001b[0;34m\u001b[0m\u001b[0;34m\u001b[0m\u001b[0m\n\u001b[1;32m    217\u001b[0m             \u001b[0;32mif\u001b[0m \u001b[0mself\u001b[0m\u001b[0;34m.\u001b[0m\u001b[0mexc\u001b[0m\u001b[0;34m:\u001b[0m\u001b[0;34m\u001b[0m\u001b[0;34m\u001b[0m\u001b[0m\n\u001b[0;32m--> 218\u001b[0;31m                 \u001b[0;32mraise\u001b[0m \u001b[0mself\u001b[0m\u001b[0;34m.\u001b[0m\u001b[0mexc\u001b[0m\u001b[0;34m\u001b[0m\u001b[0;34m\u001b[0m\u001b[0m\n\u001b[0m\u001b[1;32m    219\u001b[0m             \u001b[0;32mreturn\u001b[0m \u001b[0mself\u001b[0m\u001b[0;34m.\u001b[0m\u001b[0mret\u001b[0m\u001b[0;34m\u001b[0m\u001b[0;34m\u001b[0m\u001b[0m\n\u001b[1;32m    220\u001b[0m \u001b[0;34m\u001b[0m\u001b[0m\n",
      "\u001b[0;32m/opt/anaconda3/lib/python3.9/site-packages/playsound.py\u001b[0m in \u001b[0;36mrun\u001b[0;34m(self)\u001b[0m\n\u001b[1;32m    209\u001b[0m             \u001b[0mself\u001b[0m\u001b[0;34m.\u001b[0m\u001b[0mexc\u001b[0m \u001b[0;34m=\u001b[0m \u001b[0;32mNone\u001b[0m\u001b[0;34m\u001b[0m\u001b[0;34m\u001b[0m\u001b[0m\n\u001b[1;32m    210\u001b[0m             \u001b[0;32mtry\u001b[0m\u001b[0;34m:\u001b[0m\u001b[0;34m\u001b[0m\u001b[0;34m\u001b[0m\u001b[0m\n\u001b[0;32m--> 211\u001b[0;31m                 \u001b[0mself\u001b[0m\u001b[0;34m.\u001b[0m\u001b[0mret\u001b[0m \u001b[0;34m=\u001b[0m \u001b[0mself\u001b[0m\u001b[0;34m.\u001b[0m\u001b[0m_target\u001b[0m\u001b[0;34m(\u001b[0m\u001b[0;34m*\u001b[0m\u001b[0mself\u001b[0m\u001b[0;34m.\u001b[0m\u001b[0m_args\u001b[0m\u001b[0;34m,\u001b[0m \u001b[0;34m**\u001b[0m\u001b[0mself\u001b[0m\u001b[0;34m.\u001b[0m\u001b[0m_kwargs\u001b[0m\u001b[0;34m)\u001b[0m\u001b[0;34m\u001b[0m\u001b[0;34m\u001b[0m\u001b[0m\n\u001b[0m\u001b[1;32m    212\u001b[0m             \u001b[0;32mexcept\u001b[0m \u001b[0mBaseException\u001b[0m \u001b[0;32mas\u001b[0m \u001b[0me\u001b[0m\u001b[0;34m:\u001b[0m\u001b[0;34m\u001b[0m\u001b[0;34m\u001b[0m\u001b[0m\n\u001b[1;32m    213\u001b[0m                 \u001b[0mself\u001b[0m\u001b[0;34m.\u001b[0m\u001b[0mexc\u001b[0m \u001b[0;34m=\u001b[0m \u001b[0me\u001b[0m\u001b[0;34m\u001b[0m\u001b[0;34m\u001b[0m\u001b[0m\n",
      "\u001b[0;32m/opt/anaconda3/lib/python3.9/site-packages/playsound.py\u001b[0m in \u001b[0;36m<lambda>\u001b[0;34m()\u001b[0m\n\u001b[1;32m    224\u001b[0m \u001b[0;34m\u001b[0m\u001b[0m\n\u001b[1;32m    225\u001b[0m     \u001b[0mplaysoundPath\u001b[0m \u001b[0;34m=\u001b[0m \u001b[0mabspath\u001b[0m\u001b[0;34m(\u001b[0m\u001b[0mgetsourcefile\u001b[0m\u001b[0;34m(\u001b[0m\u001b[0;32mlambda\u001b[0m\u001b[0;34m:\u001b[0m \u001b[0;36m0\u001b[0m\u001b[0;34m)\u001b[0m\u001b[0;34m)\u001b[0m\u001b[0;34m\u001b[0m\u001b[0;34m\u001b[0m\u001b[0m\n\u001b[0;32m--> 226\u001b[0;31m     \u001b[0mt\u001b[0m \u001b[0;34m=\u001b[0m \u001b[0mPropogatingThread\u001b[0m\u001b[0;34m(\u001b[0m\u001b[0mtarget\u001b[0m \u001b[0;34m=\u001b[0m \u001b[0;32mlambda\u001b[0m\u001b[0;34m:\u001b[0m \u001b[0mcheck_call\u001b[0m\u001b[0;34m(\u001b[0m\u001b[0;34m[\u001b[0m\u001b[0motherPython\u001b[0m\u001b[0;34m,\u001b[0m \u001b[0mplaysoundPath\u001b[0m\u001b[0;34m,\u001b[0m \u001b[0m_handlePathOSX\u001b[0m\u001b[0;34m(\u001b[0m\u001b[0msound\u001b[0m\u001b[0;34m)\u001b[0m \u001b[0;32mif\u001b[0m \u001b[0mmacOS\u001b[0m \u001b[0;32melse\u001b[0m \u001b[0msound\u001b[0m\u001b[0;34m]\u001b[0m\u001b[0;34m)\u001b[0m\u001b[0;34m)\u001b[0m\u001b[0;34m\u001b[0m\u001b[0;34m\u001b[0m\u001b[0m\n\u001b[0m\u001b[1;32m    227\u001b[0m     \u001b[0mt\u001b[0m\u001b[0;34m.\u001b[0m\u001b[0mstart\u001b[0m\u001b[0;34m(\u001b[0m\u001b[0;34m)\u001b[0m\u001b[0;34m\u001b[0m\u001b[0;34m\u001b[0m\u001b[0m\n\u001b[1;32m    228\u001b[0m     \u001b[0;32mif\u001b[0m \u001b[0mblock\u001b[0m\u001b[0;34m:\u001b[0m\u001b[0;34m\u001b[0m\u001b[0;34m\u001b[0m\u001b[0m\n",
      "\u001b[0;32m/opt/anaconda3/lib/python3.9/subprocess.py\u001b[0m in \u001b[0;36mcheck_call\u001b[0;34m(*popenargs, **kwargs)\u001b[0m\n\u001b[1;32m    371\u001b[0m         \u001b[0;32mif\u001b[0m \u001b[0mcmd\u001b[0m \u001b[0;32mis\u001b[0m \u001b[0;32mNone\u001b[0m\u001b[0;34m:\u001b[0m\u001b[0;34m\u001b[0m\u001b[0;34m\u001b[0m\u001b[0m\n\u001b[1;32m    372\u001b[0m             \u001b[0mcmd\u001b[0m \u001b[0;34m=\u001b[0m \u001b[0mpopenargs\u001b[0m\u001b[0;34m[\u001b[0m\u001b[0;36m0\u001b[0m\u001b[0;34m]\u001b[0m\u001b[0;34m\u001b[0m\u001b[0;34m\u001b[0m\u001b[0m\n\u001b[0;32m--> 373\u001b[0;31m         \u001b[0;32mraise\u001b[0m \u001b[0mCalledProcessError\u001b[0m\u001b[0;34m(\u001b[0m\u001b[0mretcode\u001b[0m\u001b[0;34m,\u001b[0m \u001b[0mcmd\u001b[0m\u001b[0;34m)\u001b[0m\u001b[0;34m\u001b[0m\u001b[0;34m\u001b[0m\u001b[0m\n\u001b[0m\u001b[1;32m    374\u001b[0m     \u001b[0;32mreturn\u001b[0m \u001b[0;36m0\u001b[0m\u001b[0;34m\u001b[0m\u001b[0;34m\u001b[0m\u001b[0m\n\u001b[1;32m    375\u001b[0m \u001b[0;34m\u001b[0m\u001b[0m\n",
      "\u001b[0;31mCalledProcessError\u001b[0m: Command '['/System/Library/Frameworks/Python.framework/Versions/2.7/bin/python', '/opt/anaconda3/lib/python3.9/site-packages/playsound.py', 'file:///Users/dev/Desktop/FYP%20Voice%20Recocgnition/predictionFile/topredict.wav']' returned non-zero exit status 1."
     ]
    }
   ],
   "source": [
    "from playsound import playsound\n",
    "playsound(predictionFile)\n"
   ]
  },
  {
   "cell_type": "code",
   "execution_count": 44,
   "id": "f6969d13",
   "metadata": {},
   "outputs": [],
   "source": [
    "timeSeriesValue,samplingRate=librosa.load(predictionFile)"
   ]
  },
  {
   "cell_type": "code",
   "execution_count": 45,
   "id": "4d334029",
   "metadata": {},
   "outputs": [
    {
     "name": "stdout",
     "output_type": "stream",
     "text": [
      "Mfcc extraction completed\n"
     ]
    },
    {
     "name": "stderr",
     "output_type": "stream",
     "text": [
      "/var/folders/vl/5gvmmywn0hbd2mbjs0s4sqxr0000gp/T/ipykernel_8547/1665158016.py:3: FutureWarning: Pass y=[ 1.4279647e-05 -7.6161319e-07 -2.4796112e-05 ...  3.6567025e-04\n",
      "  3.6772183e-04  4.2962065e-04] as keyword args. From version 0.10 passing these as positional arguments will result in an error\n",
      "  mfccs.append(librosa.feature.mfcc(timeSeriesValue, n_mfcc=13,sr=samplingRate).T)\n"
     ]
    }
   ],
   "source": [
    "import numpy as np\n",
    "mfccs=[]\n",
    "mfccs.append(librosa.feature.mfcc(timeSeriesValue, n_mfcc=13,sr=samplingRate).T)\n",
    "print(\"Mfcc extraction completed\")"
   ]
  },
  {
   "cell_type": "code",
   "execution_count": 46,
   "id": "b5e6b85b",
   "metadata": {},
   "outputs": [
    {
     "name": "stdout",
     "output_type": "stream",
     "text": [
      "(13, 108)\n"
     ]
    }
   ],
   "source": [
    "print(np.shape(mfccs[0].T))"
   ]
  },
  {
   "cell_type": "code",
   "execution_count": 47,
   "id": "d1611640",
   "metadata": {},
   "outputs": [],
   "source": [
    "from tensorflow import keras\n",
    "modelFileName=\"lstm5_PL_150_370.h5\"\n",
    "modelstm = keras.models.load_model(\"savedModels/\"+modelFileName)"
   ]
  },
  {
   "cell_type": "code",
   "execution_count": 48,
   "id": "8bc0eef8",
   "metadata": {},
   "outputs": [
    {
     "name": "stdout",
     "output_type": "stream",
     "text": [
      "Model: \"sequential\"\n",
      "_________________________________________________________________\n",
      " Layer (type)                Output Shape              Param #   \n",
      "=================================================================\n",
      " lstm (LSTM)                 (None, 108, 108)          52704     \n",
      "                                                                 \n",
      " lstm_1 (LSTM)               (None, 32)                18048     \n",
      "                                                                 \n",
      " dense (Dense)               (None, 14)                462       \n",
      "                                                                 \n",
      "=================================================================\n",
      "Total params: 71,214\n",
      "Trainable params: 71,214\n",
      "Non-trainable params: 0\n",
      "_________________________________________________________________\n"
     ]
    }
   ],
   "source": [
    "modelstm.summary()"
   ]
  },
  {
   "cell_type": "code",
   "execution_count": 49,
   "id": "585a88d4",
   "metadata": {},
   "outputs": [
    {
     "name": "stdout",
     "output_type": "stream",
     "text": [
      "(1, 108, 13)\n"
     ]
    }
   ],
   "source": [
    "temp=[]\n",
    "temp.append(mfccs[0])\n",
    "\n",
    "print(np.shape(temp))"
   ]
  },
  {
   "cell_type": "code",
   "execution_count": 50,
   "id": "91f9841b",
   "metadata": {},
   "outputs": [
    {
     "name": "stdout",
     "output_type": "stream",
     "text": [
      "[7]\n"
     ]
    }
   ],
   "source": [
    "y_probLstm=modelstm.predict(np.array(temp))\n",
    "y_classesLstm = y_probLstm.argmax(axis=-1)\n",
    "\n",
    "print(y_classesLstm)"
   ]
  },
  {
   "cell_type": "code",
   "execution_count": 5,
   "id": "7243195b",
   "metadata": {},
   "outputs": [
    {
     "name": "stdout",
     "output_type": "stream",
     "text": [
      "Recording started\n",
      "Recording end\n"
     ]
    },
    {
     "name": "stderr",
     "output_type": "stream",
     "text": [
      "/var/folders/vl/5gvmmywn0hbd2mbjs0s4sqxr0000gp/T/ipykernel_1592/2795562719.py:28: FutureWarning: Pass y=[ 1.4279647e-05 -7.6161319e-07 -2.4796112e-05 ...  3.2456906e-04\n",
      "  3.6335754e-04  4.1806293e-04] as keyword args. From version 0.10 passing these as positional arguments will result in an error\n",
      "  mfccs.append(librosa.feature.mfcc(timeSeriesValue, n_mfcc=13,sr=samplingRate).T)\n"
     ]
    },
    {
     "name": "stdout",
     "output_type": "stream",
     "text": [
      "Mfcc extraction completed\n",
      "(13, 108)\n",
      "Model: \"sequential\"\n",
      "_________________________________________________________________\n",
      " Layer (type)                Output Shape              Param #   \n",
      "=================================================================\n",
      " lstm (LSTM)                 (None, 108, 108)          52704     \n",
      "                                                                 \n",
      " lstm_1 (LSTM)               (None, 32)                18048     \n",
      "                                                                 \n",
      " dense (Dense)               (None, 14)                462       \n",
      "                                                                 \n",
      "=================================================================\n",
      "Total params: 71,214\n",
      "Trainable params: 71,214\n",
      "Non-trainable params: 0\n",
      "_________________________________________________________________\n",
      "Model: \"sequential_1\"\n",
      "_________________________________________________________________\n",
      " Layer (type)                Output Shape              Param #   \n",
      "=================================================================\n",
      " bidirectional (Bidirectiona  (None, 108, 216)         105408    \n",
      " l)                                                              \n",
      "                                                                 \n",
      " bidirectional_1 (Bidirectio  (None, 64)               63744     \n",
      " nal)                                                            \n",
      "                                                                 \n",
      " dense_1 (Dense)             (None, 14)                910       \n",
      "                                                                 \n",
      "=================================================================\n",
      "Total params: 170,062\n",
      "Trainable params: 170,062\n",
      "Non-trainable params: 0\n",
      "_________________________________________________________________\n",
      "(1, 108, 13)\n",
      "WARNING:tensorflow:5 out of the last 5 calls to <function Model.make_predict_function.<locals>.predict_function at 0x7fc5f004cee0> triggered tf.function retracing. Tracing is expensive and the excessive number of tracings could be due to (1) creating @tf.function repeatedly in a loop, (2) passing tensors with different shapes, (3) passing Python objects instead of tensors. For (1), please define your @tf.function outside of the loop. For (2), @tf.function has experimental_relax_shapes=True option that relaxes argument shapes that can avoid unnecessary retracing. For (3), please refer to https://www.tensorflow.org/guide/function#controlling_retracing and https://www.tensorflow.org/api_docs/python/tf/function for  more details.\n",
      "[7]\n",
      "WARNING:tensorflow:6 out of the last 6 calls to <function Model.make_predict_function.<locals>.predict_function at 0x7fc5ed2f4280> triggered tf.function retracing. Tracing is expensive and the excessive number of tracings could be due to (1) creating @tf.function repeatedly in a loop, (2) passing tensors with different shapes, (3) passing Python objects instead of tensors. For (1), please define your @tf.function outside of the loop. For (2), @tf.function has experimental_relax_shapes=True option that relaxes argument shapes that can avoid unnecessary retracing. For (3), please refer to https://www.tensorflow.org/guide/function#controlling_retracing and https://www.tensorflow.org/api_docs/python/tf/function for  more details.\n",
      "[7]\n"
     ]
    }
   ],
   "source": [
    "# https://realpython.com/playing-and-recording-sound-python/\n",
    "\n",
    "fs = 44100  # Sample rate\n",
    "seconds = 1.5  # Duration of recording\n",
    "print(\"Recording started\")\n",
    "myrecording = sd.rec(int(seconds * fs), samplerate=fs, channels=2)\n",
    "sd.wait()  # Wait until recording is finished\n",
    "write('predictionFile/topredict.wav', fs, myrecording)  # Save as WAV file \n",
    "print(\"Recording end\")\n",
    "\n",
    "\n",
    "audioFilesNew=[]\n",
    "# from pydub import AudioSegment\n",
    "# for item in audioFiles:\n",
    "background='VoiceData/BackgoundNoises_PostLoudnessMani/room.wav'\n",
    "predictionFile='predictionFile/topredict.wav'\n",
    "sound1 = AudioSegment.from_wav(predictionFile)\n",
    "combined_sounds = AudioSegment.from_wav(background).overlay(sound1)\n",
    "combined_sounds.export(predictionFile, format=\"wav\")\n",
    "\n",
    "# for item in audioFilesNew:\n",
    "#     print(librosa.get_duration(filename=item))\n",
    "\n",
    "\n",
    "timeSeriesValue,samplingRate=librosa.load(predictionFile)\n",
    "import numpy as np\n",
    "mfccs=[]\n",
    "mfccs.append(librosa.feature.mfcc(timeSeriesValue, n_mfcc=13,sr=samplingRate).T)\n",
    "print(\"Mfcc extraction completed\")\n",
    "\n",
    "print(np.shape(mfccs[0].T))\n",
    "\n",
    "from tensorflow import keras\n",
    "modelFileName=\"lstm5_PL_150_370.h5\"\n",
    "modelstm = keras.models.load_model(\"savedModels/\"+modelFileName)\n",
    "modebilstm = keras.models.load_model(\"savedModels/biLstm5_PL_100_370.h5\")\n",
    "\n",
    "modelstm.summary()\n",
    "modebilstm.summary()\n",
    "temp=[]\n",
    "temp.append(mfccs[0])\n",
    "\n",
    "print(np.shape(temp))\n",
    "\n",
    "y_probLstm=modelstm.predict(np.array(temp))\n",
    "y_classesLstm = y_probLstm.argmax(axis=-1)\n",
    "\n",
    "print(y_classesLstm)\n",
    "\n",
    "y_probLstm=modebilstm.predict(np.array(temp))\n",
    "y_classesLstm = y_probLstm.argmax(axis=-1)\n",
    "\n",
    "print(y_classesLstm)\n"
   ]
  },
  {
   "cell_type": "markdown",
   "id": "37d828ce",
   "metadata": {},
   "source": [
    "0. Start\n",
    "1. Stop\n",
    "2. Change Lane\n",
    "3. Turn left\n",
    "4. Turn Right\n",
    "5. Speed Up\n",
    "6. Speed Down\n",
    "7. Chalo\n",
    "8. Ruk jao\n",
    "9. Lane badlo\n",
    "10. Bayain Muro\n",
    "11. Dayain Muro\n",
    "12. Tez chalo\n",
    "13. Ahista Chalo"
   ]
  }
 ],
 "metadata": {
  "kernelspec": {
   "display_name": "Python 3 (ipykernel)",
   "language": "python",
   "name": "python3"
  },
  "language_info": {
   "codemirror_mode": {
    "name": "ipython",
    "version": 3
   },
   "file_extension": ".py",
   "mimetype": "text/x-python",
   "name": "python",
   "nbconvert_exporter": "python",
   "pygments_lexer": "ipython3",
   "version": "3.9.7"
  }
 },
 "nbformat": 4,
 "nbformat_minor": 5
}
