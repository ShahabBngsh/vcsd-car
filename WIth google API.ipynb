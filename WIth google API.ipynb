{
 "cells": [
  {
   "cell_type": "markdown",
   "id": "793b79de",
   "metadata": {},
   "source": [
    "<h2>Installations</h2>\n",
    "<ul>\n",
    "<li>SpeechRecognition</li>\n",
    "<li>pyaudio</li>\n",
    "<ul>"
   ]
  },
  {
   "cell_type": "markdown",
   "id": "fbef0fa7",
   "metadata": {},
   "source": [
    "<h2>Microphone + Audio to text</h2>"
   ]
  },
  {
   "cell_type": "markdown",
   "id": "76b6fa18",
   "metadata": {},
   "source": [
    "<h3>To detect mic</h3>\n",
    "<p>https://www.codespeedy.com/print-mic-name-device-id-in-python/<p>"
   ]
  },
  {
   "cell_type": "code",
   "execution_count": 8,
   "id": "211bc5cf",
   "metadata": {},
   "outputs": [
    {
     "name": "stdout",
     "output_type": "stream",
     "text": [
      "['Built-in Microphone', 'Built-in Output']\n"
     ]
    }
   ],
   "source": [
    "import speech_recognition as s_r\n",
    "print(s_r.Microphone.list_microphone_names()) #print all the microphones connected to your machine\n"
   ]
  },
  {
   "cell_type": "code",
   "execution_count": 3,
   "id": "9c0e766c",
   "metadata": {},
   "outputs": [
    {
     "name": "stdout",
     "output_type": "stream",
     "text": [
      "3.8.1\n",
      "Say now!!!!\n",
      "change name\n"
     ]
    }
   ],
   "source": [
    "import speech_recognition as s_r\n",
    "print(s_r.__version__) # just to print the version not requirde\n",
    "r = s_r.Recognizer()\n",
    "my_mic = s_r.Microphone(device_index=0) #my device index is 1, you have to put your device index\n",
    "with my_mic as source:\n",
    "    print(\"Say now!!!!\")\n",
    "    audio = r.listen(source,phrase_time_limit=2.5) #take voice input from the microphone\n",
    "print(r.recognize_google(audio)) #to print voice into text"
   ]
  },
  {
   "cell_type": "code",
   "execution_count": 31,
   "id": "c374a652",
   "metadata": {},
   "outputs": [
    {
     "name": "stdout",
     "output_type": "stream",
     "text": [
      "<speech_recognition.AudioData object at 0x7fe41a503c10>\n"
     ]
    },
    {
     "ename": "AttributeError",
     "evalue": "'AudioData' object has no attribute 'channels'",
     "output_type": "error",
     "traceback": [
      "\u001b[0;31m---------------------------------------------------------------------------\u001b[0m",
      "\u001b[0;31mAttributeError\u001b[0m                            Traceback (most recent call last)",
      "\u001b[0;32m/var/folders/vl/5gvmmywn0hbd2mbjs0s4sqxr0000gp/T/ipykernel_7537/3090181708.py\u001b[0m in \u001b[0;36m<module>\u001b[0;34m\u001b[0m\n\u001b[1;32m      2\u001b[0m \u001b[0;32mfrom\u001b[0m \u001b[0mpydub\u001b[0m\u001b[0;34m.\u001b[0m\u001b[0mplayback\u001b[0m \u001b[0;32mimport\u001b[0m \u001b[0mplay\u001b[0m\u001b[0;34m\u001b[0m\u001b[0;34m\u001b[0m\u001b[0m\n\u001b[1;32m      3\u001b[0m \u001b[0mprint\u001b[0m\u001b[0;34m(\u001b[0m\u001b[0maudio\u001b[0m\u001b[0;34m)\u001b[0m\u001b[0;34m\u001b[0m\u001b[0;34m\u001b[0m\u001b[0m\n\u001b[0;32m----> 4\u001b[0;31m \u001b[0mplay\u001b[0m\u001b[0;34m(\u001b[0m\u001b[0maudio\u001b[0m\u001b[0;34m)\u001b[0m\u001b[0;34m\u001b[0m\u001b[0;34m\u001b[0m\u001b[0m\n\u001b[0m",
      "\u001b[0;32m/opt/anaconda3/lib/python3.9/site-packages/pydub/playback.py\u001b[0m in \u001b[0;36mplay\u001b[0;34m(audio_segment)\u001b[0m\n\u001b[1;32m     62\u001b[0m \u001b[0;34m\u001b[0m\u001b[0m\n\u001b[1;32m     63\u001b[0m     \u001b[0;32mtry\u001b[0m\u001b[0;34m:\u001b[0m\u001b[0;34m\u001b[0m\u001b[0;34m\u001b[0m\u001b[0m\n\u001b[0;32m---> 64\u001b[0;31m         \u001b[0m_play_with_pyaudio\u001b[0m\u001b[0;34m(\u001b[0m\u001b[0maudio_segment\u001b[0m\u001b[0;34m)\u001b[0m\u001b[0;34m\u001b[0m\u001b[0;34m\u001b[0m\u001b[0m\n\u001b[0m\u001b[1;32m     65\u001b[0m         \u001b[0;32mreturn\u001b[0m\u001b[0;34m\u001b[0m\u001b[0;34m\u001b[0m\u001b[0m\n\u001b[1;32m     66\u001b[0m     \u001b[0;32mexcept\u001b[0m \u001b[0mImportError\u001b[0m\u001b[0;34m:\u001b[0m\u001b[0;34m\u001b[0m\u001b[0;34m\u001b[0m\u001b[0m\n",
      "\u001b[0;32m/opt/anaconda3/lib/python3.9/site-packages/pydub/playback.py\u001b[0m in \u001b[0;36m_play_with_pyaudio\u001b[0;34m(seg)\u001b[0m\n\u001b[1;32m     22\u001b[0m     \u001b[0mp\u001b[0m \u001b[0;34m=\u001b[0m \u001b[0mpyaudio\u001b[0m\u001b[0;34m.\u001b[0m\u001b[0mPyAudio\u001b[0m\u001b[0;34m(\u001b[0m\u001b[0;34m)\u001b[0m\u001b[0;34m\u001b[0m\u001b[0;34m\u001b[0m\u001b[0m\n\u001b[1;32m     23\u001b[0m     stream = p.open(format=p.get_format_from_width(seg.sample_width),\n\u001b[0;32m---> 24\u001b[0;31m                     \u001b[0mchannels\u001b[0m\u001b[0;34m=\u001b[0m\u001b[0mseg\u001b[0m\u001b[0;34m.\u001b[0m\u001b[0mchannels\u001b[0m\u001b[0;34m,\u001b[0m\u001b[0;34m\u001b[0m\u001b[0;34m\u001b[0m\u001b[0m\n\u001b[0m\u001b[1;32m     25\u001b[0m                     \u001b[0mrate\u001b[0m\u001b[0;34m=\u001b[0m\u001b[0mseg\u001b[0m\u001b[0;34m.\u001b[0m\u001b[0mframe_rate\u001b[0m\u001b[0;34m,\u001b[0m\u001b[0;34m\u001b[0m\u001b[0;34m\u001b[0m\u001b[0m\n\u001b[1;32m     26\u001b[0m                     output=True)\n",
      "\u001b[0;31mAttributeError\u001b[0m: 'AudioData' object has no attribute 'channels'"
     ]
    }
   ],
   "source": [
    "from pydub import AudioSegment\n",
    "from pydub.playback import play\n",
    "print(audio)\n",
    "play(audio)"
   ]
  },
  {
   "cell_type": "code",
   "execution_count": 14,
   "id": "d88ba45f",
   "metadata": {},
   "outputs": [
    {
     "name": "stdout",
     "output_type": "stream",
     "text": [
      "[[ 0.          0.        ]\n",
      " [ 0.          0.        ]\n",
      " [ 0.          0.        ]\n",
      " ...\n",
      " [-0.0219734  -0.0219734 ]\n",
      " [-0.02201091 -0.02201091]\n",
      " [-0.02183599 -0.02183599]]\n"
     ]
    }
   ],
   "source": [
    "# https://www.geeksforgeeks.org/create-a-voice-recorder-using-python/\n",
    "\n",
    "import sounddevice as sd\n",
    "from scipy.io.wavfile import write\n",
    "import wavio as wv\n",
    "  \n",
    "# Sampling frequency\n",
    "freq = 44100\n",
    "  \n",
    "# Recording duration\n",
    "duration = 2.5\n",
    "  \n",
    "# Start recorder with the given values \n",
    "# of duration and sample frequency\n",
    "recording = sd.rec(int(duration * freq), \n",
    "                   samplerate=freq, channels=2)\n",
    "  \n",
    "# Record audio for the given number of seconds\n",
    "sd.wait()\n",
    "print(recording)\n",
    "# This will convert the NumPy array to an audio\n",
    "# file with the given sampling frequency\n",
    "# write(\"recording0.wav\", freq, recording)\n",
    "  \n",
    "# # Convert the NumPy array to audio file\n",
    "wv.write(\"Prediction File/topredict.wav\", recording, freq, sampwidth=2)\n",
    "sound1 = AudioSegment.from_wav(\"Prediction File/topredict.wav\")"
   ]
  },
  {
   "cell_type": "code",
   "execution_count": 13,
   "id": "e2c716ab",
   "metadata": {},
   "outputs": [
    {
     "name": "stdout",
     "output_type": "stream",
     "text": [
      "Say Something\n",
      "you said: hello\n"
     ]
    }
   ],
   "source": [
    "#Python 2.x program for Speech Recognition\n",
    "  \n",
    "import speech_recognition as sr\n",
    "  \n",
    "#enter the name of usb microphone that you found\n",
    "#using lsusb\n",
    "#the following name is only used as an example\n",
    "mic_name = \"Built-in Microphone\"\n",
    "#Sample rate is how often values are recorded\n",
    "sample_rate = 48000\n",
    "#Chunk is like a buffer. It stores 2048 samples (bytes of data)\n",
    "#here. \n",
    "#it is advisable to use powers of 2 such as 1024 or 2048\n",
    "chunk_size = 2048\n",
    "#Initialize the recognizer\n",
    "r = sr.Recognizer()\n",
    "  \n",
    "#generate a list of all audio cards/microphones\n",
    "mic_list = sr.Microphone.list_microphone_names()\n",
    "  \n",
    "#the following loop aims to set the device ID of the mic that\n",
    "#we specifically want to use to avoid ambiguity.\n",
    "for i, microphone_name in enumerate(mic_list):\n",
    "    if microphone_name == mic_name:\n",
    "        device_id = i\n",
    "  \n",
    "#use the microphone as source for input. Here, we also specify \n",
    "#which device ID to specifically look for incase the microphone \n",
    "#is not working, an error will pop up saying \"device_id undefined\"\n",
    "with sr.Microphone(device_index = device_id, sample_rate = sample_rate, \n",
    "                        chunk_size = chunk_size) as source:\n",
    "    #wait for a second to let the recognizer adjust the \n",
    "    #energy threshold based on the surrounding noise level\n",
    "    r.adjust_for_ambient_noise(source)\n",
    "    print (\"Say Something\")\n",
    "    #listens for the user's input\n",
    "    audio = r.listen(source)\n",
    "          \n",
    "    try:\n",
    "        text = r.recognize_google(audio)\n",
    "        print (\"you said: \" + text)\n",
    "      \n",
    "    #error occurs when google could not understand what was said\n",
    "      \n",
    "    except sr.UnknownValueError:\n",
    "        print(\"Google Speech Recognition could not understand audio\")\n",
    "      \n",
    "    except sr.RequestError as e:\n",
    "        print(\"Could not request results from Google Speech Recognition service; {0}\".format(e))"
   ]
  },
  {
   "cell_type": "markdown",
   "id": "4a913bc2",
   "metadata": {},
   "source": [
    "<h2>Audio file to text</h2>"
   ]
  },
  {
   "cell_type": "markdown",
   "id": "55144cc6",
   "metadata": {},
   "source": [
    "This works for WAV, AIFF, of FLAC files"
   ]
  },
  {
   "cell_type": "code",
   "execution_count": null,
   "id": "e4d7d38c",
   "metadata": {},
   "outputs": [],
   "source": [
    "#Python 2.x program to transcribe an Audio file\n",
    "import speech_recognition as sr\n",
    "\n",
    "AUDIO_FILE = (\"example.wav\")\n",
    "\n",
    "# use the audio file as the audio source\n",
    "\n",
    "r = sr.Recognizer()\n",
    "\n",
    "with sr.AudioFile(AUDIO_FILE) as source:\n",
    "#reads the audio file. Here we use record instead of\n",
    "#listen\n",
    "audio = r.record(source)\n",
    "\n",
    "try:\n",
    "    print(\"The audio file contains: \" + r.recognize_google(audio))\n",
    "\n",
    "except sr.UnknownValueError:\n",
    "    print(\"Google Speech Recognition could not understand audio\")\n",
    "\n",
    "except sr.RequestError as e:\n",
    "    print(\"Could not request results from Google Speech\n",
    "        Recognition service; {0}\".format(e))\n"
   ]
  }
 ],
 "metadata": {
  "kernelspec": {
   "display_name": "Python 3 (ipykernel)",
   "language": "python",
   "name": "python3"
  },
  "language_info": {
   "codemirror_mode": {
    "name": "ipython",
    "version": 3
   },
   "file_extension": ".py",
   "mimetype": "text/x-python",
   "name": "python",
   "nbconvert_exporter": "python",
   "pygments_lexer": "ipython3",
   "version": "3.9.7"
  }
 },
 "nbformat": 4,
 "nbformat_minor": 5
}
