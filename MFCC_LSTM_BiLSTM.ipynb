{
 "cells": [
  {
   "cell_type": "markdown",
   "id": "85dd6830",
   "metadata": {},
   "source": [
    "0. Start\n",
    "1. Stop\n",
    "2. Change Lane\n",
    "3. Turn left\n",
    "4. Turn Right\n",
    "5. Speed Up\n",
    "6. Speed Down\n",
    "7. Chalo\n",
    "8. Ruk jao\n",
    "9. Lane badlo\n",
    "10. Bayain Muro\n",
    "11. Dayain Muro\n",
    "12. Tez chalo\n",
    "13. Ahista Chalo"
   ]
  },
  {
   "cell_type": "markdown",
   "id": "2c9a6440",
   "metadata": {},
   "source": [
    "# This notebook does following things\n",
    "# 1. loads preprocessed same length audio files\n",
    "# 2. Extracting audio time series and sampling rate from each audio\n",
    "# 3. Using audio time series and sampling rate to extract mfccs\n",
    "# 4. Splitting mfccs into train and test data\n",
    "# 5. Developing two models Lstm and Bilstm\n"
   ]
  },
  {
   "cell_type": "code",
   "execution_count": 12,
   "id": "2839a1ae",
   "metadata": {},
   "outputs": [
    {
     "name": "stdout",
     "output_type": "stream",
     "text": [
      "Loading is completed Done\n"
     ]
    }
   ],
   "source": [
    "import librosa\n",
    "audioLength=2.5\n",
    "filesBasicPath='VoiceData/sameLengthCommands/'\n",
    "audioFileLength=[]\n",
    "audio_path_ahistaChalo=[]\n",
    "audio_path_bayainMuro=[]\n",
    "audio_path_chalo=[]\n",
    "audio_path_changeLane=[]\n",
    "audio_path_dayainMuro=[]\n",
    "audio_path_laneBadlo=[]\n",
    "audio_path_rukJao=[]\n",
    "audio_path_speedDown=[]\n",
    "audio_path_speedUp=[]\n",
    "audio_path_start=[]\n",
    "audio_path_stop=[]\n",
    "audio_path_tezChalo=[]\n",
    "audio_path_turnLeft=[]\n",
    "audio_path_turnRight=[]\n",
    "numberOfCommands=85\n",
    "for i in range(1,numberOfCommands+1):\n",
    "    if i!=39 and i!=66 and i!=83:\n",
    "        if librosa.get_duration(filename=filesBasicPath+str(i)+'/ahista chalo.wav')<=audioLength:\n",
    "            audio_path_ahistaChalo.append(filesBasicPath+str(i)+'/ahista chalo.wav')\n",
    "            audioFileLength.append(librosa.get_duration(filename=filesBasicPath+str(i)+'/ahista chalo.wav'))\n",
    "    if i!=46 and i!=39:  \n",
    "        if librosa.get_duration(filename=filesBasicPath+str(i)+'/bayain muro.wav')<=audioLength:\n",
    "            audio_path_bayainMuro.append(filesBasicPath+str(i)+'/bayain muro.wav')\n",
    "            audioFileLength.append(librosa.get_duration(filename=filesBasicPath+str(i)+'/bayain muro.wav'))\n",
    "    if i!=46 and i!=39:    \n",
    "        if librosa.get_duration(filename=filesBasicPath+str(i)+'/chalo.wav')<=2.5:\n",
    "            audio_path_chalo.append(filesBasicPath+str(i)+'/chalo.wav')\n",
    "            audioFileLength.append(librosa.get_duration(filename=filesBasicPath+str(i)+'/chalo.wav'))\n",
    "    if i!=46 and i!=39:\n",
    "        if librosa.get_duration(filename=filesBasicPath+str(i)+'/dayain muro.wav')<=audioLength:\n",
    "            audio_path_dayainMuro.append(filesBasicPath+str(i)+'/dayain muro.wav')\n",
    "            audioFileLength.append(librosa.get_duration(filename=filesBasicPath+str(i)+'/dayain muro.wav'))\n",
    "    if i!=27 and i!=62 and i!=39 and i!=74:\n",
    "        if librosa.get_duration(filename=filesBasicPath+str(i)+'/ruk jao.wav')<=audioLength:\n",
    "            audio_path_rukJao.append(filesBasicPath+str(i)+'/ruk jao.wav')\n",
    "            audioFileLength.append(librosa.get_duration(filename=filesBasicPath+str(i)+'/ruk jao.wav'))\n",
    "    if i!=5 and i!=18 and i!=19 and i!=39 and i!=74 and i!=83:\n",
    "        if librosa.get_duration(filename=filesBasicPath+str(i)+'/tez chalo.wav')<=audioLength:\n",
    "            audio_path_tezChalo.append(filesBasicPath+str(i)+'/tez chalo.wav')\n",
    "            audioFileLength.append(librosa.get_duration(filename=filesBasicPath+str(i)+'/tez chalo.wav'))\n",
    "    if i!=25 and i!=37 and i!=36 and i!=38 and i!=53 and i!=39:\n",
    "        if librosa.get_duration(filename=filesBasicPath+str(i)+'/lane badlo.wav')<=audioLength:\n",
    "            audio_path_laneBadlo.append(filesBasicPath+str(i)+'/lane badlo.wav')\n",
    "            audioFileLength.append(librosa.get_duration(filename=filesBasicPath+str(i)+'/lane badlo.wav'))\n",
    "    if i!=36 and i!=38:  \n",
    "        if librosa.get_duration(filename=filesBasicPath+str(i)+'/change lane.wav')<=audioLength:\n",
    "            audio_path_changeLane.append(filesBasicPath+str(i)+'/change lane.wav')\n",
    "            audioFileLength.append(librosa.get_duration(filename=filesBasicPath+str(i)+'/change lane.wav'))\n",
    "    if i!=46 and i!=51:\n",
    "        if librosa.get_duration(filename=filesBasicPath+str(i)+'/speed down.wav')<=audioLength:\n",
    "            audio_path_speedDown.append(filesBasicPath+str(i)+'/speed down.wav')\n",
    "            audioFileLength.append(librosa.get_duration(filename=filesBasicPath+str(i)+'/speed down.wav'))\n",
    "    if i!=26:\n",
    "        if librosa.get_duration(filename=filesBasicPath+str(i)+'/speed up.wav')<=audioLength:\n",
    "            audio_path_speedUp.append(filesBasicPath+str(i)+'/speed up.wav')\n",
    "            audioFileLength.append(librosa.get_duration(filename=filesBasicPath+str(i)+'/speed up.wav'))\n",
    "    if i!=10 and i!=38 and i!=39 and i!=43 and i!=44 and i!=55:\n",
    "        if librosa.get_duration(filename=filesBasicPath+str(i)+'/start.wav')<=audioLength:\n",
    "            audio_path_start.append(filesBasicPath+str(i)+'/start.wav')\n",
    "            audioFileLength.append(librosa.get_duration(filename=filesBasicPath+str(i)+'/start.wav'))\n",
    "    if i!=10 and i!=36 and i!=43:\n",
    "        if librosa.get_duration(filename=filesBasicPath+str(i)+'/stop.wav')<=audioLength:\n",
    "            audio_path_stop.append(filesBasicPath+str(i)+'/stop.wav')\n",
    "            audioFileLength.append(librosa.get_duration(filename=filesBasicPath+str(i)+'/stop.wav'))\n",
    "    if i!=36 and i!=38:\n",
    "        if librosa.get_duration(filename=filesBasicPath+str(i)+'/turn left.wav')<=audioLength:\n",
    "            audio_path_turnLeft.append(filesBasicPath+str(i)+'/turn left.wav')\n",
    "            audioFileLength.append(librosa.get_duration(filename=filesBasicPath+str(i)+'/turn left.wav'))\n",
    "    if i!=38 and i!=10 and i!=74:\n",
    "        if librosa.get_duration(filename=filesBasicPath+str(i)+'/turn right.wav')<=audioLength:\n",
    "            audio_path_turnRight.append(filesBasicPath+str(i)+'/turn right.wav')\n",
    "            audioFileLength.append(librosa.get_duration(filename=filesBasicPath+str(i)+'/turn right.wav'))\n",
    "print(\"Loading is completed Done\")\n"
   ]
  },
  {
   "cell_type": "code",
   "execution_count": 13,
   "id": "4cbc049b",
   "metadata": {},
   "outputs": [
    {
     "name": "stdout",
     "output_type": "stream",
     "text": [
      "1086\n"
     ]
    }
   ],
   "source": [
    "print(len(audioFileLength))#1146 files originally"
   ]
  },
  {
   "cell_type": "code",
   "execution_count": 14,
   "id": "9ca5195f",
   "metadata": {},
   "outputs": [
    {
     "name": "stdout",
     "output_type": "stream",
     "text": [
      "2.5\n",
      "2.5\n"
     ]
    }
   ],
   "source": [
    "print(max(audioFileLength))\n",
    "print(min(audioFileLength))"
   ]
  },
  {
   "cell_type": "markdown",
   "id": "4496e806",
   "metadata": {},
   "source": [
    "<h1>Following code is extracting</h1>\n",
    "<h2>1. Audio time series</h2>\n",
    "<h2>2. Sampling rate</h2>"
   ]
  },
  {
   "cell_type": "code",
   "execution_count": 17,
   "id": "ac381561",
   "metadata": {},
   "outputs": [
    {
     "name": "stdout",
     "output_type": "stream",
     "text": [
      "74\n"
     ]
    }
   ],
   "source": [
    "count=1\n",
    "x_ahistaChalo=[]\n",
    "sr_ahistaChalo=[]\n",
    "for i in range(0,len(audio_path_ahistaChalo)):\n",
    "    x1,sr1=librosa.load(audio_path_ahistaChalo[i])\n",
    "    x_ahistaChalo.append(x1)\n",
    "    sr_ahistaChalo.append(sr1)\n",
    "    count+=1\n",
    "    \n",
    "print(len(x_ahistaChalo))"
   ]
  },
  {
   "cell_type": "code",
   "execution_count": 18,
   "id": "20e24819",
   "metadata": {},
   "outputs": [
    {
     "name": "stdout",
     "output_type": "stream",
     "text": [
      "80\n"
     ]
    }
   ],
   "source": [
    "count=1\n",
    "x1=0\n",
    "s1=0\n",
    "x_bayainMuro=[]\n",
    "sr_bayainMuro=[]\n",
    "for i in range(0,len(audio_path_bayainMuro)):\n",
    "    x1,sr1=librosa.load(audio_path_bayainMuro[i])\n",
    "    x_bayainMuro.append(x1)\n",
    "    sr_bayainMuro.append(sr1)\n",
    "    count+=1\n",
    "print(len(x_bayainMuro))"
   ]
  },
  {
   "cell_type": "code",
   "execution_count": 19,
   "id": "a5cf2575",
   "metadata": {},
   "outputs": [
    {
     "name": "stdout",
     "output_type": "stream",
     "text": [
      "70\n"
     ]
    }
   ],
   "source": [
    "count=1\n",
    "x_laneBadlo=[]\n",
    "sr_laneBadlo=[]\n",
    "for i in range(0,len(audio_path_laneBadlo)):\n",
    "    x1,sr1=librosa.load(audio_path_laneBadlo[i])\n",
    "    x_laneBadlo.append(x1)\n",
    "    sr_laneBadlo.append(sr1)\n",
    "    count+=1\n",
    "print(len(x_laneBadlo))"
   ]
  },
  {
   "cell_type": "code",
   "execution_count": 20,
   "id": "03772d1a",
   "metadata": {},
   "outputs": [
    {
     "name": "stdout",
     "output_type": "stream",
     "text": [
      "77\n"
     ]
    }
   ],
   "source": [
    "count=1\n",
    "x_changeLane=[]\n",
    "sr_changeLane=[]\n",
    "for i in range(0,len(audio_path_changeLane)):\n",
    "    x1,sr1=librosa.load(audio_path_changeLane[i])\n",
    "    x_changeLane.append(x1)\n",
    "    sr_changeLane.append(sr1)\n",
    "    count+=1\n",
    "print(len(x_changeLane))"
   ]
  },
  {
   "cell_type": "code",
   "execution_count": 21,
   "id": "11716042",
   "metadata": {},
   "outputs": [
    {
     "name": "stdout",
     "output_type": "stream",
     "text": [
      "82\n"
     ]
    }
   ],
   "source": [
    "count=1\n",
    "x_chalo=[]\n",
    "sr_chalo=[]\n",
    "for i in range(0,len(audio_path_chalo)):\n",
    "    x1,sr1=librosa.load(audio_path_chalo[i])\n",
    "    x_chalo.append(x1)\n",
    "    sr_chalo.append(sr1)\n",
    "    count+=1\n",
    "print(len(x_chalo))"
   ]
  },
  {
   "cell_type": "code",
   "execution_count": 22,
   "id": "4765270f",
   "metadata": {},
   "outputs": [
    {
     "name": "stdout",
     "output_type": "stream",
     "text": [
      "78\n"
     ]
    }
   ],
   "source": [
    "count=1\n",
    "x_dayainMuro=[]\n",
    "sr_dayainMuro=[]\n",
    "for i in range(0,len(audio_path_dayainMuro)):\n",
    "    x1,sr1=librosa.load(audio_path_dayainMuro[i])\n",
    "    x_dayainMuro.append(x1)\n",
    "    sr_dayainMuro.append(sr1)\n",
    "    count+=1\n",
    "print(len(x_dayainMuro))"
   ]
  },
  {
   "cell_type": "code",
   "execution_count": 23,
   "id": "c51259d6",
   "metadata": {},
   "outputs": [
    {
     "name": "stdout",
     "output_type": "stream",
     "text": [
      "78\n"
     ]
    }
   ],
   "source": [
    "count=1\n",
    "x_turnRight=[]\n",
    "sr_turnRight=[]\n",
    "for i in range(0,len(audio_path_turnRight)):\n",
    "    x1,sr1=librosa.load(audio_path_turnRight[i])\n",
    "    x_turnRight.append(x1)\n",
    "    sr_turnRight.append(sr1)\n",
    "    count+=1\n",
    "print(len(x_turnRight))"
   ]
  },
  {
   "cell_type": "code",
   "execution_count": 24,
   "id": "28dc6575",
   "metadata": {},
   "outputs": [
    {
     "name": "stdout",
     "output_type": "stream",
     "text": [
      "77\n"
     ]
    }
   ],
   "source": [
    "count=1\n",
    "x_turnLeft=[]\n",
    "sr_turnLeft=[]\n",
    "for i in range(0,len(audio_path_turnLeft)):\n",
    "    x1,sr1=librosa.load(audio_path_turnLeft[i])\n",
    "    x_turnLeft.append(x1)\n",
    "    sr_turnLeft.append(sr1)\n",
    "    count+=1\n",
    "print(len(x_turnLeft))"
   ]
  },
  {
   "cell_type": "code",
   "execution_count": 25,
   "id": "866a011c",
   "metadata": {},
   "outputs": [
    {
     "name": "stdout",
     "output_type": "stream",
     "text": [
      "75\n"
     ]
    }
   ],
   "source": [
    "count=1\n",
    "x_tezChalo=[]\n",
    "sr_tezChalo=[]\n",
    "for i in range(0,len(audio_path_tezChalo)):\n",
    "    x1,sr1=librosa.load(audio_path_tezChalo[i])\n",
    "    x_tezChalo.append(x1)\n",
    "    sr_tezChalo.append(sr1)\n",
    "    count+=1\n",
    "print(len(x_tezChalo))"
   ]
  },
  {
   "cell_type": "code",
   "execution_count": 26,
   "id": "d28de791",
   "metadata": {},
   "outputs": [
    {
     "name": "stdout",
     "output_type": "stream",
     "text": [
      "81\n"
     ]
    }
   ],
   "source": [
    "count=1\n",
    "x_stop=[]\n",
    "sr_stop=[]\n",
    "for i in range(0,len(audio_path_stop)):\n",
    "    x1,sr1=librosa.load(audio_path_stop[i])\n",
    "    x_stop.append(x1)\n",
    "    sr_stop.append(sr1)\n",
    "    count+=1\n",
    "print(len(x_stop))"
   ]
  },
  {
   "cell_type": "code",
   "execution_count": 27,
   "id": "eb60b4da",
   "metadata": {},
   "outputs": [
    {
     "name": "stdout",
     "output_type": "stream",
     "text": [
      "76\n"
     ]
    }
   ],
   "source": [
    "count=1\n",
    "x_start=[]\n",
    "sr_start=[]\n",
    "for i in range(0,len(audio_path_start)):\n",
    "    x1,sr1=librosa.load(audio_path_start[i])\n",
    "    x_start.append(x1)\n",
    "    sr_start.append(sr1)\n",
    "    count+=1\n",
    "print(len(x_start))"
   ]
  },
  {
   "cell_type": "code",
   "execution_count": 28,
   "id": "e10766cd",
   "metadata": {},
   "outputs": [
    {
     "name": "stdout",
     "output_type": "stream",
     "text": [
      "80\n"
     ]
    }
   ],
   "source": [
    "count=1\n",
    "x_speedUp=[]\n",
    "sr_speedUp=[]\n",
    "for i in range(0,len(audio_path_speedUp)):\n",
    "    x1,sr1=librosa.load(audio_path_speedUp[i])\n",
    "    x_speedUp.append(x1)\n",
    "    sr_speedUp.append(sr1)\n",
    "    count+=1\n",
    "print(len(x_speedUp))"
   ]
  },
  {
   "cell_type": "code",
   "execution_count": 29,
   "id": "25bdcd12",
   "metadata": {},
   "outputs": [
    {
     "name": "stdout",
     "output_type": "stream",
     "text": [
      "80\n"
     ]
    }
   ],
   "source": [
    "count=1\n",
    "x_speedDown=[]\n",
    "sr_speedDown=[]\n",
    "for i in range(0,len(audio_path_speedDown)):\n",
    "    x1,sr1=librosa.load(audio_path_speedDown[i])\n",
    "    x_speedDown.append(x1)\n",
    "    sr_speedDown.append(sr1)\n",
    "    count+=1\n",
    "print(len(x_speedDown))"
   ]
  },
  {
   "cell_type": "code",
   "execution_count": 30,
   "id": "b8b1f7c3",
   "metadata": {},
   "outputs": [
    {
     "name": "stdout",
     "output_type": "stream",
     "text": [
      "78\n"
     ]
    }
   ],
   "source": [
    "count=1\n",
    "x_rukJao=[]\n",
    "sr_rukJao=[]\n",
    "for i in range(0,len(audio_path_rukJao)):\n",
    "    x1,sr1=librosa.load(audio_path_rukJao[i])\n",
    "    x_rukJao.append(x1)\n",
    "    sr_rukJao.append(sr1)\n",
    "    count+=1\n",
    "print(len(x_rukJao))"
   ]
  },
  {
   "cell_type": "markdown",
   "id": "41e4aa4a",
   "metadata": {},
   "source": [
    "<h1>Following is extracting mfccs using audio time series and sampling rate</h1>"
   ]
  },
  {
   "cell_type": "code",
   "execution_count": 31,
   "id": "6ce305f8",
   "metadata": {},
   "outputs": [
    {
     "name": "stdout",
     "output_type": "stream",
     "text": [
      "(74, 13, 108)\n"
     ]
    }
   ],
   "source": [
    "import numpy as np\n",
    "mfcc_ahistaChalo=[]\n",
    "for i in range(0,len(audio_path_ahistaChalo)):\n",
    "    mfcc_ahistaChalo.append(librosa.feature.mfcc(x_ahistaChalo[i], n_mfcc=13,sr=sr_ahistaChalo[i]))\n",
    "print(np.shape(mfcc_ahistaChalo))"
   ]
  },
  {
   "cell_type": "code",
   "execution_count": 32,
   "id": "0f9d2d30",
   "metadata": {},
   "outputs": [
    {
     "name": "stdout",
     "output_type": "stream",
     "text": [
      "(80, 13, 108)\n"
     ]
    }
   ],
   "source": [
    "mfcc_bayainMuro=[]\n",
    "for i in range(0,len(audio_path_bayainMuro)):\n",
    "    mfcc_bayainMuro.append(librosa.feature.mfcc(x_bayainMuro[i], n_mfcc=13,sr=sr_bayainMuro[i]))\n",
    "print(np.shape(mfcc_bayainMuro))"
   ]
  },
  {
   "cell_type": "code",
   "execution_count": 33,
   "id": "4717fd69",
   "metadata": {},
   "outputs": [
    {
     "name": "stdout",
     "output_type": "stream",
     "text": [
      "(82, 13, 108)\n"
     ]
    }
   ],
   "source": [
    "mfcc_chalo=[]\n",
    "for i in range(0,len(audio_path_chalo)):\n",
    "    mfcc_chalo.append(librosa.feature.mfcc(x_chalo[i], n_mfcc=13,sr=sr_chalo[i]))\n",
    "print(np.shape(mfcc_chalo))"
   ]
  },
  {
   "cell_type": "code",
   "execution_count": 34,
   "id": "c368ebf2",
   "metadata": {},
   "outputs": [
    {
     "name": "stdout",
     "output_type": "stream",
     "text": [
      "(77, 13, 108)\n"
     ]
    }
   ],
   "source": [
    "mfcc_changeLane=[]\n",
    "len(x_changeLane)\n",
    "for i in range(0,len(audio_path_changeLane)):\n",
    "    mfcc_changeLane.append(librosa.feature.mfcc(x_changeLane[i], n_mfcc=13,sr=sr_changeLane[i]))\n",
    "print(np.shape(mfcc_changeLane))"
   ]
  },
  {
   "cell_type": "code",
   "execution_count": 35,
   "id": "cb07fc0b",
   "metadata": {},
   "outputs": [
    {
     "name": "stdout",
     "output_type": "stream",
     "text": [
      "(78, 13, 108)\n"
     ]
    }
   ],
   "source": [
    "mfcc_dayainMuro=[]\n",
    "for i in range(0,len(audio_path_dayainMuro)):\n",
    "    mfcc_dayainMuro.append(librosa.feature.mfcc(x_dayainMuro[i], n_mfcc=13,sr=sr_dayainMuro[i]))\n",
    "print(np.shape(mfcc_dayainMuro))"
   ]
  },
  {
   "cell_type": "code",
   "execution_count": 36,
   "id": "11b5cc0c",
   "metadata": {},
   "outputs": [
    {
     "name": "stdout",
     "output_type": "stream",
     "text": [
      "(70, 13, 108)\n"
     ]
    }
   ],
   "source": [
    "mfcc_laneBadlo=[]\n",
    "for i in range(0,len(audio_path_laneBadlo)):\n",
    "    mfcc_laneBadlo.append(librosa.feature.mfcc(x_laneBadlo[i], n_mfcc=13,sr=sr_laneBadlo[i]))\n",
    "print(np.shape(mfcc_laneBadlo))"
   ]
  },
  {
   "cell_type": "code",
   "execution_count": 37,
   "id": "4f78858f",
   "metadata": {},
   "outputs": [
    {
     "name": "stdout",
     "output_type": "stream",
     "text": [
      "(78, 13, 108)\n"
     ]
    }
   ],
   "source": [
    "mfcc_rukJao=[]\n",
    "for i in range(0,len(audio_path_rukJao)):\n",
    "    mfcc_rukJao.append(librosa.feature.mfcc(x_rukJao[i], n_mfcc=13,sr=sr_rukJao[i]))\n",
    "print(np.shape(mfcc_rukJao))"
   ]
  },
  {
   "cell_type": "code",
   "execution_count": 38,
   "id": "56bd2630",
   "metadata": {},
   "outputs": [
    {
     "name": "stdout",
     "output_type": "stream",
     "text": [
      "(80, 13, 108)\n"
     ]
    }
   ],
   "source": [
    "mfcc_speedDown=[]\n",
    "for i in range(0,len(audio_path_speedDown)):\n",
    "    mfcc_speedDown.append(librosa.feature.mfcc(x_speedDown[i], n_mfcc=13,sr=sr_speedDown[i]))\n",
    "print(np.shape(mfcc_speedDown))"
   ]
  },
  {
   "cell_type": "code",
   "execution_count": 39,
   "id": "cbe6076d",
   "metadata": {},
   "outputs": [
    {
     "name": "stdout",
     "output_type": "stream",
     "text": [
      "(80, 13, 108)\n"
     ]
    }
   ],
   "source": [
    "mfcc_speedUp=[]\n",
    "for i in range(0,len(audio_path_speedUp)):\n",
    "    mfcc_speedUp.append(librosa.feature.mfcc(x_speedUp[i], n_mfcc=13,sr=sr_speedUp[i]))\n",
    "print(np.shape(mfcc_speedUp))"
   ]
  },
  {
   "cell_type": "code",
   "execution_count": 40,
   "id": "87ebea1a",
   "metadata": {},
   "outputs": [
    {
     "name": "stdout",
     "output_type": "stream",
     "text": [
      "(81, 13, 108)\n"
     ]
    }
   ],
   "source": [
    "mfcc_stop=[]\n",
    "for i in range(0,len(audio_path_stop)):\n",
    "    mfcc_stop.append(librosa.feature.mfcc(x_stop[i], n_mfcc=13,sr=sr_stop[i]))\n",
    "print(np.shape(mfcc_stop))"
   ]
  },
  {
   "cell_type": "code",
   "execution_count": 41,
   "id": "d0360168",
   "metadata": {},
   "outputs": [
    {
     "name": "stdout",
     "output_type": "stream",
     "text": [
      "(76, 13, 108)\n"
     ]
    }
   ],
   "source": [
    "mfcc_start=[]\n",
    "for i in range(0,len(audio_path_start)):\n",
    "    mfcc_start.append(librosa.feature.mfcc(x_start[i], n_mfcc=13,sr=sr_start[i]))\n",
    "print(np.shape(mfcc_start))"
   ]
  },
  {
   "cell_type": "code",
   "execution_count": 42,
   "id": "45dba7a7",
   "metadata": {},
   "outputs": [
    {
     "name": "stdout",
     "output_type": "stream",
     "text": [
      "(75, 13, 108)\n"
     ]
    }
   ],
   "source": [
    "mfcc_tezChalo=[]\n",
    "for i in range(0,len(audio_path_tezChalo)):\n",
    "    mfcc_tezChalo.append(librosa.feature.mfcc(x_tezChalo[i], n_mfcc=13,sr=sr_tezChalo[i]))\n",
    "print(np.shape(mfcc_tezChalo))"
   ]
  },
  {
   "cell_type": "code",
   "execution_count": 43,
   "id": "f5d4ccf1",
   "metadata": {},
   "outputs": [
    {
     "name": "stdout",
     "output_type": "stream",
     "text": [
      "(77, 13, 108)\n"
     ]
    }
   ],
   "source": [
    "mfcc_turnLeft=[]\n",
    "for i in range(0,len(audio_path_turnLeft)):\n",
    "    mfcc_turnLeft.append(librosa.feature.mfcc(x_turnLeft[i], n_mfcc=13,sr=sr_turnLeft[i]))\n",
    "print(np.shape(mfcc_turnLeft))"
   ]
  },
  {
   "cell_type": "code",
   "execution_count": 44,
   "id": "91614acc",
   "metadata": {},
   "outputs": [
    {
     "name": "stdout",
     "output_type": "stream",
     "text": [
      "(78, 13, 108)\n"
     ]
    }
   ],
   "source": [
    "mfcc_turnRight=[]\n",
    "for i in range(0,len(audio_path_turnRight)):\n",
    "    mfcc_turnRight.append(librosa.feature.mfcc(x_turnRight[i], n_mfcc=13,sr=sr_turnRight[i]))\n",
    "print(np.shape(mfcc_turnRight))"
   ]
  },
  {
   "cell_type": "markdown",
   "id": "1a2413a6",
   "metadata": {},
   "source": [
    "<h1>Following code combining all mfccs together to make a complete feature data</h1>"
   ]
  },
  {
   "cell_type": "code",
   "execution_count": 71,
   "id": "798f3ba4",
   "metadata": {},
   "outputs": [
    {
     "name": "stdout",
     "output_type": "stream",
     "text": [
      "(1086, 108, 13)\n",
      "finished\n"
     ]
    }
   ],
   "source": [
    "import numpy as np\n",
    "from tensorflow.keras.optimizers import SGD\n",
    "np.random.seed(1337)\n",
    "from keras.utils import np_utils\n",
    "from keras.models import Sequential\n",
    "from keras.layers.core import Dense, Activation\n",
    "from keras.layers.recurrent import LSTM\n",
    "from tensorflow.keras.optimizers import Adam\n",
    "from keras.layers import Bidirectional\n",
    "# x_train=np.append(mfcc_ahistaChalo)\n",
    "x=[]\n",
    "\n",
    "y=np.zeros(shape=(1086,))\n",
    "\n",
    "trainCounter=0\n",
    "for i in range(0,len(mfcc_start)):\n",
    "        y[trainCounter]=0\n",
    "        trainCounter+=1\n",
    "        x.append(mfcc_start[i].T)\n",
    "\n",
    "for i in range(0,len(mfcc_stop)):\n",
    "        y[trainCounter]=1\n",
    "        trainCounter+=1\n",
    "        x.append(mfcc_stop[i].T)\n",
    "\n",
    "        \n",
    "for i in range(0,len(mfcc_changeLane)):\n",
    "        y[trainCounter]=2\n",
    "        trainCounter+=1\n",
    "        x.append(mfcc_changeLane[i].T)        \n",
    "        \n",
    "\n",
    "for i in range(0,len(mfcc_turnLeft)):\n",
    "        y[trainCounter]=3\n",
    "        trainCounter+=1\n",
    "        x.append(mfcc_turnLeft[i].T)\n",
    "\n",
    "\n",
    "\n",
    "for i in range(0,len(mfcc_turnRight)):\n",
    "        y[trainCounter]=4\n",
    "        trainCounter+=1\n",
    "        x.append(mfcc_turnRight[i].T)\n",
    "\n",
    "\n",
    "for i in range(0,len(mfcc_speedUp)):\n",
    "        y[trainCounter]=5\n",
    "        trainCounter+=1\n",
    "        x.append(mfcc_speedUp[i].T)\n",
    "        \n",
    "        \n",
    "\n",
    "for i in range(0,len(mfcc_speedDown)):\n",
    "        y[trainCounter]=6\n",
    "        trainCounter+=1\n",
    "        x.append(mfcc_speedDown[i].T)\n",
    "        \n",
    "        \n",
    "for i in range(0,len(mfcc_chalo)):\n",
    "        y[trainCounter]=7\n",
    "        trainCounter+=1\n",
    "        x.append(mfcc_chalo[i].T)\n",
    "\n",
    "        \n",
    "\n",
    "for i in range(0,len(mfcc_rukJao)):\n",
    "        y[trainCounter]=8\n",
    "        trainCounter+=1\n",
    "        x.append(mfcc_rukJao[i].T)\n",
    "\n",
    "        \n",
    "for i in range(0,len(mfcc_laneBadlo)):\n",
    "        y[trainCounter]=9\n",
    "        trainCounter+=1\n",
    "        x.append(mfcc_laneBadlo[i].T)\n",
    "\n",
    "        \n",
    "        \n",
    "for i in range(0,len(mfcc_bayainMuro)):\n",
    "        y[trainCounter]=10\n",
    "        trainCounter+=1\n",
    "        x.append(mfcc_bayainMuro[i].T)\n",
    "\n",
    "        \n",
    "        \n",
    "for i in range(0,len(mfcc_dayainMuro)):\n",
    "        y[trainCounter]=11\n",
    "        trainCounter+=1\n",
    "        x.append(mfcc_dayainMuro[i].T)\n",
    "\n",
    "        \n",
    "for i in range(0,len(mfcc_tezChalo)):\n",
    "        y[trainCounter]=12\n",
    "        trainCounter+=1\n",
    "        x.append(mfcc_tezChalo[i].T)\n",
    "\n",
    "\n",
    "for i in range(0,len(mfcc_ahistaChalo)):\n",
    "        y[trainCounter]=13\n",
    "        trainCounter+=1\n",
    "        x.append(mfcc_ahistaChalo[i].T)\n",
    "\n",
    "        \n",
    "        \n",
    "        \n",
    "# print(np.shape(x_train))\n",
    "# print(np.shape(x_test))\n",
    "\n",
    "print(np.shape(x))\n",
    "# print(y_train)\n",
    "# print(y_test)\n",
    "# print(y_validation)\n",
    "print(\"finished\")"
   ]
  },
  {
   "cell_type": "markdown",
   "id": "6498c258",
   "metadata": {},
   "source": [
    "<h1>Following code is splitting data into training and testing data</h1>"
   ]
  },
  {
   "cell_type": "code",
   "execution_count": 72,
   "id": "586044e6",
   "metadata": {},
   "outputs": [
    {
     "name": "stdout",
     "output_type": "stream",
     "text": [
      "Finished\n"
     ]
    }
   ],
   "source": [
    "from sklearn.model_selection import train_test_split\n",
    "\n",
    "X_train, X_test, y_train, y_test = train_test_split(x, y, test_size=0.2, random_state=42)\n",
    "nb_classes = 14\n",
    "Y_train = np_utils.to_categorical(y_train, nb_classes)\n",
    "Y_test = np_utils.to_categorical(y_test, nb_classes)\n",
    "print(\"Finished\")"
   ]
  },
  {
   "cell_type": "code",
   "execution_count": 73,
   "id": "14c0d5f6",
   "metadata": {},
   "outputs": [
    {
     "name": "stdout",
     "output_type": "stream",
     "text": [
      "(868, 108, 13)\n",
      "[[0. 0. 0. ... 0. 0. 0.]\n",
      " [0. 0. 0. ... 0. 0. 0.]\n",
      " [0. 0. 0. ... 0. 0. 0.]\n",
      " ...\n",
      " [0. 1. 0. ... 0. 0. 0.]\n",
      " [0. 0. 0. ... 0. 0. 1.]\n",
      " [0. 0. 0. ... 1. 0. 0.]]\n"
     ]
    }
   ],
   "source": [
    "print(np.shape(X_train))\n",
    "print(Y_train)"
   ]
  },
  {
   "cell_type": "markdown",
   "id": "d6a7966c",
   "metadata": {},
   "source": [
    "<h1>Following code is developing a LSTM model which is RNN based Model</h1>\n",
    "<h1>Two layers along with one dense layer is used to build mode</h1>"
   ]
  },
  {
   "cell_type": "code",
   "execution_count": 74,
   "id": "d881d94e",
   "metadata": {},
   "outputs": [
    {
     "name": "stdout",
     "output_type": "stream",
     "text": [
      "Model: \"sequential_3\"\n",
      "_________________________________________________________________\n",
      " Layer (type)                Output Shape              Param #   \n",
      "=================================================================\n",
      " lstm_6 (LSTM)               (None, 108, 108)          52704     \n",
      "                                                                 \n",
      " lstm_7 (LSTM)               (None, 32)                18048     \n",
      "                                                                 \n",
      " dense_3 (Dense)             (None, 14)                462       \n",
      "                                                                 \n",
      "=================================================================\n",
      "Total params: 71,214\n",
      "Trainable params: 71,214\n",
      "Non-trainable params: 0\n",
      "_________________________________________________________________\n"
     ]
    }
   ],
   "source": [
    "modelLSTM = Sequential()\n",
    "input_shape = (np.array(X_train).shape[1], np.array(X_train).shape[2])\n",
    "modelLSTM.add(LSTM(units=108, dropout=0.05, recurrent_dropout=0.35, return_sequences=True, input_shape=input_shape))\n",
    "modelLSTM.add(LSTM(units=32,  dropout=0.05, recurrent_dropout=0.35, return_sequences=False))\n",
    "modelLSTM.add(Dense(units=Y_train.shape[1], activation=\"softmax\"))\n",
    "opt = Adam()\n",
    "modelLSTM.compile(loss=\"categorical_crossentropy\", optimizer=opt, metrics=[\"accuracy\"])\n",
    "modelLSTM.summary()\n"
   ]
  },
  {
   "cell_type": "markdown",
   "id": "4525a34b",
   "metadata": {},
   "source": [
    "<h1>Following code is training Lstm model on tarining data set</h1>\n",
    "<h2>With batch size = 62</h2>\n",
    "<h2>With epochs = 400</h2>\n"
   ]
  },
  {
   "cell_type": "code",
   "execution_count": 77,
   "id": "de04d07f",
   "metadata": {},
   "outputs": [
    {
     "name": "stdout",
     "output_type": "stream",
     "text": [
      "Epoch 1/400\n",
      "14/14 [==============================] - 5s 342ms/step - loss: 2.6453 - accuracy: 0.0829\n",
      "Epoch 2/400\n",
      "14/14 [==============================] - 7s 465ms/step - loss: 2.6299 - accuracy: 0.0922\n",
      "Epoch 3/400\n",
      "14/14 [==============================] - 6s 426ms/step - loss: 2.6184 - accuracy: 0.0922\n",
      "Epoch 4/400\n",
      "14/14 [==============================] - 7s 529ms/step - loss: 2.5968 - accuracy: 0.1187\n",
      "Epoch 5/400\n",
      "14/14 [==============================] - 7s 470ms/step - loss: 2.5987 - accuracy: 0.1060\n",
      "Epoch 6/400\n",
      "14/14 [==============================] - 7s 490ms/step - loss: 2.6043 - accuracy: 0.1071\n",
      "Epoch 7/400\n",
      "14/14 [==============================] - 8s 555ms/step - loss: 2.5526 - accuracy: 0.1233\n",
      "Epoch 8/400\n",
      "14/14 [==============================] - 8s 558ms/step - loss: 2.5437 - accuracy: 0.1394\n",
      "Epoch 9/400\n",
      "14/14 [==============================] - 7s 484ms/step - loss: 2.4848 - accuracy: 0.1382\n",
      "Epoch 10/400\n",
      "14/14 [==============================] - 8s 569ms/step - loss: 2.4242 - accuracy: 0.1855\n",
      "Epoch 11/400\n",
      "14/14 [==============================] - 6s 450ms/step - loss: 2.4044 - accuracy: 0.1694\n",
      "Epoch 12/400\n",
      "14/14 [==============================] - 8s 525ms/step - loss: 2.3600 - accuracy: 0.1774\n",
      "Epoch 13/400\n",
      "14/14 [==============================] - 7s 541ms/step - loss: 2.5270 - accuracy: 0.1221\n",
      "Epoch 14/400\n",
      "14/14 [==============================] - 7s 498ms/step - loss: 2.4243 - accuracy: 0.1463\n",
      "Epoch 15/400\n",
      "14/14 [==============================] - 8s 580ms/step - loss: 2.4186 - accuracy: 0.1659\n",
      "Epoch 16/400\n",
      "14/14 [==============================] - 7s 472ms/step - loss: 2.3826 - accuracy: 0.1475\n",
      "Epoch 17/400\n",
      "14/14 [==============================] - 7s 507ms/step - loss: 2.3492 - accuracy: 0.1947\n",
      "Epoch 18/400\n",
      "14/14 [==============================] - 8s 574ms/step - loss: 2.3304 - accuracy: 0.1647\n",
      "Epoch 19/400\n",
      "14/14 [==============================] - 7s 487ms/step - loss: 2.2995 - accuracy: 0.1970\n",
      "Epoch 20/400\n",
      "14/14 [==============================] - 8s 579ms/step - loss: 2.3264 - accuracy: 0.1751\n",
      "Epoch 21/400\n",
      "14/14 [==============================] - 7s 493ms/step - loss: 2.3045 - accuracy: 0.1912\n",
      "Epoch 22/400\n",
      "14/14 [==============================] - 7s 484ms/step - loss: 2.2292 - accuracy: 0.2131\n",
      "Epoch 23/400\n",
      "14/14 [==============================] - 8s 575ms/step - loss: 2.2806 - accuracy: 0.2085\n",
      "Epoch 24/400\n",
      "14/14 [==============================] - 7s 488ms/step - loss: 2.3813 - accuracy: 0.1774\n",
      "Epoch 25/400\n",
      "14/14 [==============================] - 8s 580ms/step - loss: 2.3929 - accuracy: 0.1694\n",
      "Epoch 26/400\n",
      "14/14 [==============================] - 7s 496ms/step - loss: 2.2976 - accuracy: 0.2016\n",
      "Epoch 27/400\n",
      "14/14 [==============================] - 7s 476ms/step - loss: 2.2634 - accuracy: 0.2143\n",
      "Epoch 28/400\n",
      "14/14 [==============================] - 8s 573ms/step - loss: 2.2027 - accuracy: 0.2523\n",
      "Epoch 29/400\n",
      "14/14 [==============================] - 7s 486ms/step - loss: 2.1391 - accuracy: 0.2465\n",
      "Epoch 30/400\n",
      "14/14 [==============================] - 8s 573ms/step - loss: 2.0864 - accuracy: 0.2592\n",
      "Epoch 31/400\n",
      "14/14 [==============================] - 7s 481ms/step - loss: 2.0760 - accuracy: 0.2776\n",
      "Epoch 32/400\n",
      "14/14 [==============================] - 7s 509ms/step - loss: 1.9982 - accuracy: 0.2846\n",
      "Epoch 33/400\n",
      "14/14 [==============================] - 8s 568ms/step - loss: 1.9829 - accuracy: 0.3030\n",
      "Epoch 34/400\n",
      "14/14 [==============================] - 7s 483ms/step - loss: 1.9332 - accuracy: 0.3088\n",
      "Epoch 35/400\n",
      "14/14 [==============================] - 8s 564ms/step - loss: 1.9546 - accuracy: 0.3168\n",
      "Epoch 36/400\n",
      "14/14 [==============================] - 6s 451ms/step - loss: 1.9746 - accuracy: 0.3180\n",
      "Epoch 37/400\n",
      "14/14 [==============================] - 7s 511ms/step - loss: 1.9322 - accuracy: 0.3306\n",
      "Epoch 38/400\n",
      "14/14 [==============================] - 7s 514ms/step - loss: 1.9075 - accuracy: 0.3548\n",
      "Epoch 39/400\n",
      "14/14 [==============================] - 7s 494ms/step - loss: 1.8252 - accuracy: 0.3687\n",
      "Epoch 40/400\n",
      "14/14 [==============================] - 7s 525ms/step - loss: 1.7667 - accuracy: 0.3767\n",
      "Epoch 41/400\n",
      "14/14 [==============================] - 6s 438ms/step - loss: 1.7255 - accuracy: 0.4044\n",
      "Epoch 42/400\n",
      "14/14 [==============================] - 8s 564ms/step - loss: 1.6563 - accuracy: 0.4078\n",
      "Epoch 43/400\n",
      "14/14 [==============================] - 7s 476ms/step - loss: 1.7290 - accuracy: 0.3871\n",
      "Epoch 44/400\n",
      "14/14 [==============================] - 8s 565ms/step - loss: 1.7886 - accuracy: 0.3917\n",
      "Epoch 45/400\n",
      "14/14 [==============================] - 6s 451ms/step - loss: 1.7031 - accuracy: 0.4032\n",
      "Epoch 46/400\n",
      "14/14 [==============================] - 7s 511ms/step - loss: 1.5914 - accuracy: 0.4459\n",
      "Epoch 47/400\n",
      "14/14 [==============================] - 7s 514ms/step - loss: 1.5573 - accuracy: 0.4274\n",
      "Epoch 48/400\n",
      "14/14 [==============================] - 7s 496ms/step - loss: 1.5769 - accuracy: 0.4758\n",
      "Epoch 49/400\n",
      "14/14 [==============================] - 7s 533ms/step - loss: 1.5170 - accuracy: 0.4793\n",
      "Epoch 50/400\n",
      "14/14 [==============================] - 6s 428ms/step - loss: 1.4897 - accuracy: 0.4804\n",
      "Epoch 51/400\n",
      "14/14 [==============================] - 8s 565ms/step - loss: 1.4308 - accuracy: 0.4988\n",
      "Epoch 52/400\n",
      "14/14 [==============================] - 7s 491ms/step - loss: 1.4561 - accuracy: 0.4585\n",
      "Epoch 53/400\n",
      "14/14 [==============================] - 8s 587ms/step - loss: 1.4300 - accuracy: 0.4919\n",
      "Epoch 54/400\n",
      "14/14 [==============================] - 7s 530ms/step - loss: 1.4588 - accuracy: 0.4620\n",
      "Epoch 55/400\n",
      "14/14 [==============================] - 7s 490ms/step - loss: 1.5300 - accuracy: 0.4528\n",
      "Epoch 56/400\n",
      "14/14 [==============================] - 7s 471ms/step - loss: 1.4206 - accuracy: 0.4827\n",
      "Epoch 57/400\n",
      "14/14 [==============================] - 8s 559ms/step - loss: 1.3206 - accuracy: 0.5311\n",
      "Epoch 58/400\n",
      "14/14 [==============================] - 7s 478ms/step - loss: 1.3006 - accuracy: 0.5161\n",
      "Epoch 59/400\n",
      "14/14 [==============================] - 8s 568ms/step - loss: 1.3059 - accuracy: 0.5415\n",
      "Epoch 60/400\n",
      "14/14 [==============================] - 6s 434ms/step - loss: 1.2916 - accuracy: 0.5219\n",
      "Epoch 61/400\n",
      "14/14 [==============================] - 8s 531ms/step - loss: 1.2522 - accuracy: 0.5541\n",
      "Epoch 62/400\n",
      "14/14 [==============================] - 7s 488ms/step - loss: 1.2578 - accuracy: 0.5242\n",
      "Epoch 63/400\n",
      "14/14 [==============================] - 7s 512ms/step - loss: 1.1794 - accuracy: 0.5714\n",
      "Epoch 64/400\n",
      "14/14 [==============================] - 7s 478ms/step - loss: 1.1722 - accuracy: 0.5876\n",
      "Epoch 65/400\n",
      "14/14 [==============================] - 7s 478ms/step - loss: 1.1521 - accuracy: 0.5829\n",
      "Epoch 66/400\n",
      "14/14 [==============================] - 7s 541ms/step - loss: 1.1420 - accuracy: 0.5841\n",
      "Epoch 67/400\n",
      "14/14 [==============================] - 7s 475ms/step - loss: 1.1093 - accuracy: 0.5910\n",
      "Epoch 68/400\n",
      "14/14 [==============================] - 7s 548ms/step - loss: 1.1012 - accuracy: 0.5991\n",
      "Epoch 69/400\n",
      "14/14 [==============================] - 6s 430ms/step - loss: 1.1239 - accuracy: 0.5899\n",
      "Epoch 70/400\n",
      "14/14 [==============================] - 8s 559ms/step - loss: 1.1260 - accuracy: 0.5922\n",
      "Epoch 71/400\n",
      "14/14 [==============================] - 7s 474ms/step - loss: 1.2010 - accuracy: 0.5783\n",
      "Epoch 72/400\n",
      "14/14 [==============================] - 8s 537ms/step - loss: 1.0880 - accuracy: 0.5841\n",
      "Epoch 73/400\n",
      "14/14 [==============================] - 6s 472ms/step - loss: 1.0814 - accuracy: 0.5945\n",
      "Epoch 74/400\n",
      "14/14 [==============================] - 8s 538ms/step - loss: 1.1182 - accuracy: 0.5645\n",
      "Epoch 75/400\n",
      "14/14 [==============================] - 7s 478ms/step - loss: 1.0298 - accuracy: 0.6141\n",
      "Epoch 76/400\n",
      "14/14 [==============================] - 8s 554ms/step - loss: 1.0190 - accuracy: 0.6164\n",
      "Epoch 77/400\n",
      "14/14 [==============================] - 8s 556ms/step - loss: 1.0191 - accuracy: 0.6129\n",
      "Epoch 78/400\n",
      "14/14 [==============================] - 8s 530ms/step - loss: 0.9757 - accuracy: 0.6348\n",
      "Epoch 79/400\n",
      "14/14 [==============================] - 7s 455ms/step - loss: 1.0507 - accuracy: 0.6129\n",
      "Epoch 80/400\n",
      "14/14 [==============================] - 9s 626ms/step - loss: 0.9740 - accuracy: 0.6221\n",
      "Epoch 81/400\n",
      "14/14 [==============================] - 7s 497ms/step - loss: 0.9283 - accuracy: 0.6440\n",
      "Epoch 82/400\n",
      "14/14 [==============================] - 8s 564ms/step - loss: 0.9056 - accuracy: 0.6613\n",
      "Epoch 83/400\n",
      "14/14 [==============================] - 8s 554ms/step - loss: 0.9205 - accuracy: 0.6509\n",
      "Epoch 84/400\n",
      "14/14 [==============================] - 7s 542ms/step - loss: 0.9024 - accuracy: 0.6578\n",
      "Epoch 85/400\n",
      "14/14 [==============================] - 8s 565ms/step - loss: 0.9094 - accuracy: 0.6509\n",
      "Epoch 86/400\n",
      "14/14 [==============================] - 8s 550ms/step - loss: 0.8876 - accuracy: 0.6590\n",
      "Epoch 87/400\n",
      "14/14 [==============================] - 8s 593ms/step - loss: 0.8256 - accuracy: 0.6832\n",
      "Epoch 88/400\n",
      "14/14 [==============================] - 8s 593ms/step - loss: 0.8163 - accuracy: 0.6820\n",
      "Epoch 89/400\n",
      "14/14 [==============================] - 8s 545ms/step - loss: 0.8629 - accuracy: 0.6671\n",
      "Epoch 90/400\n",
      "14/14 [==============================] - 7s 485ms/step - loss: 0.7853 - accuracy: 0.6959\n",
      "Epoch 91/400\n",
      "14/14 [==============================] - 8s 591ms/step - loss: 0.8201 - accuracy: 0.6970\n",
      "Epoch 92/400\n",
      "14/14 [==============================] - 7s 492ms/step - loss: 0.8499 - accuracy: 0.6659\n",
      "Epoch 93/400\n",
      "14/14 [==============================] - 8s 620ms/step - loss: 0.8264 - accuracy: 0.6855\n",
      "Epoch 94/400\n",
      "14/14 [==============================] - 7s 535ms/step - loss: 0.7941 - accuracy: 0.7051\n",
      "Epoch 95/400\n",
      "14/14 [==============================] - 8s 576ms/step - loss: 0.7693 - accuracy: 0.7085\n",
      "Epoch 96/400\n",
      "14/14 [==============================] - 7s 486ms/step - loss: 0.7904 - accuracy: 0.7039\n",
      "Epoch 97/400\n",
      "14/14 [==============================] - 8s 624ms/step - loss: 0.7998 - accuracy: 0.6935\n",
      "Epoch 98/400\n",
      "14/14 [==============================] - 7s 543ms/step - loss: 0.7467 - accuracy: 0.7120\n",
      "Epoch 99/400\n",
      "14/14 [==============================] - 6s 431ms/step - loss: 0.7578 - accuracy: 0.7016\n",
      "Epoch 100/400\n",
      "14/14 [==============================] - 8s 591ms/step - loss: 0.7462 - accuracy: 0.7166\n",
      "Epoch 101/400\n",
      "14/14 [==============================] - 8s 543ms/step - loss: 0.7637 - accuracy: 0.7247\n",
      "Epoch 102/400\n",
      "14/14 [==============================] - 7s 478ms/step - loss: 0.6569 - accuracy: 0.7569\n",
      "Epoch 103/400\n",
      "14/14 [==============================] - 7s 543ms/step - loss: 0.6999 - accuracy: 0.7373\n",
      "Epoch 104/400\n",
      "14/14 [==============================] - 7s 477ms/step - loss: 0.6928 - accuracy: 0.7350\n",
      "Epoch 105/400\n",
      "14/14 [==============================] - 8s 577ms/step - loss: 0.7045 - accuracy: 0.7442\n",
      "Epoch 106/400\n",
      "14/14 [==============================] - 7s 485ms/step - loss: 0.6498 - accuracy: 0.7442\n",
      "Epoch 107/400\n",
      "14/14 [==============================] - 8s 593ms/step - loss: 0.6945 - accuracy: 0.7281\n",
      "Epoch 108/400\n",
      "14/14 [==============================] - 8s 602ms/step - loss: 0.6871 - accuracy: 0.7408\n",
      "Epoch 109/400\n",
      "14/14 [==============================] - 8s 579ms/step - loss: 0.6849 - accuracy: 0.7442\n",
      "Epoch 110/400\n",
      "14/14 [==============================] - 7s 481ms/step - loss: 0.7357 - accuracy: 0.7143\n",
      "Epoch 111/400\n",
      "14/14 [==============================] - 8s 592ms/step - loss: 0.6889 - accuracy: 0.7454\n",
      "Epoch 112/400\n",
      "14/14 [==============================] - 8s 597ms/step - loss: 0.6929 - accuracy: 0.7339\n",
      "Epoch 113/400\n",
      "14/14 [==============================] - 7s 479ms/step - loss: 0.6177 - accuracy: 0.7661\n",
      "Epoch 114/400\n",
      "14/14 [==============================] - 8s 596ms/step - loss: 0.6221 - accuracy: 0.7661\n",
      "Epoch 115/400\n",
      "14/14 [==============================] - 6s 443ms/step - loss: 0.6110 - accuracy: 0.7535\n",
      "Epoch 116/400\n",
      "14/14 [==============================] - 8s 544ms/step - loss: 0.6262 - accuracy: 0.7488\n",
      "Epoch 117/400\n",
      "14/14 [==============================] - 8s 595ms/step - loss: 0.6101 - accuracy: 0.7696\n",
      "Epoch 118/400\n",
      "14/14 [==============================] - 7s 489ms/step - loss: 0.6194 - accuracy: 0.7719\n",
      "Epoch 119/400\n",
      "14/14 [==============================] - 7s 485ms/step - loss: 0.6319 - accuracy: 0.7465\n",
      "Epoch 120/400\n",
      "14/14 [==============================] - 7s 549ms/step - loss: 0.6043 - accuracy: 0.7788\n",
      "Epoch 121/400\n",
      "14/14 [==============================] - 7s 462ms/step - loss: 0.6043 - accuracy: 0.7753\n",
      "Epoch 122/400\n",
      "14/14 [==============================] - 7s 535ms/step - loss: 0.5998 - accuracy: 0.7650\n",
      "Epoch 123/400\n",
      "14/14 [==============================] - 7s 477ms/step - loss: 0.5492 - accuracy: 0.7903\n",
      "Epoch 124/400\n",
      "14/14 [==============================] - 8s 562ms/step - loss: 0.5862 - accuracy: 0.7811\n",
      "Epoch 125/400\n",
      "14/14 [==============================] - 6s 432ms/step - loss: 0.5739 - accuracy: 0.7673\n",
      "Epoch 126/400\n",
      "14/14 [==============================] - 8s 542ms/step - loss: 0.5993 - accuracy: 0.7788\n",
      "Epoch 127/400\n",
      "14/14 [==============================] - 7s 480ms/step - loss: 0.6489 - accuracy: 0.7638\n",
      "Epoch 128/400\n",
      "14/14 [==============================] - 8s 529ms/step - loss: 0.5866 - accuracy: 0.7742\n",
      "Epoch 129/400\n",
      "14/14 [==============================] - 7s 480ms/step - loss: 0.5689 - accuracy: 0.7926\n",
      "Epoch 130/400\n",
      "14/14 [==============================] - 7s 481ms/step - loss: 0.5913 - accuracy: 0.7800\n",
      "Epoch 131/400\n",
      "14/14 [==============================] - 7s 533ms/step - loss: 0.5699 - accuracy: 0.7949\n",
      "Epoch 132/400\n",
      "14/14 [==============================] - 7s 474ms/step - loss: 0.5196 - accuracy: 0.7880\n",
      "Epoch 133/400\n",
      "14/14 [==============================] - 7s 546ms/step - loss: 0.5336 - accuracy: 0.7961\n",
      "Epoch 134/400\n",
      "14/14 [==============================] - 7s 478ms/step - loss: 0.5078 - accuracy: 0.8007\n",
      "Epoch 135/400\n",
      "14/14 [==============================] - 7s 521ms/step - loss: 0.5512 - accuracy: 0.7961\n",
      "Epoch 136/400\n",
      "14/14 [==============================] - 8s 580ms/step - loss: 0.5443 - accuracy: 0.8065\n",
      "Epoch 137/400\n",
      "14/14 [==============================] - 7s 481ms/step - loss: 0.5119 - accuracy: 0.8030\n",
      "Epoch 138/400\n",
      "14/14 [==============================] - 7s 540ms/step - loss: 0.4941 - accuracy: 0.8157\n",
      "Epoch 139/400\n",
      "14/14 [==============================] - 6s 428ms/step - loss: 0.4786 - accuracy: 0.8329\n",
      "Epoch 140/400\n",
      "14/14 [==============================] - 8s 589ms/step - loss: 0.5525 - accuracy: 0.7869\n",
      "Epoch 141/400\n",
      "14/14 [==============================] - 6s 432ms/step - loss: 0.5448 - accuracy: 0.7903\n",
      "Epoch 142/400\n",
      "14/14 [==============================] - 8s 553ms/step - loss: 0.4904 - accuracy: 0.8191\n",
      "Epoch 143/400\n",
      "14/14 [==============================] - 6s 466ms/step - loss: 0.4987 - accuracy: 0.8226\n",
      "Epoch 144/400\n",
      "14/14 [==============================] - 7s 498ms/step - loss: 0.4824 - accuracy: 0.8237\n",
      "Epoch 145/400\n",
      "14/14 [==============================] - 7s 525ms/step - loss: 0.4549 - accuracy: 0.8306\n",
      "Epoch 146/400\n",
      "14/14 [==============================] - 7s 482ms/step - loss: 0.4654 - accuracy: 0.8272\n",
      "Epoch 147/400\n",
      "14/14 [==============================] - 7s 532ms/step - loss: 0.4249 - accuracy: 0.8410\n",
      "Epoch 148/400\n",
      "14/14 [==============================] - 7s 486ms/step - loss: 0.4370 - accuracy: 0.8410\n",
      "Epoch 149/400\n",
      "14/14 [==============================] - 7s 466ms/step - loss: 0.4290 - accuracy: 0.8410\n",
      "Epoch 150/400\n",
      "14/14 [==============================] - 7s 528ms/step - loss: 0.4337 - accuracy: 0.8502\n",
      "Epoch 151/400\n",
      "14/14 [==============================] - 8s 544ms/step - loss: 0.4346 - accuracy: 0.8468\n",
      "Epoch 152/400\n",
      "14/14 [==============================] - 8s 529ms/step - loss: 0.4070 - accuracy: 0.8456\n",
      "Epoch 153/400\n",
      "14/14 [==============================] - 7s 485ms/step - loss: 0.3969 - accuracy: 0.8537\n",
      "Epoch 154/400\n",
      "14/14 [==============================] - 8s 521ms/step - loss: 0.3912 - accuracy: 0.8548\n",
      "Epoch 155/400\n",
      "14/14 [==============================] - 8s 600ms/step - loss: 0.4080 - accuracy: 0.8606\n",
      "Epoch 156/400\n",
      "14/14 [==============================] - 8s 527ms/step - loss: 0.3797 - accuracy: 0.8710\n",
      "Epoch 157/400\n",
      "14/14 [==============================] - 7s 499ms/step - loss: 0.3797 - accuracy: 0.8687\n",
      "Epoch 158/400\n",
      "14/14 [==============================] - 8s 591ms/step - loss: 0.3740 - accuracy: 0.8664\n",
      "Epoch 159/400\n",
      "14/14 [==============================] - 9s 658ms/step - loss: 0.3705 - accuracy: 0.8733\n",
      "Epoch 160/400\n"
     ]
    },
    {
     "name": "stdout",
     "output_type": "stream",
     "text": [
      "14/14 [==============================] - 8s 544ms/step - loss: 0.3808 - accuracy: 0.8687\n",
      "Epoch 161/400\n",
      "14/14 [==============================] - 8s 539ms/step - loss: 0.3709 - accuracy: 0.8767\n",
      "Epoch 162/400\n",
      "14/14 [==============================] - 8s 575ms/step - loss: 0.3669 - accuracy: 0.8675\n",
      "Epoch 163/400\n",
      "14/14 [==============================] - 8s 615ms/step - loss: 0.3635 - accuracy: 0.8641\n",
      "Epoch 164/400\n",
      "14/14 [==============================] - 8s 588ms/step - loss: 0.3289 - accuracy: 0.8848\n",
      "Epoch 165/400\n",
      "14/14 [==============================] - 8s 572ms/step - loss: 0.3815 - accuracy: 0.8687\n",
      "Epoch 166/400\n",
      "14/14 [==============================] - 7s 510ms/step - loss: 0.3361 - accuracy: 0.8825\n",
      "Epoch 167/400\n",
      "14/14 [==============================] - 8s 598ms/step - loss: 0.3441 - accuracy: 0.8825\n",
      "Epoch 168/400\n",
      "14/14 [==============================] - 8s 530ms/step - loss: 0.3389 - accuracy: 0.8836\n",
      "Epoch 169/400\n",
      "14/14 [==============================] - 9s 635ms/step - loss: 0.3407 - accuracy: 0.8825\n",
      "Epoch 170/400\n",
      "14/14 [==============================] - 7s 518ms/step - loss: 0.3061 - accuracy: 0.8952\n",
      "Epoch 171/400\n",
      "14/14 [==============================] - 8s 612ms/step - loss: 0.3313 - accuracy: 0.8929\n",
      "Epoch 172/400\n",
      "14/14 [==============================] - 8s 614ms/step - loss: 0.3454 - accuracy: 0.8744\n",
      "Epoch 173/400\n",
      "14/14 [==============================] - 7s 518ms/step - loss: 0.3286 - accuracy: 0.8836\n",
      "Epoch 174/400\n",
      "14/14 [==============================] - 9s 622ms/step - loss: 0.3288 - accuracy: 0.8859\n",
      "Epoch 175/400\n",
      "14/14 [==============================] - 9s 646ms/step - loss: 0.3015 - accuracy: 0.8917\n",
      "Epoch 176/400\n",
      "14/14 [==============================] - 9s 628ms/step - loss: 0.3471 - accuracy: 0.8756\n",
      "Epoch 177/400\n",
      "14/14 [==============================] - 9s 624ms/step - loss: 0.3858 - accuracy: 0.8721\n",
      "Epoch 178/400\n",
      "14/14 [==============================] - 8s 513ms/step - loss: 0.3481 - accuracy: 0.8767\n",
      "Epoch 179/400\n",
      "14/14 [==============================] - 8s 568ms/step - loss: 0.3086 - accuracy: 0.8882\n",
      "Epoch 180/400\n",
      "14/14 [==============================] - 8s 571ms/step - loss: 0.3330 - accuracy: 0.8825\n",
      "Epoch 181/400\n",
      "14/14 [==============================] - 9s 621ms/step - loss: 0.3309 - accuracy: 0.8836\n",
      "Epoch 182/400\n",
      "14/14 [==============================] - 9s 665ms/step - loss: 0.2973 - accuracy: 0.8975\n",
      "Epoch 183/400\n",
      "14/14 [==============================] - 9s 634ms/step - loss: 0.3394 - accuracy: 0.8859\n",
      "Epoch 184/400\n",
      "14/14 [==============================] - 10s 680ms/step - loss: 0.3616 - accuracy: 0.8779\n",
      "Epoch 185/400\n",
      "14/14 [==============================] - 10s 681ms/step - loss: 0.3083 - accuracy: 0.8929\n",
      "Epoch 186/400\n",
      "14/14 [==============================] - 12s 800ms/step - loss: 0.3369 - accuracy: 0.8825\n",
      "Epoch 187/400\n",
      "14/14 [==============================] - 9s 609ms/step - loss: 0.3682 - accuracy: 0.8664\n",
      "Epoch 188/400\n",
      "14/14 [==============================] - 7s 492ms/step - loss: 0.3397 - accuracy: 0.8836\n",
      "Epoch 189/400\n",
      "14/14 [==============================] - 9s 642ms/step - loss: 0.3447 - accuracy: 0.8848\n",
      "Epoch 190/400\n",
      "14/14 [==============================] - 8s 610ms/step - loss: 0.2849 - accuracy: 0.8998\n",
      "Epoch 191/400\n",
      "14/14 [==============================] - 7s 519ms/step - loss: 0.2627 - accuracy: 0.9124\n",
      "Epoch 192/400\n",
      "14/14 [==============================] - 9s 650ms/step - loss: 0.2683 - accuracy: 0.9078\n",
      "Epoch 193/400\n",
      "14/14 [==============================] - 8s 571ms/step - loss: 0.2721 - accuracy: 0.9090\n",
      "Epoch 194/400\n",
      "14/14 [==============================] - 8s 564ms/step - loss: 0.2546 - accuracy: 0.9171\n",
      "Epoch 195/400\n",
      "14/14 [==============================] - 9s 647ms/step - loss: 0.2274 - accuracy: 0.9205\n",
      "Epoch 196/400\n",
      "14/14 [==============================] - 7s 536ms/step - loss: 0.2328 - accuracy: 0.9205\n",
      "Epoch 197/400\n",
      "14/14 [==============================] - 8s 565ms/step - loss: 0.2156 - accuracy: 0.9217\n",
      "Epoch 198/400\n",
      "14/14 [==============================] - 8s 557ms/step - loss: 0.2245 - accuracy: 0.9251\n",
      "Epoch 199/400\n",
      "14/14 [==============================] - 8s 536ms/step - loss: 0.2120 - accuracy: 0.9274\n",
      "Epoch 200/400\n",
      "14/14 [==============================] - 9s 672ms/step - loss: 0.1950 - accuracy: 0.9447\n",
      "Epoch 201/400\n",
      "14/14 [==============================] - 7s 517ms/step - loss: 0.2303 - accuracy: 0.9332\n",
      "Epoch 202/400\n",
      "14/14 [==============================] - 8s 605ms/step - loss: 0.2204 - accuracy: 0.9274\n",
      "Epoch 203/400\n",
      "14/14 [==============================] - 7s 517ms/step - loss: 0.2118 - accuracy: 0.9217\n",
      "Epoch 204/400\n",
      "14/14 [==============================] - 9s 608ms/step - loss: 0.2956 - accuracy: 0.8929\n",
      "Epoch 205/400\n",
      "14/14 [==============================] - 8s 587ms/step - loss: 0.3612 - accuracy: 0.8813\n",
      "Epoch 206/400\n",
      "14/14 [==============================] - 8s 531ms/step - loss: 0.2959 - accuracy: 0.8952\n",
      "Epoch 207/400\n",
      "14/14 [==============================] - 9s 657ms/step - loss: 0.3073 - accuracy: 0.9067\n",
      "Epoch 208/400\n",
      "14/14 [==============================] - 9s 636ms/step - loss: 0.2814 - accuracy: 0.8952\n",
      "Epoch 209/400\n",
      "14/14 [==============================] - 7s 520ms/step - loss: 0.2772 - accuracy: 0.9147\n",
      "Epoch 210/400\n",
      "14/14 [==============================] - 9s 619ms/step - loss: 0.2487 - accuracy: 0.9055\n",
      "Epoch 211/400\n",
      "14/14 [==============================] - 8s 618ms/step - loss: 0.2462 - accuracy: 0.9217\n",
      "Epoch 212/400\n",
      "14/14 [==============================] - 8s 523ms/step - loss: 0.2317 - accuracy: 0.9251\n",
      "Epoch 213/400\n",
      "14/14 [==============================] - 8s 592ms/step - loss: 0.2394 - accuracy: 0.9159\n",
      "Epoch 214/400\n",
      "14/14 [==============================] - 8s 536ms/step - loss: 0.1781 - accuracy: 0.9482\n",
      "Epoch 215/400\n",
      "14/14 [==============================] - 8s 581ms/step - loss: 0.2388 - accuracy: 0.9217\n",
      "Epoch 216/400\n",
      "14/14 [==============================] - 7s 517ms/step - loss: 0.2168 - accuracy: 0.9263\n",
      "Epoch 217/400\n",
      "14/14 [==============================] - 9s 680ms/step - loss: 0.2653 - accuracy: 0.9055\n",
      "Epoch 218/400\n",
      "14/14 [==============================] - 8s 613ms/step - loss: 0.2106 - accuracy: 0.9251\n",
      "Epoch 219/400\n",
      "14/14 [==============================] - 8s 573ms/step - loss: 0.2372 - accuracy: 0.9228\n",
      "Epoch 220/400\n",
      "14/14 [==============================] - 9s 606ms/step - loss: 0.2457 - accuracy: 0.9147\n",
      "Epoch 221/400\n",
      "14/14 [==============================] - 9s 674ms/step - loss: 0.2247 - accuracy: 0.9159\n",
      "Epoch 222/400\n",
      "14/14 [==============================] - 9s 587ms/step - loss: 0.2018 - accuracy: 0.9435\n",
      "Epoch 223/400\n",
      "14/14 [==============================] - 8s 605ms/step - loss: 0.1953 - accuracy: 0.9355\n",
      "Epoch 224/400\n",
      "14/14 [==============================] - 8s 607ms/step - loss: 0.1975 - accuracy: 0.9263\n",
      "Epoch 225/400\n",
      "14/14 [==============================] - 10s 674ms/step - loss: 0.1804 - accuracy: 0.9424\n",
      "Epoch 226/400\n",
      "14/14 [==============================] - 8s 567ms/step - loss: 0.2117 - accuracy: 0.9366\n",
      "Epoch 227/400\n",
      "14/14 [==============================] - 11s 757ms/step - loss: 0.1780 - accuracy: 0.9447\n",
      "Epoch 228/400\n",
      "14/14 [==============================] - 8s 585ms/step - loss: 0.1996 - accuracy: 0.9366\n",
      "Epoch 229/400\n",
      "14/14 [==============================] - 10s 714ms/step - loss: 0.1626 - accuracy: 0.9470\n",
      "Epoch 230/400\n",
      "14/14 [==============================] - 8s 614ms/step - loss: 0.1825 - accuracy: 0.9412\n",
      "Epoch 231/400\n",
      "14/14 [==============================] - 11s 706ms/step - loss: 0.1734 - accuracy: 0.9539\n",
      "Epoch 232/400\n",
      "14/14 [==============================] - 9s 638ms/step - loss: 0.1519 - accuracy: 0.9493\n",
      "Epoch 233/400\n",
      "14/14 [==============================] - 10s 698ms/step - loss: 0.1655 - accuracy: 0.9493\n",
      "Epoch 234/400\n",
      "14/14 [==============================] - 8s 602ms/step - loss: 0.1443 - accuracy: 0.9654\n",
      "Epoch 235/400\n",
      "14/14 [==============================] - 10s 748ms/step - loss: 0.1642 - accuracy: 0.9493\n",
      "Epoch 236/400\n",
      "14/14 [==============================] - 9s 616ms/step - loss: 0.1889 - accuracy: 0.9412\n",
      "Epoch 237/400\n",
      "14/14 [==============================] - 8s 619ms/step - loss: 0.1800 - accuracy: 0.9401\n",
      "Epoch 238/400\n",
      "14/14 [==============================] - 10s 673ms/step - loss: 0.1659 - accuracy: 0.9482\n",
      "Epoch 239/400\n",
      "14/14 [==============================] - 11s 818ms/step - loss: 0.1648 - accuracy: 0.9459\n",
      "Epoch 240/400\n",
      "14/14 [==============================] - 8s 575ms/step - loss: 0.1548 - accuracy: 0.9551\n",
      "Epoch 241/400\n",
      "14/14 [==============================] - 10s 732ms/step - loss: 0.1267 - accuracy: 0.9666\n",
      "Epoch 242/400\n",
      "14/14 [==============================] - 8s 577ms/step - loss: 0.1589 - accuracy: 0.9505\n",
      "Epoch 243/400\n",
      "14/14 [==============================] - 9s 679ms/step - loss: 0.1549 - accuracy: 0.9516\n",
      "Epoch 244/400\n",
      "14/14 [==============================] - 8s 575ms/step - loss: 0.2038 - accuracy: 0.9401\n",
      "Epoch 245/400\n",
      "14/14 [==============================] - 9s 644ms/step - loss: 0.1808 - accuracy: 0.9378\n",
      "Epoch 246/400\n",
      "14/14 [==============================] - 9s 624ms/step - loss: 0.1849 - accuracy: 0.9355\n",
      "Epoch 247/400\n",
      "14/14 [==============================] - 9s 657ms/step - loss: 0.1963 - accuracy: 0.9366\n",
      "Epoch 248/400\n",
      "14/14 [==============================] - 9s 605ms/step - loss: 0.2224 - accuracy: 0.9205\n",
      "Epoch 249/400\n",
      "14/14 [==============================] - 10s 710ms/step - loss: 0.1971 - accuracy: 0.9401\n",
      "Epoch 250/400\n",
      "14/14 [==============================] - 8s 588ms/step - loss: 0.1591 - accuracy: 0.9551\n",
      "Epoch 251/400\n",
      "14/14 [==============================] - 10s 698ms/step - loss: 0.1625 - accuracy: 0.9412\n",
      "Epoch 252/400\n",
      "14/14 [==============================] - 8s 621ms/step - loss: 0.1743 - accuracy: 0.9551\n",
      "Epoch 253/400\n",
      "14/14 [==============================] - 9s 592ms/step - loss: 0.1702 - accuracy: 0.9505\n",
      "Epoch 254/400\n",
      "14/14 [==============================] - 10s 717ms/step - loss: 0.1878 - accuracy: 0.9412\n",
      "Epoch 255/400\n",
      "14/14 [==============================] - 8s 568ms/step - loss: 0.1424 - accuracy: 0.9608\n",
      "Epoch 256/400\n",
      "14/14 [==============================] - 9s 651ms/step - loss: 0.1593 - accuracy: 0.9435\n",
      "Epoch 257/400\n",
      "14/14 [==============================] - 8s 542ms/step - loss: 0.1576 - accuracy: 0.9424\n",
      "Epoch 258/400\n",
      "14/14 [==============================] - 9s 617ms/step - loss: 0.1379 - accuracy: 0.9597\n",
      "Epoch 259/400\n",
      "14/14 [==============================] - 9s 628ms/step - loss: 0.1309 - accuracy: 0.9608\n",
      "Epoch 260/400\n",
      "14/14 [==============================] - 8s 572ms/step - loss: 0.1462 - accuracy: 0.9539\n",
      "Epoch 261/400\n",
      "14/14 [==============================] - 9s 635ms/step - loss: 0.1336 - accuracy: 0.9505\n",
      "Epoch 262/400\n",
      "14/14 [==============================] - 11s 815ms/step - loss: 0.1701 - accuracy: 0.9505\n",
      "Epoch 263/400\n",
      "14/14 [==============================] - 9s 662ms/step - loss: 0.1430 - accuracy: 0.9459\n",
      "Epoch 264/400\n",
      "14/14 [==============================] - 9s 684ms/step - loss: 0.1522 - accuracy: 0.9528\n",
      "Epoch 265/400\n",
      "14/14 [==============================] - 10s 664ms/step - loss: 0.1391 - accuracy: 0.9585\n",
      "Epoch 266/400\n",
      "14/14 [==============================] - 8s 596ms/step - loss: 0.1221 - accuracy: 0.9597\n",
      "Epoch 267/400\n",
      "14/14 [==============================] - 11s 789ms/step - loss: 0.1245 - accuracy: 0.9666\n",
      "Epoch 268/400\n",
      "14/14 [==============================] - 8s 613ms/step - loss: 0.1230 - accuracy: 0.9631\n",
      "Epoch 269/400\n",
      "14/14 [==============================] - 9s 646ms/step - loss: 0.1328 - accuracy: 0.9620\n",
      "Epoch 270/400\n",
      "14/14 [==============================] - 10s 670ms/step - loss: 0.1965 - accuracy: 0.9389\n",
      "Epoch 271/400\n",
      "14/14 [==============================] - 8s 613ms/step - loss: 0.1480 - accuracy: 0.9516\n",
      "Epoch 272/400\n",
      "14/14 [==============================] - 9s 603ms/step - loss: 0.1287 - accuracy: 0.9597\n",
      "Epoch 273/400\n",
      "14/14 [==============================] - 11s 772ms/step - loss: 0.1574 - accuracy: 0.9528\n",
      "Epoch 274/400\n",
      "14/14 [==============================] - 10s 773ms/step - loss: 0.1373 - accuracy: 0.9539\n",
      "Epoch 275/400\n",
      "14/14 [==============================] - 8s 551ms/step - loss: 0.1495 - accuracy: 0.9482\n",
      "Epoch 276/400\n",
      "14/14 [==============================] - 10s 673ms/step - loss: 0.1510 - accuracy: 0.9528\n",
      "Epoch 277/400\n",
      "14/14 [==============================] - 9s 640ms/step - loss: 0.1362 - accuracy: 0.9562\n",
      "Epoch 278/400\n",
      "14/14 [==============================] - 9s 612ms/step - loss: 0.1128 - accuracy: 0.9677\n",
      "Epoch 279/400\n",
      "14/14 [==============================] - 9s 682ms/step - loss: 0.1120 - accuracy: 0.9654\n",
      "Epoch 280/400\n",
      "14/14 [==============================] - 8s 581ms/step - loss: 0.1122 - accuracy: 0.9608\n",
      "Epoch 281/400\n",
      "14/14 [==============================] - 9s 631ms/step - loss: 0.1039 - accuracy: 0.9689\n",
      "Epoch 282/400\n",
      "14/14 [==============================] - 9s 646ms/step - loss: 0.0890 - accuracy: 0.9735\n",
      "Epoch 283/400\n",
      "14/14 [==============================] - 10s 734ms/step - loss: 0.0891 - accuracy: 0.9735\n",
      "Epoch 284/400\n",
      "14/14 [==============================] - 8s 583ms/step - loss: 0.0977 - accuracy: 0.9689\n",
      "Epoch 285/400\n",
      "14/14 [==============================] - 10s 703ms/step - loss: 0.1023 - accuracy: 0.9677\n",
      "Epoch 286/400\n",
      "14/14 [==============================] - 8s 582ms/step - loss: 0.1030 - accuracy: 0.9654\n",
      "Epoch 287/400\n",
      "14/14 [==============================] - 10s 712ms/step - loss: 0.1217 - accuracy: 0.9689\n",
      "Epoch 288/400\n",
      "14/14 [==============================] - 8s 597ms/step - loss: 0.1302 - accuracy: 0.9631\n",
      "Epoch 289/400\n",
      "14/14 [==============================] - 9s 666ms/step - loss: 0.1220 - accuracy: 0.9562\n",
      "Epoch 290/400\n",
      "14/14 [==============================] - 8s 551ms/step - loss: 0.1897 - accuracy: 0.9401\n",
      "Epoch 291/400\n",
      "14/14 [==============================] - 10s 693ms/step - loss: 0.1066 - accuracy: 0.9654\n",
      "Epoch 292/400\n",
      "14/14 [==============================] - 8s 545ms/step - loss: 0.1427 - accuracy: 0.9516\n",
      "Epoch 293/400\n",
      "14/14 [==============================] - 9s 642ms/step - loss: 0.1004 - accuracy: 0.9700\n",
      "Epoch 294/400\n",
      "14/14 [==============================] - 9s 645ms/step - loss: 0.0817 - accuracy: 0.9816\n",
      "Epoch 295/400\n",
      "14/14 [==============================] - 9s 636ms/step - loss: 0.0763 - accuracy: 0.9793\n",
      "Epoch 296/400\n",
      "14/14 [==============================] - 8s 537ms/step - loss: 0.0823 - accuracy: 0.9793\n",
      "Epoch 297/400\n",
      "14/14 [==============================] - 9s 657ms/step - loss: 0.0663 - accuracy: 0.9850\n",
      "Epoch 298/400\n",
      "14/14 [==============================] - 8s 579ms/step - loss: 0.0931 - accuracy: 0.9712\n",
      "Epoch 299/400\n",
      "14/14 [==============================] - 8s 625ms/step - loss: 0.1063 - accuracy: 0.9712\n",
      "Epoch 300/400\n",
      "14/14 [==============================] - 9s 665ms/step - loss: 0.0796 - accuracy: 0.9781\n",
      "Epoch 301/400\n",
      "14/14 [==============================] - 8s 523ms/step - loss: 0.0919 - accuracy: 0.9747\n",
      "Epoch 302/400\n",
      "14/14 [==============================] - 10s 678ms/step - loss: 0.0917 - accuracy: 0.9666\n",
      "Epoch 303/400\n",
      "14/14 [==============================] - 9s 671ms/step - loss: 0.1259 - accuracy: 0.9689\n",
      "Epoch 304/400\n",
      "14/14 [==============================] - 10s 666ms/step - loss: 0.1351 - accuracy: 0.9574\n",
      "Epoch 305/400\n",
      "14/14 [==============================] - 8s 623ms/step - loss: 0.0948 - accuracy: 0.9689\n",
      "Epoch 306/400\n",
      "14/14 [==============================] - 9s 657ms/step - loss: 0.1087 - accuracy: 0.9724\n",
      "Epoch 307/400\n",
      "14/14 [==============================] - 10s 675ms/step - loss: 0.0927 - accuracy: 0.9724\n",
      "Epoch 308/400\n",
      "14/14 [==============================] - 10s 691ms/step - loss: 0.1059 - accuracy: 0.9666\n",
      "Epoch 309/400\n",
      "14/14 [==============================] - 9s 637ms/step - loss: 0.0928 - accuracy: 0.9758\n",
      "Epoch 310/400\n",
      "14/14 [==============================] - 8s 614ms/step - loss: 0.0853 - accuracy: 0.9712\n",
      "Epoch 311/400\n",
      "14/14 [==============================] - 9s 649ms/step - loss: 0.1202 - accuracy: 0.9654\n",
      "Epoch 312/400\n",
      "14/14 [==============================] - 9s 679ms/step - loss: 0.0824 - accuracy: 0.9724\n",
      "Epoch 313/400\n",
      "14/14 [==============================] - 9s 655ms/step - loss: 0.1036 - accuracy: 0.9712\n",
      "Epoch 314/400\n",
      "14/14 [==============================] - 8s 569ms/step - loss: 0.1707 - accuracy: 0.9505\n",
      "Epoch 315/400\n",
      "14/14 [==============================] - 9s 638ms/step - loss: 0.1207 - accuracy: 0.9585\n",
      "Epoch 316/400\n",
      "14/14 [==============================] - 9s 639ms/step - loss: 0.1109 - accuracy: 0.9677\n",
      "Epoch 317/400\n",
      "14/14 [==============================] - 9s 642ms/step - loss: 0.1203 - accuracy: 0.9654\n",
      "Epoch 318/400\n"
     ]
    },
    {
     "name": "stdout",
     "output_type": "stream",
     "text": [
      "14/14 [==============================] - 9s 632ms/step - loss: 0.1302 - accuracy: 0.9585\n",
      "Epoch 319/400\n",
      "14/14 [==============================] - 9s 616ms/step - loss: 0.1024 - accuracy: 0.9747\n",
      "Epoch 320/400\n",
      "14/14 [==============================] - 8s 591ms/step - loss: 0.1043 - accuracy: 0.9677\n",
      "Epoch 321/400\n",
      "14/14 [==============================] - 9s 643ms/step - loss: 0.0955 - accuracy: 0.9735\n",
      "Epoch 322/400\n",
      "14/14 [==============================] - 9s 665ms/step - loss: 0.1053 - accuracy: 0.9700\n",
      "Epoch 323/400\n",
      "14/14 [==============================] - 9s 668ms/step - loss: 0.1107 - accuracy: 0.9758\n",
      "Epoch 324/400\n",
      "14/14 [==============================] - 9s 655ms/step - loss: 0.0857 - accuracy: 0.9770\n",
      "Epoch 325/400\n",
      "14/14 [==============================] - 9s 627ms/step - loss: 0.0747 - accuracy: 0.9827\n",
      "Epoch 326/400\n",
      "14/14 [==============================] - 8s 595ms/step - loss: 0.0621 - accuracy: 0.9827\n",
      "Epoch 327/400\n",
      "14/14 [==============================] - 9s 657ms/step - loss: 0.0859 - accuracy: 0.9724\n",
      "Epoch 328/400\n",
      "14/14 [==============================] - 9s 655ms/step - loss: 0.1206 - accuracy: 0.9551\n",
      "Epoch 329/400\n",
      "14/14 [==============================] - 8s 562ms/step - loss: 0.1213 - accuracy: 0.9631\n",
      "Epoch 330/400\n",
      "14/14 [==============================] - 10s 694ms/step - loss: 0.1272 - accuracy: 0.9562\n",
      "Epoch 331/400\n",
      "14/14 [==============================] - 8s 601ms/step - loss: 0.1109 - accuracy: 0.9643\n",
      "Epoch 332/400\n",
      "14/14 [==============================] - 8s 573ms/step - loss: 0.1020 - accuracy: 0.9666\n",
      "Epoch 333/400\n",
      "14/14 [==============================] - 10s 712ms/step - loss: 0.1001 - accuracy: 0.9712\n",
      "Epoch 334/400\n",
      "14/14 [==============================] - 8s 576ms/step - loss: 0.0802 - accuracy: 0.9758\n",
      "Epoch 335/400\n",
      "14/14 [==============================] - 9s 640ms/step - loss: 0.0777 - accuracy: 0.9793\n",
      "Epoch 336/400\n",
      "14/14 [==============================] - 8s 610ms/step - loss: 0.0922 - accuracy: 0.9735\n",
      "Epoch 337/400\n",
      "14/14 [==============================] - 10s 671ms/step - loss: 0.1126 - accuracy: 0.9631\n",
      "Epoch 338/400\n",
      "14/14 [==============================] - 9s 642ms/step - loss: 0.1204 - accuracy: 0.9654\n",
      "Epoch 339/400\n",
      "14/14 [==============================] - 9s 605ms/step - loss: 0.3380 - accuracy: 0.9021\n",
      "Epoch 340/400\n",
      "14/14 [==============================] - 9s 650ms/step - loss: 0.3675 - accuracy: 0.8756\n",
      "Epoch 341/400\n",
      "14/14 [==============================] - 8s 543ms/step - loss: 0.2525 - accuracy: 0.9171\n",
      "Epoch 342/400\n",
      "14/14 [==============================] - 8s 588ms/step - loss: 0.1629 - accuracy: 0.9528\n",
      "Epoch 343/400\n",
      "14/14 [==============================] - 9s 598ms/step - loss: 0.1434 - accuracy: 0.9539\n",
      "Epoch 344/400\n",
      "14/14 [==============================] - 9s 635ms/step - loss: 0.1077 - accuracy: 0.9666\n",
      "Epoch 345/400\n",
      "14/14 [==============================] - 8s 559ms/step - loss: 0.1134 - accuracy: 0.9643\n",
      "Epoch 346/400\n",
      "14/14 [==============================] - 9s 622ms/step - loss: 0.0775 - accuracy: 0.9804\n",
      "Epoch 347/400\n",
      "14/14 [==============================] - 8s 521ms/step - loss: 0.0797 - accuracy: 0.9816\n",
      "Epoch 348/400\n",
      "14/14 [==============================] - 9s 632ms/step - loss: 0.0846 - accuracy: 0.9793\n",
      "Epoch 349/400\n",
      "14/14 [==============================] - 9s 648ms/step - loss: 0.1252 - accuracy: 0.9620\n",
      "Epoch 350/400\n",
      "14/14 [==============================] - 8s 592ms/step - loss: 0.1030 - accuracy: 0.9712\n",
      "Epoch 351/400\n",
      "14/14 [==============================] - 8s 515ms/step - loss: 0.1021 - accuracy: 0.9666\n",
      "Epoch 352/400\n",
      "14/14 [==============================] - 10s 687ms/step - loss: 0.0696 - accuracy: 0.9862\n",
      "Epoch 353/400\n",
      "14/14 [==============================] - 8s 582ms/step - loss: 0.1026 - accuracy: 0.9712\n",
      "Epoch 354/400\n",
      "14/14 [==============================] - 10s 725ms/step - loss: 0.1096 - accuracy: 0.9724\n",
      "Epoch 355/400\n",
      "14/14 [==============================] - 8s 529ms/step - loss: 0.0984 - accuracy: 0.9747\n",
      "Epoch 356/400\n",
      "14/14 [==============================] - 8s 614ms/step - loss: 0.0751 - accuracy: 0.9724\n",
      "Epoch 357/400\n",
      "14/14 [==============================] - 8s 522ms/step - loss: 0.0607 - accuracy: 0.9896\n",
      "Epoch 358/400\n",
      "14/14 [==============================] - 8s 595ms/step - loss: 0.0579 - accuracy: 0.9862\n",
      "Epoch 359/400\n",
      "14/14 [==============================] - 9s 599ms/step - loss: 0.0833 - accuracy: 0.9758\n",
      "Epoch 360/400\n",
      "14/14 [==============================] - 9s 628ms/step - loss: 0.1069 - accuracy: 0.9631\n",
      "Epoch 361/400\n",
      "14/14 [==============================] - 8s 585ms/step - loss: 0.0600 - accuracy: 0.9816\n",
      "Epoch 362/400\n",
      "14/14 [==============================] - 9s 635ms/step - loss: 0.0636 - accuracy: 0.9770\n",
      "Epoch 363/400\n",
      "14/14 [==============================] - 8s 581ms/step - loss: 0.0370 - accuracy: 0.9919\n",
      "Epoch 364/400\n",
      "14/14 [==============================] - 8s 614ms/step - loss: 0.0467 - accuracy: 0.9908\n",
      "Epoch 365/400\n",
      "14/14 [==============================] - 9s 602ms/step - loss: 0.0462 - accuracy: 0.9896\n",
      "Epoch 366/400\n",
      "14/14 [==============================] - 9s 672ms/step - loss: 0.0606 - accuracy: 0.9850\n",
      "Epoch 367/400\n",
      "14/14 [==============================] - 9s 627ms/step - loss: 0.0678 - accuracy: 0.9793\n",
      "Epoch 368/400\n",
      "14/14 [==============================] - 7s 544ms/step - loss: 0.0603 - accuracy: 0.9827\n",
      "Epoch 369/400\n",
      "14/14 [==============================] - 10s 729ms/step - loss: 0.0603 - accuracy: 0.9804\n",
      "Epoch 370/400\n",
      "14/14 [==============================] - 8s 607ms/step - loss: 0.0553 - accuracy: 0.9816\n",
      "Epoch 371/400\n",
      "14/14 [==============================] - 9s 613ms/step - loss: 0.0782 - accuracy: 0.9758\n",
      "Epoch 372/400\n",
      "14/14 [==============================] - 8s 565ms/step - loss: 0.1177 - accuracy: 0.9620\n",
      "Epoch 373/400\n",
      "14/14 [==============================] - 9s 620ms/step - loss: 0.0986 - accuracy: 0.9747\n",
      "Epoch 374/400\n",
      "14/14 [==============================] - 9s 635ms/step - loss: 0.0749 - accuracy: 0.9747\n",
      "Epoch 375/400\n",
      "14/14 [==============================] - 8s 529ms/step - loss: 0.0681 - accuracy: 0.9827\n",
      "Epoch 376/400\n",
      "14/14 [==============================] - 9s 614ms/step - loss: 0.0492 - accuracy: 0.9873\n",
      "Epoch 377/400\n",
      "14/14 [==============================] - 8s 534ms/step - loss: 0.0576 - accuracy: 0.9827\n",
      "Epoch 378/400\n",
      "14/14 [==============================] - 9s 632ms/step - loss: 0.0810 - accuracy: 0.9758\n",
      "Epoch 379/400\n",
      "14/14 [==============================] - 8s 529ms/step - loss: 0.0625 - accuracy: 0.9793\n",
      "Epoch 380/400\n",
      "14/14 [==============================] - 10s 708ms/step - loss: 0.0499 - accuracy: 0.9885\n",
      "Epoch 381/400\n",
      "14/14 [==============================] - 8s 620ms/step - loss: 0.0599 - accuracy: 0.9793\n",
      "Epoch 382/400\n",
      "14/14 [==============================] - 7s 533ms/step - loss: 0.0654 - accuracy: 0.9862\n",
      "Epoch 383/400\n",
      "14/14 [==============================] - 10s 705ms/step - loss: 0.0403 - accuracy: 0.9919\n",
      "Epoch 384/400\n",
      "14/14 [==============================] - 8s 559ms/step - loss: 0.0697 - accuracy: 0.9758\n",
      "Epoch 385/400\n",
      "14/14 [==============================] - 9s 653ms/step - loss: 0.0667 - accuracy: 0.9816\n",
      "Epoch 386/400\n",
      "14/14 [==============================] - 8s 578ms/step - loss: 0.0611 - accuracy: 0.9816\n",
      "Epoch 387/400\n",
      "14/14 [==============================] - 8s 569ms/step - loss: 0.0542 - accuracy: 0.9862\n",
      "Epoch 388/400\n",
      "14/14 [==============================] - 8s 578ms/step - loss: 0.0486 - accuracy: 0.9850\n",
      "Epoch 389/400\n",
      "14/14 [==============================] - 8s 557ms/step - loss: 0.0631 - accuracy: 0.9804\n",
      "Epoch 390/400\n",
      "14/14 [==============================] - 9s 636ms/step - loss: 0.0591 - accuracy: 0.9862\n",
      "Epoch 391/400\n",
      "14/14 [==============================] - 8s 585ms/step - loss: 0.0776 - accuracy: 0.9724\n",
      "Epoch 392/400\n",
      "14/14 [==============================] - 9s 635ms/step - loss: 0.1061 - accuracy: 0.9677\n",
      "Epoch 393/400\n",
      "14/14 [==============================] - 8s 602ms/step - loss: 0.1092 - accuracy: 0.9677\n",
      "Epoch 394/400\n",
      "14/14 [==============================] - 8s 570ms/step - loss: 0.0935 - accuracy: 0.9654\n",
      "Epoch 395/400\n",
      "14/14 [==============================] - 9s 586ms/step - loss: 0.1140 - accuracy: 0.9643\n",
      "Epoch 396/400\n",
      "14/14 [==============================] - 9s 652ms/step - loss: 0.1279 - accuracy: 0.9677\n",
      "Epoch 397/400\n",
      "14/14 [==============================] - 7s 533ms/step - loss: 0.0877 - accuracy: 0.9724\n",
      "Epoch 398/400\n",
      "14/14 [==============================] - 9s 592ms/step - loss: 0.1392 - accuracy: 0.9539\n",
      "Epoch 399/400\n",
      "14/14 [==============================] - 7s 518ms/step - loss: 0.1035 - accuracy: 0.9712\n",
      "Epoch 400/400\n",
      "14/14 [==============================] - 8s 588ms/step - loss: 0.0760 - accuracy: 0.9770\n"
     ]
    },
    {
     "data": {
      "text/plain": [
       "<keras.callbacks.History at 0x1ffeaab0c10>"
      ]
     },
     "execution_count": 77,
     "metadata": {},
     "output_type": "execute_result"
    }
   ],
   "source": [
    "# print(\"Training ...\")\n",
    "batch_size = 62   # num of training examples per minibatch\n",
    "num_epochs = 400\n",
    "# print(len(x_train))\n",
    "# print(len(Y_train))\n",
    "modelLSTM.fit(\n",
    "    np.array(X_train),\n",
    "    np.array(Y_train),\n",
    "    batch_size=batch_size,\n",
    "    epochs=num_epochs,\n",
    ")"
   ]
  },
  {
   "cell_type": "code",
   "execution_count": 70,
   "id": "539e78cc",
   "metadata": {},
   "outputs": [
    {
     "name": "stdout",
     "output_type": "stream",
     "text": [
      "760\n",
      "326\n"
     ]
    }
   ],
   "source": [
    "print(len(X_train))\n",
    "print(len(X_test))"
   ]
  },
  {
   "cell_type": "markdown",
   "id": "b15d5431",
   "metadata": {},
   "source": [
    "<h1>Testing LSTM model</h1>"
   ]
  },
  {
   "cell_type": "code",
   "execution_count": 78,
   "id": "62f494c4",
   "metadata": {
    "scrolled": true
   },
   "outputs": [
    {
     "name": "stdout",
     "output_type": "stream",
     "text": [
      "\n",
      "Testing ...\n",
      "4/4 [==============================] - 1s 48ms/step - loss: 1.3608 - accuracy: 0.6651\n",
      "Test loss:   1.3607501983642578\n",
      "Test accuracy:   0.6651375889778137\n"
     ]
    }
   ],
   "source": [
    "print(\"\\nTesting ...\")\n",
    "score, accuracy = modelLSTM.evaluate(\n",
    "    np.array(X_test), np.array(Y_test), batch_size=batch_size, verbose=1)\n",
    "print(\"Test loss:  \", score)\n",
    "print(\"Test accuracy:  \", accuracy)"
   ]
  },
  {
   "cell_type": "markdown",
   "id": "a5c0fb03",
   "metadata": {},
   "source": [
    "<h1>Saving LSTM model</h1>"
   ]
  },
  {
   "cell_type": "code",
   "execution_count": 69,
   "id": "ffc8d659",
   "metadata": {},
   "outputs": [],
   "source": [
    "modelFileName=\"lstm_400_56.h5\"\n",
    "modelLSTM.save(\"savedModels/\"+modelFileName)"
   ]
  },
  {
   "cell_type": "markdown",
   "id": "27a35af0",
   "metadata": {},
   "source": [
    "<h1>Following code is developing biLstm model, an advances version of LSTM</h1>"
   ]
  },
  {
   "cell_type": "code",
   "execution_count": 49,
   "id": "7554e382",
   "metadata": {},
   "outputs": [
    {
     "name": "stdout",
     "output_type": "stream",
     "text": [
      "Model: \"sequential\"\n",
      "_________________________________________________________________\n",
      " Layer (type)                Output Shape              Param #   \n",
      "=================================================================\n",
      " bidirectional (Bidirectiona  (None, 108, 216)         105408    \n",
      " l)                                                              \n",
      "                                                                 \n",
      " bidirectional_1 (Bidirectio  (None, 64)               63744     \n",
      " nal)                                                            \n",
      "                                                                 \n",
      " dense (Dense)               (None, 14)                910       \n",
      "                                                                 \n",
      "=================================================================\n",
      "Total params: 170,062\n",
      "Trainable params: 170,062\n",
      "Non-trainable params: 0\n",
      "_________________________________________________________________\n"
     ]
    }
   ],
   "source": [
    "modelBiLSTM = Sequential()\n",
    "input_shape = (np.array(X_train).shape[1], np.array(X_train).shape[2])\n",
    "modelBiLSTM.add(Bidirectional(LSTM(units=108, dropout=0.05, recurrent_dropout=0.35, return_sequences=True), input_shape=input_shape))\n",
    "modelBiLSTM.add(Bidirectional(LSTM(units=32,  dropout=0.05, recurrent_dropout=0.35, return_sequences=False)))\n",
    "modelBiLSTM.add(Dense(units=Y_train.shape[1], activation=\"softmax\"))\n",
    "opt = Adam()\n",
    "modelBiLSTM.compile(loss=\"categorical_crossentropy\", optimizer=opt, metrics=[\"accuracy\"])\n",
    "modelBiLSTM.summary()"
   ]
  },
  {
   "cell_type": "markdown",
   "id": "68818b8f",
   "metadata": {},
   "source": [
    "<h1>Following code is training BiLSTM model on training data set</h1>\n",
    "<h2>With batch size = 56</h2>\n",
    "<h2>With epochs = 150</h2>"
   ]
  },
  {
   "cell_type": "code",
   "execution_count": 110,
   "id": "a7936890",
   "metadata": {
    "scrolled": true
   },
   "outputs": [
    {
     "name": "stdout",
     "output_type": "stream",
     "text": [
      "760\n",
      "760\n",
      "Epoch 1/150\n",
      "14/14 [==============================] - 83s 4s/step - loss: 2.6761 - accuracy: 0.0645\n",
      "Epoch 2/150\n",
      "14/14 [==============================] - 59s 4s/step - loss: 2.6406 - accuracy: 0.0789\n",
      "Epoch 3/150\n",
      "14/14 [==============================] - 66s 5s/step - loss: 2.6146 - accuracy: 0.1079\n",
      "Epoch 4/150\n",
      "14/14 [==============================] - 61s 4s/step - loss: 2.5968 - accuracy: 0.1132\n",
      "Epoch 5/150\n",
      "14/14 [==============================] - 64s 5s/step - loss: 2.5624 - accuracy: 0.1408\n",
      "Epoch 6/150\n",
      "14/14 [==============================] - 63s 5s/step - loss: 2.5318 - accuracy: 0.1487\n",
      "Epoch 7/150\n",
      "14/14 [==============================] - 56s 4s/step - loss: 2.4012 - accuracy: 0.2197\n",
      "Epoch 8/150\n",
      "14/14 [==============================] - 42s 3s/step - loss: 2.3841 - accuracy: 0.2026\n",
      "Epoch 9/150\n",
      "14/14 [==============================] - 41s 3s/step - loss: 2.2899 - accuracy: 0.2171\n",
      "Epoch 10/150\n",
      "14/14 [==============================] - 52s 4s/step - loss: 2.2345 - accuracy: 0.2329\n",
      "Epoch 11/150\n",
      "14/14 [==============================] - 53s 4s/step - loss: 2.1115 - accuracy: 0.2908\n",
      "Epoch 12/150\n",
      "14/14 [==============================] - 58s 4s/step - loss: 2.0108 - accuracy: 0.2908\n",
      "Epoch 13/150\n",
      "14/14 [==============================] - 62s 4s/step - loss: 2.0237 - accuracy: 0.2724\n",
      "Epoch 14/150\n",
      "14/14 [==============================] - 55s 4s/step - loss: 1.9058 - accuracy: 0.3342\n",
      "Epoch 15/150\n",
      "14/14 [==============================] - 66s 5s/step - loss: 1.8472 - accuracy: 0.3618\n",
      "Epoch 16/150\n",
      "14/14 [==============================] - 55s 4s/step - loss: 1.7709 - accuracy: 0.3658\n",
      "Epoch 17/150\n",
      "14/14 [==============================] - 65s 5s/step - loss: 1.6824 - accuracy: 0.4184\n",
      "Epoch 18/150\n",
      "14/14 [==============================] - 56s 4s/step - loss: 1.5861 - accuracy: 0.4158\n",
      "Epoch 19/150\n",
      "14/14 [==============================] - 43s 3s/step - loss: 1.5395 - accuracy: 0.4197\n",
      "Epoch 20/150\n",
      "14/14 [==============================] - 24s 2s/step - loss: 1.4687 - accuracy: 0.4632\n",
      "Epoch 21/150\n",
      "14/14 [==============================] - 35s 3s/step - loss: 1.4643 - accuracy: 0.4566\n",
      "Epoch 22/150\n",
      "14/14 [==============================] - 73s 5s/step - loss: 1.3940 - accuracy: 0.4789\n",
      "Epoch 23/150\n",
      "14/14 [==============================] - 77s 5s/step - loss: 1.3850 - accuracy: 0.5197\n",
      "Epoch 24/150\n",
      "14/14 [==============================] - 76s 5s/step - loss: 1.3208 - accuracy: 0.5224\n",
      "Epoch 25/150\n",
      "14/14 [==============================] - 76s 5s/step - loss: 1.2894 - accuracy: 0.5263\n",
      "Epoch 26/150\n",
      "14/14 [==============================] - 75s 5s/step - loss: 1.2632 - accuracy: 0.5355\n",
      "Epoch 27/150\n",
      "14/14 [==============================] - 75s 5s/step - loss: 1.2337 - accuracy: 0.5579\n",
      "Epoch 28/150\n",
      "14/14 [==============================] - 77s 5s/step - loss: 1.1990 - accuracy: 0.5658\n",
      "Epoch 29/150\n",
      "14/14 [==============================] - 76s 5s/step - loss: 1.2282 - accuracy: 0.5342\n",
      "Epoch 30/150\n",
      "14/14 [==============================] - 76s 5s/step - loss: 1.1926 - accuracy: 0.5671\n",
      "Epoch 31/150\n",
      "14/14 [==============================] - 71s 5s/step - loss: 1.0659 - accuracy: 0.6053\n",
      "Epoch 32/150\n",
      "14/14 [==============================] - 73s 5s/step - loss: 1.0925 - accuracy: 0.5803\n",
      "Epoch 33/150\n",
      "14/14 [==============================] - 2611s 200s/step - loss: 1.1379 - accuracy: 0.5711\n",
      "Epoch 34/150\n",
      "14/14 [==============================] - 21s 2s/step - loss: 1.0667 - accuracy: 0.5961\n",
      "Epoch 35/150\n",
      "14/14 [==============================] - 21s 1s/step - loss: 1.1016 - accuracy: 0.6000\n",
      "Epoch 36/150\n",
      "14/14 [==============================] - 21s 1s/step - loss: 0.9566 - accuracy: 0.6487\n",
      "Epoch 37/150\n",
      "14/14 [==============================] - 21s 1s/step - loss: 1.0001 - accuracy: 0.6211\n",
      "Epoch 38/150\n",
      "14/14 [==============================] - 20s 1s/step - loss: 0.9732 - accuracy: 0.6224\n",
      "Epoch 39/150\n",
      "14/14 [==============================] - 21s 2s/step - loss: 0.9255 - accuracy: 0.6566\n",
      "Epoch 40/150\n",
      "14/14 [==============================] - 25s 2s/step - loss: 0.9615 - accuracy: 0.6474\n",
      "Epoch 41/150\n",
      "14/14 [==============================] - 23s 2s/step - loss: 0.9628 - accuracy: 0.6421\n",
      "Epoch 42/150\n",
      "14/14 [==============================] - 26s 2s/step - loss: 0.9391 - accuracy: 0.6658\n",
      "Epoch 43/150\n",
      "14/14 [==============================] - 26s 2s/step - loss: 0.8433 - accuracy: 0.7066\n",
      "Epoch 44/150\n",
      "14/14 [==============================] - 24s 2s/step - loss: 0.7865 - accuracy: 0.7184\n",
      "Epoch 45/150\n",
      "14/14 [==============================] - 24s 2s/step - loss: 0.7516 - accuracy: 0.7289\n",
      "Epoch 46/150\n",
      "14/14 [==============================] - 25s 2s/step - loss: 0.7099 - accuracy: 0.7526\n",
      "Epoch 47/150\n",
      "14/14 [==============================] - 24s 2s/step - loss: 0.7067 - accuracy: 0.7342\n",
      "Epoch 48/150\n",
      "14/14 [==============================] - 25s 2s/step - loss: 0.7044 - accuracy: 0.7592\n",
      "Epoch 49/150\n",
      "14/14 [==============================] - 25s 2s/step - loss: 0.7028 - accuracy: 0.7434\n",
      "Epoch 50/150\n",
      "14/14 [==============================] - 27s 2s/step - loss: 0.6179 - accuracy: 0.7776\n",
      "Epoch 51/150\n",
      "14/14 [==============================] - 24s 2s/step - loss: 0.6029 - accuracy: 0.7842\n",
      "Epoch 52/150\n",
      "14/14 [==============================] - 25s 2s/step - loss: 0.5798 - accuracy: 0.8013\n",
      "Epoch 53/150\n",
      "14/14 [==============================] - 26s 2s/step - loss: 0.5860 - accuracy: 0.7961\n",
      "Epoch 54/150\n",
      "14/14 [==============================] - 26s 2s/step - loss: 0.5584 - accuracy: 0.8079\n",
      "Epoch 55/150\n",
      "14/14 [==============================] - 24s 2s/step - loss: 0.5178 - accuracy: 0.8145\n",
      "Epoch 56/150\n",
      "14/14 [==============================] - 27s 2s/step - loss: 0.5131 - accuracy: 0.8184\n",
      "Epoch 57/150\n",
      "14/14 [==============================] - 25s 2s/step - loss: 0.5019 - accuracy: 0.8211\n",
      "Epoch 58/150\n",
      "14/14 [==============================] - 26s 2s/step - loss: 0.5209 - accuracy: 0.8250\n",
      "Epoch 59/150\n",
      "14/14 [==============================] - 26s 2s/step - loss: 0.5162 - accuracy: 0.8132\n",
      "Epoch 60/150\n",
      "14/14 [==============================] - 26s 2s/step - loss: 0.4451 - accuracy: 0.8487\n",
      "Epoch 61/150\n",
      "14/14 [==============================] - 25s 2s/step - loss: 0.4196 - accuracy: 0.8474\n",
      "Epoch 62/150\n",
      "14/14 [==============================] - 27s 2s/step - loss: 0.4763 - accuracy: 0.8237\n",
      "Epoch 63/150\n",
      "14/14 [==============================] - 26s 2s/step - loss: 0.4340 - accuracy: 0.8645\n",
      "Epoch 64/150\n",
      "14/14 [==============================] - 26s 2s/step - loss: 0.4157 - accuracy: 0.8711\n",
      "Epoch 65/150\n",
      "14/14 [==============================] - 26s 2s/step - loss: 0.3799 - accuracy: 0.8816\n",
      "Epoch 66/150\n",
      "14/14 [==============================] - 26s 2s/step - loss: 0.3816 - accuracy: 0.8671\n",
      "Epoch 67/150\n",
      "14/14 [==============================] - 27s 2s/step - loss: 0.3944 - accuracy: 0.8803\n",
      "Epoch 68/150\n",
      "14/14 [==============================] - 26s 2s/step - loss: 0.3515 - accuracy: 0.8855\n",
      "Epoch 69/150\n",
      "14/14 [==============================] - 26s 2s/step - loss: 0.3615 - accuracy: 0.8842\n",
      "Epoch 70/150\n",
      "14/14 [==============================] - 31s 2s/step - loss: 0.3482 - accuracy: 0.8934\n",
      "Epoch 71/150\n",
      "14/14 [==============================] - 33s 2s/step - loss: 0.3211 - accuracy: 0.8934\n",
      "Epoch 72/150\n",
      "14/14 [==============================] - 32s 2s/step - loss: 0.3364 - accuracy: 0.8868\n",
      "Epoch 73/150\n",
      "14/14 [==============================] - 32s 2s/step - loss: 0.3118 - accuracy: 0.9092\n",
      "Epoch 74/150\n",
      "14/14 [==============================] - 34s 2s/step - loss: 0.3506 - accuracy: 0.8737\n",
      "Epoch 75/150\n",
      "14/14 [==============================] - 32s 2s/step - loss: 0.3486 - accuracy: 0.8737\n",
      "Epoch 76/150\n",
      "14/14 [==============================] - 35s 2s/step - loss: 0.3316 - accuracy: 0.8947\n",
      "Epoch 77/150\n",
      "14/14 [==============================] - 36s 2s/step - loss: 0.3071 - accuracy: 0.8987\n",
      "Epoch 78/150\n",
      "14/14 [==============================] - 35s 2s/step - loss: 0.3080 - accuracy: 0.9053\n",
      "Epoch 79/150\n",
      "14/14 [==============================] - 36s 3s/step - loss: 0.3383 - accuracy: 0.8829\n",
      "Epoch 80/150\n",
      "14/14 [==============================] - 36s 3s/step - loss: 0.2545 - accuracy: 0.9250\n",
      "Epoch 81/150\n",
      "14/14 [==============================] - 35s 3s/step - loss: 0.2468 - accuracy: 0.9355\n",
      "Epoch 82/150\n",
      "14/14 [==============================] - 38s 3s/step - loss: 0.2818 - accuracy: 0.9118\n",
      "Epoch 83/150\n",
      "14/14 [==============================] - 37s 3s/step - loss: 0.3038 - accuracy: 0.9039\n",
      "Epoch 84/150\n",
      "14/14 [==============================] - 36s 3s/step - loss: 0.2468 - accuracy: 0.9224\n",
      "Epoch 85/150\n",
      "14/14 [==============================] - 36s 3s/step - loss: 0.2517 - accuracy: 0.9211\n",
      "Epoch 86/150\n",
      "14/14 [==============================] - 37s 3s/step - loss: 0.2487 - accuracy: 0.9158\n",
      "Epoch 87/150\n",
      "14/14 [==============================] - 35s 2s/step - loss: 0.2503 - accuracy: 0.9184\n",
      "Epoch 88/150\n",
      "14/14 [==============================] - 38s 3s/step - loss: 0.2145 - accuracy: 0.9355\n",
      "Epoch 89/150\n",
      "14/14 [==============================] - 36s 2s/step - loss: 0.2174 - accuracy: 0.9408\n",
      "Epoch 90/150\n",
      "14/14 [==============================] - 38s 3s/step - loss: 0.2755 - accuracy: 0.9197\n",
      "Epoch 91/150\n",
      "14/14 [==============================] - 37s 3s/step - loss: 0.2561 - accuracy: 0.9132\n",
      "Epoch 92/150\n",
      "14/14 [==============================] - 38s 3s/step - loss: 0.2307 - accuracy: 0.9316\n",
      "Epoch 93/150\n",
      "14/14 [==============================] - 38s 3s/step - loss: 0.2364 - accuracy: 0.9237\n",
      "Epoch 94/150\n",
      "14/14 [==============================] - 36s 3s/step - loss: 0.2573 - accuracy: 0.9211\n",
      "Epoch 95/150\n",
      "14/14 [==============================] - 39s 3s/step - loss: 0.2169 - accuracy: 0.9303\n",
      "Epoch 96/150\n",
      "14/14 [==============================] - 39s 3s/step - loss: 0.2210 - accuracy: 0.9237\n",
      "Epoch 97/150\n",
      "14/14 [==============================] - 43s 3s/step - loss: 0.1759 - accuracy: 0.9474\n",
      "Epoch 98/150\n",
      "14/14 [==============================] - 39s 3s/step - loss: 0.1705 - accuracy: 0.9461\n",
      "Epoch 99/150\n",
      "14/14 [==============================] - 38s 3s/step - loss: 0.1364 - accuracy: 0.9632\n",
      "Epoch 100/150\n",
      "14/14 [==============================] - 40s 3s/step - loss: 0.1630 - accuracy: 0.9539\n",
      "Epoch 101/150\n",
      "14/14 [==============================] - 37s 3s/step - loss: 0.1413 - accuracy: 0.9632\n",
      "Epoch 102/150\n",
      "14/14 [==============================] - 37s 3s/step - loss: 0.1452 - accuracy: 0.9592\n",
      "Epoch 103/150\n",
      "14/14 [==============================] - 39s 3s/step - loss: 0.1333 - accuracy: 0.9697\n",
      "Epoch 104/150\n",
      "14/14 [==============================] - 32s 2s/step - loss: 0.1834 - accuracy: 0.9395\n",
      "Epoch 105/150\n",
      "14/14 [==============================] - 30s 2s/step - loss: 0.1353 - accuracy: 0.9684\n",
      "Epoch 106/150\n",
      "14/14 [==============================] - 30s 2s/step - loss: 0.1459 - accuracy: 0.9658\n",
      "Epoch 107/150\n",
      "14/14 [==============================] - 29s 2s/step - loss: 0.1458 - accuracy: 0.9553\n",
      "Epoch 108/150\n",
      "14/14 [==============================] - 29s 2s/step - loss: 0.1520 - accuracy: 0.9579\n",
      "Epoch 109/150\n",
      "14/14 [==============================] - 28s 2s/step - loss: 0.1171 - accuracy: 0.9737\n",
      "Epoch 110/150\n",
      "14/14 [==============================] - 29s 2s/step - loss: 0.1100 - accuracy: 0.9711\n",
      "Epoch 111/150\n",
      "14/14 [==============================] - 28s 2s/step - loss: 0.1168 - accuracy: 0.9711\n",
      "Epoch 112/150\n",
      "14/14 [==============================] - 30s 2s/step - loss: 0.0993 - accuracy: 0.9750\n",
      "Epoch 113/150\n",
      "14/14 [==============================] - 30s 2s/step - loss: 0.1167 - accuracy: 0.9684\n",
      "Epoch 114/150\n",
      "14/14 [==============================] - 29s 2s/step - loss: 0.0948 - accuracy: 0.9776\n",
      "Epoch 115/150\n",
      "14/14 [==============================] - 29s 2s/step - loss: 0.1032 - accuracy: 0.9750\n",
      "Epoch 116/150\n",
      "14/14 [==============================] - 30s 2s/step - loss: 0.1297 - accuracy: 0.9658\n",
      "Epoch 117/150\n",
      "14/14 [==============================] - 30s 2s/step - loss: 0.1089 - accuracy: 0.9724\n",
      "Epoch 118/150\n",
      "14/14 [==============================] - 29s 2s/step - loss: 0.1469 - accuracy: 0.9487\n",
      "Epoch 119/150\n",
      "14/14 [==============================] - 31s 2s/step - loss: 0.1316 - accuracy: 0.9658\n",
      "Epoch 120/150\n",
      "14/14 [==============================] - 30s 2s/step - loss: 0.1035 - accuracy: 0.9737\n",
      "Epoch 121/150\n",
      "14/14 [==============================] - 28s 2s/step - loss: 0.0987 - accuracy: 0.9763\n",
      "Epoch 122/150\n",
      "14/14 [==============================] - 30s 2s/step - loss: 0.0834 - accuracy: 0.9803\n",
      "Epoch 123/150\n",
      "14/14 [==============================] - 31s 2s/step - loss: 0.0831 - accuracy: 0.9763\n",
      "Epoch 124/150\n",
      "14/14 [==============================] - 30s 2s/step - loss: 0.0970 - accuracy: 0.9750\n",
      "Epoch 125/150\n",
      "14/14 [==============================] - 31s 2s/step - loss: 0.0879 - accuracy: 0.9789\n",
      "Epoch 126/150\n",
      "14/14 [==============================] - 30s 2s/step - loss: 0.0896 - accuracy: 0.9750\n",
      "Epoch 127/150\n",
      "14/14 [==============================] - 30s 2s/step - loss: 0.1282 - accuracy: 0.9684\n",
      "Epoch 128/150\n",
      "14/14 [==============================] - 31s 2s/step - loss: 0.1612 - accuracy: 0.9513\n",
      "Epoch 129/150\n",
      "14/14 [==============================] - 32s 2s/step - loss: 0.1594 - accuracy: 0.9513\n",
      "Epoch 130/150\n",
      "14/14 [==============================] - 29s 2s/step - loss: 0.1308 - accuracy: 0.9579\n",
      "Epoch 131/150\n",
      "14/14 [==============================] - 30s 2s/step - loss: 0.1255 - accuracy: 0.9658\n",
      "Epoch 132/150\n",
      "14/14 [==============================] - 30s 2s/step - loss: 0.1136 - accuracy: 0.9724\n",
      "Epoch 133/150\n",
      "14/14 [==============================] - 30s 2s/step - loss: 0.1233 - accuracy: 0.9632\n",
      "Epoch 134/150\n",
      "14/14 [==============================] - 31s 2s/step - loss: 0.1646 - accuracy: 0.9474\n",
      "Epoch 135/150\n",
      "14/14 [==============================] - 30s 2s/step - loss: 0.1277 - accuracy: 0.9618\n",
      "Epoch 136/150\n",
      "14/14 [==============================] - 31s 2s/step - loss: 0.1207 - accuracy: 0.9645\n",
      "Epoch 137/150\n",
      "14/14 [==============================] - 29s 2s/step - loss: 0.1145 - accuracy: 0.9632\n",
      "Epoch 138/150\n",
      "14/14 [==============================] - 29s 2s/step - loss: 0.1468 - accuracy: 0.9461\n",
      "Epoch 139/150\n",
      "14/14 [==============================] - 30s 2s/step - loss: 0.1888 - accuracy: 0.9447\n",
      "Epoch 140/150\n",
      "14/14 [==============================] - 31s 2s/step - loss: 0.1386 - accuracy: 0.9605\n",
      "Epoch 141/150\n",
      "14/14 [==============================] - 29s 2s/step - loss: 0.1007 - accuracy: 0.9711\n",
      "Epoch 142/150\n",
      "14/14 [==============================] - 31s 2s/step - loss: 0.0978 - accuracy: 0.9711\n",
      "Epoch 143/150\n",
      "14/14 [==============================] - 30s 2s/step - loss: 0.0731 - accuracy: 0.9803\n",
      "Epoch 144/150\n",
      "14/14 [==============================] - 30s 2s/step - loss: 0.0768 - accuracy: 0.9789\n",
      "Epoch 145/150\n",
      "14/14 [==============================] - 31s 2s/step - loss: 0.0780 - accuracy: 0.9750\n",
      "Epoch 146/150\n",
      "14/14 [==============================] - 31s 2s/step - loss: 0.0605 - accuracy: 0.9882\n",
      "Epoch 147/150\n",
      "14/14 [==============================] - 30s 2s/step - loss: 0.0644 - accuracy: 0.9816\n",
      "Epoch 148/150\n",
      "14/14 [==============================] - 32s 2s/step - loss: 0.0754 - accuracy: 0.9803\n",
      "Epoch 149/150\n",
      "14/14 [==============================] - 31s 2s/step - loss: 0.0676 - accuracy: 0.9816\n",
      "Epoch 150/150\n",
      "14/14 [==============================] - 29s 2s/step - loss: 0.0883 - accuracy: 0.9724\n"
     ]
    },
    {
     "data": {
      "text/plain": [
       "<keras.callbacks.History at 0x1f2676a8550>"
      ]
     },
     "execution_count": 110,
     "metadata": {},
     "output_type": "execute_result"
    }
   ],
   "source": [
    "# print(\"Training ...\")\n",
    "batch_size = 56   # num of training examples per minibatch\n",
    "num_epochs = 150\n",
    "print(len(X_train))\n",
    "print(len(Y_train))\n",
    "modelBiLSTM.fit(\n",
    "    np.array(X_train),\n",
    "    np.array(Y_train),\n",
    "    batch_size=batch_size,\n",
    "    epochs=num_epochs,\n",
    ")"
   ]
  },
  {
   "cell_type": "code",
   "execution_count": 112,
   "id": "38060626",
   "metadata": {},
   "outputs": [],
   "source": [
    "modelFileName=\"biLstm_150_56.h5\"\n",
    "modelBiLSTM.save(\"savedModels/\"+modelFileName)"
   ]
  },
  {
   "cell_type": "markdown",
   "id": "687b1c4a",
   "metadata": {},
   "source": [
    "import tensorflow as tf\n",
    "modelFileName=\"biLstm_150_56.h5\"\n",
    "modelBiLSTM=tf.keras.models.load_model(\"savedModels/\"+modelFileName)"
   ]
  },
  {
   "cell_type": "markdown",
   "id": "90d37707",
   "metadata": {},
   "source": [
    "# numpy.save(file, arr, allow_pickle=True, fix_imports=True)\n",
    "np.save(\"savedNumpyArrays/biLSTM_150_56_X_train.npy\",np.array(X_train))\n",
    "np.save(\"savedNumpyArrays/biLSTM_150_56_Y_train.npy\",np.array(Y_train))\n",
    "np.save(\"savedNumpyArrays/biLSTM_150_56_X_test.npy\",np.array(X_test))\n",
    "np.save(\"savedNumpyArrays/biLSTM_150_56_Y_test.npy\",np.array(Y_test))\n",
    "\n"
   ]
  },
  {
   "cell_type": "markdown",
   "id": "fac8b851",
   "metadata": {},
   "source": [
    "import numpy as np\n",
    "X_train=np.load(\"savedNumpyArrays/biLSTM_150_56_X_train.npy\")\n",
    "Y_train=np.load(\"savedNumpyArrays/biLSTM_150_56_Y_train.npy\")\n",
    "X_test=np.load(\"savedNumpyArrays/biLSTM_150_56_X_test.npy\")\n",
    "Y_test=np.load(\"savedNumpyArrays/biLSTM_150_56_Y_test.npy\")\n",
    "print(np.shape(load_X_train))\n"
   ]
  },
  {
   "cell_type": "markdown",
   "id": "92d33598",
   "metadata": {},
   "source": [
    "<h1>Testing BiLSTM model</h1>"
   ]
  },
  {
   "cell_type": "code",
   "execution_count": 59,
   "id": "0f6b9c7f",
   "metadata": {},
   "outputs": [
    {
     "name": "stdout",
     "output_type": "stream",
     "text": [
      "\n",
      "Testing ...\n",
      "6/6 [==============================] - 0s 47ms/step - loss: 1.0891 - accuracy: 0.7178\n",
      "Test loss:   1.0890759229660034\n",
      "Test accuracy:   0.7177914381027222\n"
     ]
    }
   ],
   "source": [
    "batch_size=56\n",
    "print(\"\\nTesting ...\")\n",
    "score, accuracy = modelBiLSTM.evaluate(\n",
    "    np.array(X_test), np.array(Y_test), batch_size=batch_size, verbose=1\n",
    ")\n",
    "print(\"Test loss:  \", score)\n",
    "print(\"Test accuracy:  \", accuracy)"
   ]
  },
  {
   "cell_type": "markdown",
   "id": "11e0be1a",
   "metadata": {},
   "source": [
    "modelFileName=\"biLstm_100_56.h5\"\n",
    "modelBiLSTM.save(\"savedModels/\"+modelFileName)"
   ]
  },
  {
   "cell_type": "markdown",
   "id": "a7744b59",
   "metadata": {},
   "source": [
    "import tensorflow as tf\n",
    "modelFileName=\"biLstm_100_56.h5\"\n",
    "loadBiLstm=tf.keras.models.load_model(\"savedModels/\"+modelFileName)\n",
    "loadBiLstm.summary()"
   ]
  },
  {
   "cell_type": "markdown",
   "id": "4a81e7a1",
   "metadata": {},
   "source": [
    "X_train, X_test, y_train, y_test = train_test_split(x, y, test_size=0.3, random_state=None)\n",
    "nb_classes = 14\n",
    "Y_train = np_utils.to_categorical(y_train, nb_classes)\n",
    "Y_test = np_utils.to_categorical(y_test, nb_classes)\n"
   ]
  },
  {
   "cell_type": "markdown",
   "id": "b10d3f4c",
   "metadata": {},
   "source": [
    "batch_size=56\n",
    "print(\"\\nTesting ...\")\n",
    "score, accuracy = loadBiLstm.evaluate(\n",
    "    np.array(X_test), np.array(Y_test), batch_size=batch_size, verbose=1\n",
    ")\n",
    "print(\"Test loss:  \", score)\n",
    "print(\"Test accuracy:  \", accuracy)"
   ]
  },
  {
   "cell_type": "markdown",
   "id": "fa718c62",
   "metadata": {},
   "source": [
    "import tensorflow as tf\n",
    "modelFileName=\"lstm_400_56.h5\"\n",
    "loadLstm=tf.keras.models.load_model(\"savedModels/\"+modelFileName)\n",
    "loadLstm.summary()"
   ]
  },
  {
   "cell_type": "markdown",
   "id": "4ce8c01c",
   "metadata": {},
   "source": [
    "batch_size=56\n",
    "print(\"\\nTesting ...\")\n",
    "score, accuracy = loadLstm.evaluate(\n",
    "    np.array(X_test), np.array(Y_test), batch_size=batch_size, verbose=1\n",
    ")\n",
    "print(\"Test loss:  \", score)\n",
    "print(\"Test accuracy:  \", accuracy)"
   ]
  },
  {
   "cell_type": "code",
   "execution_count": null,
   "id": "b572dfeb",
   "metadata": {},
   "outputs": [],
   "source": []
  }
 ],
 "metadata": {
  "kernelspec": {
   "display_name": "Python 3 (ipykernel)",
   "language": "python",
   "name": "python3"
  },
  "language_info": {
   "codemirror_mode": {
    "name": "ipython",
    "version": 3
   },
   "file_extension": ".py",
   "mimetype": "text/x-python",
   "name": "python",
   "nbconvert_exporter": "python",
   "pygments_lexer": "ipython3",
   "version": "3.9.7"
  }
 },
 "nbformat": 4,
 "nbformat_minor": 5
}
