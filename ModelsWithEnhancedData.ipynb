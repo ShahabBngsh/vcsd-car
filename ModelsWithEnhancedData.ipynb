{
 "cells": [
  {
   "cell_type": "markdown",
   "id": "b3c5afea",
   "metadata": {},
   "source": [
    "0. Start\n",
    "1. Stop\n",
    "2. Change Lane\n",
    "3. Turn left\n",
    "4. Turn Right\n",
    "5. Speed Up\n",
    "6. Speed Down\n",
    "7. Chalo\n",
    "8. Ruk jao\n",
    "9. Lane badlo\n",
    "10. Bayain Muro\n",
    "11. Dayain Muro\n",
    "12. Tez chalo\n",
    "13. Ahista Chalo"
   ]
  },
  {
   "cell_type": "markdown",
   "id": "23c8745c",
   "metadata": {},
   "source": [
    "<h1>In this notebook models are trained on newly generated data set where each command is ovelayed\n",
    "with 5 different background noises</h1>"
   ]
  },
  {
   "cell_type": "code",
   "execution_count": 25,
   "id": "7c84dca8",
   "metadata": {},
   "outputs": [
    {
     "name": "stdout",
     "output_type": "stream",
     "text": [
      "5430\n",
      "5430\n",
      "File Loading is completed\n"
     ]
    }
   ],
   "source": [
    "import librosa\n",
    "import os\n",
    "audioLength=2.5\n",
    "filesBasicPath='VoiceData/multipleBackground/'\n",
    "numberOfCommands=85\n",
    "audioFiles=[]\n",
    "foldersList=['start','stop','changeLane','turnLeft','turnRight','speedUp','speedDown','chalo','rukJao','laneBadlo','bayainMuro','dayainMuro','tezChalo','ahistaChalo']\n",
    "outputs=[]\n",
    "path = os.getcwd()\n",
    "count=0\n",
    "for i in range(0,len(foldersList)):\n",
    "    audioFiles.extend(os.listdir(path+'/'+filesBasicPath+foldersList[i]))\n",
    "    for j in range(count,len(audioFiles)):\n",
    "        count+=1\n",
    "        outputs.append(i)\n",
    "        audioFiles[j]=filesBasicPath+foldersList[i]+'/'+audioFiles[j]\n",
    "\n",
    "print(len(audioFiles))\n",
    "print(len(outputs))\n",
    "print(\"File Loading is completed\")\n"
   ]
  },
  {
   "cell_type": "code",
   "execution_count": 26,
   "id": "fa9d3f7b",
   "metadata": {},
   "outputs": [
    {
     "name": "stdout",
     "output_type": "stream",
     "text": [
      "Time series and sampling rate extraction completed\n"
     ]
    }
   ],
   "source": [
    "timeSeriesValuesList=[]\n",
    "samplingRateList=[]\n",
    "for i in range(0,len(audioFiles)):\n",
    "    timeSeriesValue,samplingRate=librosa.load(audioFiles[i])\n",
    "    timeSeriesValuesList.append(timeSeriesValue)\n",
    "    samplingRateList.append(samplingRate)\n",
    "\n",
    "print(\"Time series and sampling rate extraction completed\")"
   ]
  },
  {
   "cell_type": "code",
   "execution_count": 27,
   "id": "d3efbe1e",
   "metadata": {},
   "outputs": [
    {
     "name": "stdout",
     "output_type": "stream",
     "text": [
      "5430\n",
      "5430\n"
     ]
    }
   ],
   "source": [
    "print(len(samplingRateList))\n",
    "print(len(timeSeriesValuesList))"
   ]
  },
  {
   "cell_type": "code",
   "execution_count": 28,
   "id": "6a1fd64a",
   "metadata": {},
   "outputs": [
    {
     "name": "stdout",
     "output_type": "stream",
     "text": [
      "22050\n",
      "22050\n"
     ]
    }
   ],
   "source": [
    "print(samplingRateList[0])\n",
    "print(samplingRateList[1])"
   ]
  },
  {
   "cell_type": "code",
   "execution_count": 29,
   "id": "07a494ab",
   "metadata": {},
   "outputs": [
    {
     "name": "stdout",
     "output_type": "stream",
     "text": [
      "Mfcc extraction completed\n"
     ]
    }
   ],
   "source": [
    "import numpy as np\n",
    "mfccs=[]\n",
    "for i in range(0,len(audioFiles)):\n",
    "    mfccs.append(librosa.feature.mfcc(timeSeriesValuesList[i], n_mfcc=13,sr=samplingRateList[i]).T)\n",
    "    \n",
    "print(\"Mfcc extraction completed\")"
   ]
  },
  {
   "cell_type": "markdown",
   "id": "6aebc142",
   "metadata": {},
   "source": [
    "np.save(\"savedMfccs/mfccs_5background.npy\",np.array(mfccs))"
   ]
  },
  {
   "cell_type": "markdown",
   "id": "4aed50a5",
   "metadata": {},
   "source": [
    "mfccs_loaded=np.load(\"savedMfccs/mfccs_5background.npy\")\n",
    "print(np.shape(np.array(mfccs_loaded)))\n"
   ]
  },
  {
   "cell_type": "code",
   "execution_count": 30,
   "id": "fbd8d11d",
   "metadata": {},
   "outputs": [],
   "source": [
    "mfccs2=np.array(mfccs)"
   ]
  },
  {
   "cell_type": "code",
   "execution_count": 38,
   "id": "20498f8f",
   "metadata": {},
   "outputs": [
    {
     "name": "stdout",
     "output_type": "stream",
     "text": [
      "(5430, 108, 13)\n",
      "<class 'list'>\n",
      "<class 'numpy.ndarray'>\n"
     ]
    }
   ],
   "source": [
    "print(np.shape(np.array(mfccs)))\n",
    "print(type(mfccs))\n",
    "print(type(mfccs[0]))"
   ]
  },
  {
   "cell_type": "code",
   "execution_count": 39,
   "id": "c3ac6b22",
   "metadata": {},
   "outputs": [
    {
     "name": "stdout",
     "output_type": "stream",
     "text": [
      "Train Test Split Finished\n"
     ]
    }
   ],
   "source": [
    "from keras.utils import np_utils\n",
    "\n",
    "from sklearn.model_selection import train_test_split\n",
    "\n",
    "X_train, X_test, y_train, y_test = train_test_split(mfccs, outputs, test_size=0.25, random_state=42)\n",
    "nb_classes = 14\n",
    "Y_train = np_utils.to_categorical(y_train, nb_classes)\n",
    "Y_test = np_utils.to_categorical(y_test, nb_classes)\n",
    "print(\"Train Test Split Finished\")"
   ]
  },
  {
   "cell_type": "code",
   "execution_count": 43,
   "id": "c376bb5a",
   "metadata": {},
   "outputs": [],
   "source": [
    "np.save(\"trainTestSplitLists/X_train_25_5background.npy\",np.array(X_train))\n",
    "np.save(\"trainTestSplitLists/Y_train_25_5background.npy\",np.array(Y_train))\n",
    "np.save(\"trainTestSplitLists/X_test_25_5background.npy\",np.array(X_test))\n",
    "np.save(\"trainTestSplitLists/Y_test_25_5background.npy\",np.array(Y_test))"
   ]
  },
  {
   "cell_type": "code",
   "execution_count": 44,
   "id": "33cb62ac",
   "metadata": {},
   "outputs": [
    {
     "name": "stdout",
     "output_type": "stream",
     "text": [
      "(4072, 108, 13)\n",
      "(4072, 14)\n",
      "(1358, 108, 13)\n",
      "(1358, 14)\n"
     ]
    }
   ],
   "source": [
    "print(np.shape(X_train))\n",
    "print(np.shape(Y_train))\n",
    "print(np.shape(X_test))\n",
    "print(np.shape(Y_test))"
   ]
  },
  {
   "cell_type": "code",
   "execution_count": 45,
   "id": "6b973449",
   "metadata": {},
   "outputs": [
    {
     "name": "stdout",
     "output_type": "stream",
     "text": [
      "Model: \"sequential_1\"\n",
      "_________________________________________________________________\n",
      " Layer (type)                Output Shape              Param #   \n",
      "=================================================================\n",
      " lstm (LSTM)                 (None, 108, 108)          52704     \n",
      "                                                                 \n",
      " lstm_1 (LSTM)               (None, 32)                18048     \n",
      "                                                                 \n",
      " dense (Dense)               (None, 14)                462       \n",
      "                                                                 \n",
      "=================================================================\n",
      "Total params: 71,214\n",
      "Trainable params: 71,214\n",
      "Non-trainable params: 0\n",
      "_________________________________________________________________\n"
     ]
    }
   ],
   "source": [
    "from tensorflow.keras.optimizers import SGD\n",
    "np.random.seed(1337)\n",
    "from keras.utils import np_utils\n",
    "from keras.models import Sequential\n",
    "from keras.layers.core import Dense, Activation\n",
    "from keras.layers.recurrent import LSTM\n",
    "from tensorflow.keras.optimizers import Adam\n",
    "from keras.layers import Bidirectional\n",
    "\n",
    "modelLSTM = Sequential()\n",
    "input_shape = (np.array(X_train).shape[1], np.array(X_train).shape[2])\n",
    "modelLSTM.add(LSTM(units=108, dropout=0.05, recurrent_dropout=0.35, return_sequences=True, input_shape=input_shape))\n",
    "modelLSTM.add(LSTM(units=32,  dropout=0.05, recurrent_dropout=0.35, return_sequences=False))\n",
    "modelLSTM.add(Dense(units=Y_train.shape[1], activation=\"softmax\"))\n",
    "opt = Adam()\n",
    "modelLSTM.compile(loss=\"categorical_crossentropy\", optimizer=opt, metrics=[\"accuracy\"])\n",
    "modelLSTM.summary()\n"
   ]
  },
  {
   "cell_type": "code",
   "execution_count": 46,
   "id": "6f98bb4d",
   "metadata": {},
   "outputs": [
    {
     "name": "stdout",
     "output_type": "stream",
     "text": [
      "Epoch 1/50\n",
      "11/11 [==============================] - 23s 2s/step - loss: 2.6584 - accuracy: 0.0778\n",
      "Epoch 2/50\n",
      "11/11 [==============================] - 20s 2s/step - loss: 2.6463 - accuracy: 0.0739\n",
      "Epoch 3/50\n",
      "11/11 [==============================] - 20s 2s/step - loss: 2.6410 - accuracy: 0.0793\n",
      "Epoch 4/50\n",
      "11/11 [==============================] - 22s 2s/step - loss: 2.6439 - accuracy: 0.0786\n",
      "Epoch 5/50\n",
      "11/11 [==============================] - 22s 2s/step - loss: 2.6419 - accuracy: 0.0751\n",
      "Epoch 6/50\n",
      "11/11 [==============================] - 22s 2s/step - loss: 2.6399 - accuracy: 0.0781\n",
      "Epoch 7/50\n",
      "11/11 [==============================] - 22s 2s/step - loss: 2.6382 - accuracy: 0.0781\n",
      "Epoch 8/50\n",
      "11/11 [==============================] - 23s 2s/step - loss: 2.6355 - accuracy: 0.0850\n",
      "Epoch 9/50\n",
      "11/11 [==============================] - 22s 2s/step - loss: 2.6401 - accuracy: 0.0761\n",
      "Epoch 10/50\n",
      "11/11 [==============================] - 23s 2s/step - loss: 2.6418 - accuracy: 0.0791\n",
      "Epoch 11/50\n",
      "11/11 [==============================] - 22s 2s/step - loss: 2.6359 - accuracy: 0.0810\n",
      "Epoch 12/50\n",
      "11/11 [==============================] - 23s 2s/step - loss: 2.6342 - accuracy: 0.0842\n",
      "Epoch 13/50\n",
      "11/11 [==============================] - 23s 2s/step - loss: 2.6321 - accuracy: 0.0818\n",
      "Epoch 14/50\n",
      "11/11 [==============================] - 23s 2s/step - loss: 2.6322 - accuracy: 0.0857\n",
      "Epoch 15/50\n",
      "11/11 [==============================] - 22s 2s/step - loss: 2.6300 - accuracy: 0.0928\n",
      "Epoch 16/50\n",
      "11/11 [==============================] - 24s 2s/step - loss: 2.6175 - accuracy: 0.0958\n",
      "Epoch 17/50\n",
      "11/11 [==============================] - 23s 2s/step - loss: 2.6102 - accuracy: 0.0909\n",
      "Epoch 18/50\n",
      "11/11 [==============================] - 25s 2s/step - loss: 2.6023 - accuracy: 0.1058\n",
      "Epoch 19/50\n",
      "11/11 [==============================] - 24s 2s/step - loss: 2.5976 - accuracy: 0.1090\n",
      "Epoch 20/50\n",
      "11/11 [==============================] - 23s 2s/step - loss: 2.5901 - accuracy: 0.1088\n",
      "Epoch 21/50\n",
      "11/11 [==============================] - 25s 2s/step - loss: 2.5538 - accuracy: 0.1198\n",
      "Epoch 22/50\n",
      "11/11 [==============================] - 25s 2s/step - loss: 2.5743 - accuracy: 0.1095\n",
      "Epoch 23/50\n",
      "11/11 [==============================] - 23s 2s/step - loss: 2.5513 - accuracy: 0.1159\n",
      "Epoch 24/50\n",
      "11/11 [==============================] - 25s 2s/step - loss: 2.5113 - accuracy: 0.1363\n",
      "Epoch 25/50\n",
      "11/11 [==============================] - 25s 2s/step - loss: 2.4920 - accuracy: 0.1324\n",
      "Epoch 26/50\n",
      "11/11 [==============================] - 24s 2s/step - loss: 2.4741 - accuracy: 0.1410\n",
      "Epoch 27/50\n",
      "11/11 [==============================] - 24s 2s/step - loss: 2.5149 - accuracy: 0.1331\n",
      "Epoch 28/50\n",
      "11/11 [==============================] - 25s 2s/step - loss: 2.4889 - accuracy: 0.1383\n",
      "Epoch 29/50\n",
      "11/11 [==============================] - 25s 2s/step - loss: 2.4545 - accuracy: 0.1427\n",
      "Epoch 30/50\n",
      "11/11 [==============================] - 26s 2s/step - loss: 2.4304 - accuracy: 0.1520\n",
      "Epoch 31/50\n",
      "11/11 [==============================] - 24s 2s/step - loss: 2.4352 - accuracy: 0.1508\n",
      "Epoch 32/50\n",
      "11/11 [==============================] - 24s 2s/step - loss: 2.4290 - accuracy: 0.1535\n",
      "Epoch 33/50\n",
      "11/11 [==============================] - 23s 2s/step - loss: 2.4118 - accuracy: 0.1596\n",
      "Epoch 34/50\n",
      "11/11 [==============================] - 16s 1s/step - loss: 2.3991 - accuracy: 0.1542\n",
      "Epoch 35/50\n",
      "11/11 [==============================] - 16s 1s/step - loss: 2.3860 - accuracy: 0.1618\n",
      "Epoch 36/50\n",
      "11/11 [==============================] - 16s 1s/step - loss: 2.3525 - accuracy: 0.1707\n",
      "Epoch 37/50\n",
      "11/11 [==============================] - 16s 1s/step - loss: 2.3614 - accuracy: 0.1793\n",
      "Epoch 38/50\n",
      "11/11 [==============================] - 18s 2s/step - loss: 2.3694 - accuracy: 0.1694\n",
      "Epoch 39/50\n",
      "11/11 [==============================] - 17s 1s/step - loss: 2.3916 - accuracy: 0.1601\n",
      "Epoch 40/50\n",
      "11/11 [==============================] - 17s 1s/step - loss: 2.3775 - accuracy: 0.1631\n",
      "Epoch 41/50\n",
      "11/11 [==============================] - 17s 2s/step - loss: 2.3459 - accuracy: 0.1736\n",
      "Epoch 42/50\n",
      "11/11 [==============================] - 17s 2s/step - loss: 2.3227 - accuracy: 0.1653\n",
      "Epoch 43/50\n",
      "11/11 [==============================] - 18s 2s/step - loss: 2.3326 - accuracy: 0.1694\n",
      "Epoch 44/50\n",
      "11/11 [==============================] - 19s 2s/step - loss: 2.3373 - accuracy: 0.1827\n",
      "Epoch 45/50\n",
      "11/11 [==============================] - 18s 2s/step - loss: 2.3063 - accuracy: 0.1834\n",
      "Epoch 46/50\n",
      "11/11 [==============================] - 18s 2s/step - loss: 2.2663 - accuracy: 0.1957\n",
      "Epoch 47/50\n",
      "11/11 [==============================] - 19s 2s/step - loss: 2.2565 - accuracy: 0.1992\n",
      "Epoch 48/50\n",
      "11/11 [==============================] - 18s 2s/step - loss: 2.2419 - accuracy: 0.1967\n",
      "Epoch 49/50\n",
      "11/11 [==============================] - 18s 2s/step - loss: 2.2452 - accuracy: 0.1950\n",
      "Epoch 50/50\n",
      "11/11 [==============================] - 18s 2s/step - loss: 2.2758 - accuracy: 0.1889\n"
     ]
    },
    {
     "data": {
      "text/plain": [
       "<keras.callbacks.History at 0x257ba842070>"
      ]
     },
     "execution_count": 46,
     "metadata": {},
     "output_type": "execute_result"
    }
   ],
   "source": [
    "# print(\"Training ...\")\n",
    "batch_size = 407   # num of training examples per minibatch\n",
    "num_epochs = 50\n",
    "# print(len(x_train))\n",
    "# print(len(Y_train))\n",
    "modelLSTM.fit(\n",
    "    np.array(X_train),\n",
    "    np.array(Y_train),\n",
    "    batch_size=batch_size,\n",
    "    epochs=num_epochs,\n",
    ")"
   ]
  },
  {
   "cell_type": "code",
   "execution_count": 48,
   "id": "7d6322c2",
   "metadata": {},
   "outputs": [
    {
     "name": "stdout",
     "output_type": "stream",
     "text": [
      "\n",
      "Testing LSTM...\n",
      "4/4 [==============================] - 1s 154ms/step - loss: 2.2950 - accuracy: 0.1863\n",
      "Test loss:   2.29496693611145\n",
      "Test accuracy:   0.18630339205265045\n"
     ]
    }
   ],
   "source": [
    "print(\"\\nTesting LSTM...\")\n",
    "score, accuracy = modelLSTM.evaluate(\n",
    "    np.array(X_test), np.array(Y_test), batch_size=batch_size, verbose=1)\n",
    "print(\"Test loss:  \", score)\n",
    "print(\"Test accuracy:  \", accuracy)"
   ]
  },
  {
   "cell_type": "markdown",
   "id": "58902c05",
   "metadata": {},
   "source": [
    "<h1>BiLSTM model development, training and testing in the following code</h1>"
   ]
  },
  {
   "cell_type": "code",
   "execution_count": 50,
   "id": "5a0a2c95",
   "metadata": {},
   "outputs": [
    {
     "name": "stdout",
     "output_type": "stream",
     "text": [
      "Model: \"sequential_3\"\n",
      "_________________________________________________________________\n",
      " Layer (type)                Output Shape              Param #   \n",
      "=================================================================\n",
      " bidirectional_2 (Bidirectio  (None, 108, 216)         105408    \n",
      " nal)                                                            \n",
      "                                                                 \n",
      " bidirectional_3 (Bidirectio  (None, 64)               63744     \n",
      " nal)                                                            \n",
      "                                                                 \n",
      " dense_2 (Dense)             (None, 14)                910       \n",
      "                                                                 \n",
      "=================================================================\n",
      "Total params: 170,062\n",
      "Trainable params: 170,062\n",
      "Non-trainable params: 0\n",
      "_________________________________________________________________\n"
     ]
    }
   ],
   "source": [
    "modelBiLSTM = Sequential()\n",
    "input_shape = (np.array(X_train).shape[1], np.array(X_train).shape[2])\n",
    "modelBiLSTM.add(Bidirectional(LSTM(units=108, dropout=0.05, recurrent_dropout=0.35, return_sequences=True), input_shape=input_shape))\n",
    "modelBiLSTM.add(Bidirectional(LSTM(units=32,  dropout=0.05, recurrent_dropout=0.35, return_sequences=False)))\n",
    "modelBiLSTM.add(Dense(units=Y_train.shape[1], activation=\"softmax\"))\n",
    "opt = Adam()\n",
    "modelBiLSTM.compile(loss=\"categorical_crossentropy\", optimizer=opt, metrics=[\"accuracy\"])\n",
    "modelBiLSTM.summary()"
   ]
  },
  {
   "cell_type": "code",
   "execution_count": 53,
   "id": "6856c102",
   "metadata": {},
   "outputs": [
    {
     "name": "stdout",
     "output_type": "stream",
     "text": [
      "Epoch 1/100\n",
      "11/11 [==============================] - 138s 13s/step - loss: 2.1594 - accuracy: 0.2471\n",
      "Epoch 2/100\n",
      "11/11 [==============================] - 137s 12s/step - loss: 2.1160 - accuracy: 0.2750\n",
      "Epoch 3/100\n",
      "11/11 [==============================] - 135s 12s/step - loss: 2.1192 - accuracy: 0.2586\n",
      "Epoch 4/100\n",
      "11/11 [==============================] - 138s 13s/step - loss: 2.0940 - accuracy: 0.2647\n",
      "Epoch 5/100\n",
      "11/11 [==============================] - 142s 13s/step - loss: 2.0624 - accuracy: 0.2647\n",
      "Epoch 6/100\n",
      "11/11 [==============================] - 127s 11s/step - loss: 2.0227 - accuracy: 0.2895\n",
      "Epoch 7/100\n",
      "11/11 [==============================] - 128s 11s/step - loss: 2.0049 - accuracy: 0.3001\n",
      "Epoch 8/100\n",
      "11/11 [==============================] - 127s 11s/step - loss: 2.0133 - accuracy: 0.2937\n",
      "Epoch 9/100\n",
      "11/11 [==============================] - 128s 11s/step - loss: 1.9901 - accuracy: 0.2890\n",
      "Epoch 10/100\n",
      "11/11 [==============================] - 129s 12s/step - loss: 1.9133 - accuracy: 0.3161\n",
      "Epoch 11/100\n",
      "11/11 [==============================] - 128s 11s/step - loss: 2.0260 - accuracy: 0.2859\n",
      "Epoch 12/100\n",
      "11/11 [==============================] - 130s 12s/step - loss: 2.0090 - accuracy: 0.2957\n",
      "Epoch 13/100\n",
      "11/11 [==============================] - 131s 12s/step - loss: 1.9089 - accuracy: 0.3301\n",
      "Epoch 14/100\n",
      "11/11 [==============================] - 130s 12s/step - loss: 1.8539 - accuracy: 0.3441\n",
      "Epoch 15/100\n",
      "11/11 [==============================] - 129s 12s/step - loss: 1.8114 - accuracy: 0.3721\n",
      "Epoch 16/100\n",
      "11/11 [==============================] - 131s 12s/step - loss: 1.7634 - accuracy: 0.3730\n",
      "Epoch 17/100\n",
      "11/11 [==============================] - 132s 12s/step - loss: 1.7131 - accuracy: 0.3917\n",
      "Epoch 18/100\n",
      "11/11 [==============================] - 131s 12s/step - loss: 1.7992 - accuracy: 0.3500\n",
      "Epoch 19/100\n",
      "11/11 [==============================] - 132s 12s/step - loss: 1.7474 - accuracy: 0.3723\n",
      "Epoch 20/100\n",
      "11/11 [==============================] - 131s 12s/step - loss: 1.7698 - accuracy: 0.3880\n",
      "Epoch 21/100\n",
      "11/11 [==============================] - 132s 12s/step - loss: 1.6628 - accuracy: 0.3981\n",
      "Epoch 22/100\n",
      "11/11 [==============================] - 130s 12s/step - loss: 1.7108 - accuracy: 0.3797\n",
      "Epoch 23/100\n",
      "11/11 [==============================] - 147s 13s/step - loss: 1.6265 - accuracy: 0.4175\n",
      "Epoch 24/100\n",
      "11/11 [==============================] - 141s 13s/step - loss: 1.6416 - accuracy: 0.4236\n",
      "Epoch 25/100\n",
      "11/11 [==============================] - 143s 13s/step - loss: 1.8300 - accuracy: 0.3441\n",
      "Epoch 26/100\n",
      "11/11 [==============================] - 143s 13s/step - loss: 1.7575 - accuracy: 0.3750\n",
      "Epoch 27/100\n",
      "11/11 [==============================] - 145s 13s/step - loss: 1.6305 - accuracy: 0.4158\n",
      "Epoch 28/100\n",
      "11/11 [==============================] - 147s 13s/step - loss: 1.5964 - accuracy: 0.4163\n",
      "Epoch 29/100\n",
      "11/11 [==============================] - 96s 8s/step - loss: 1.5416 - accuracy: 0.4384\n",
      "Epoch 30/100\n",
      "11/11 [==============================] - 93s 8s/step - loss: 1.5091 - accuracy: 0.4538\n",
      "Epoch 31/100\n",
      "11/11 [==============================] - 93s 8s/step - loss: 1.5073 - accuracy: 0.4501\n",
      "Epoch 32/100\n",
      "11/11 [==============================] - 94s 8s/step - loss: 1.4590 - accuracy: 0.4735\n",
      "Epoch 33/100\n",
      "11/11 [==============================] - 93s 8s/step - loss: 1.4033 - accuracy: 0.4978\n",
      "Epoch 34/100\n",
      "11/11 [==============================] - 94s 8s/step - loss: 1.4272 - accuracy: 0.4939\n",
      "Epoch 35/100\n",
      "11/11 [==============================] - 94s 8s/step - loss: 1.4321 - accuracy: 0.4737\n",
      "Epoch 36/100\n",
      "11/11 [==============================] - 93s 8s/step - loss: 1.3824 - accuracy: 0.5032\n",
      "Epoch 37/100\n",
      "11/11 [==============================] - 93s 8s/step - loss: 1.3625 - accuracy: 0.4971\n",
      "Epoch 38/100\n",
      "11/11 [==============================] - 95s 9s/step - loss: 1.4403 - accuracy: 0.4720\n",
      "Epoch 39/100\n",
      "11/11 [==============================] - 93s 8s/step - loss: 1.4278 - accuracy: 0.4691\n",
      "Epoch 40/100\n",
      "11/11 [==============================] - 97s 9s/step - loss: 1.3950 - accuracy: 0.4872\n",
      "Epoch 41/100\n",
      "11/11 [==============================] - 97s 9s/step - loss: 1.4083 - accuracy: 0.4860\n",
      "Epoch 42/100\n",
      "11/11 [==============================] - 93s 8s/step - loss: 1.4091 - accuracy: 0.4835\n",
      "Epoch 43/100\n",
      "11/11 [==============================] - 94s 8s/step - loss: 1.3315 - accuracy: 0.5184\n",
      "Epoch 44/100\n",
      "11/11 [==============================] - 93s 8s/step - loss: 1.2823 - accuracy: 0.5368\n",
      "Epoch 45/100\n",
      "11/11 [==============================] - 92s 8s/step - loss: 1.2902 - accuracy: 0.5253\n",
      "Epoch 46/100\n",
      "11/11 [==============================] - 94s 9s/step - loss: 1.3256 - accuracy: 0.5123\n",
      "Epoch 47/100\n",
      "11/11 [==============================] - 94s 9s/step - loss: 1.3597 - accuracy: 0.5125\n",
      "Epoch 48/100\n",
      "11/11 [==============================] - 94s 8s/step - loss: 1.2417 - accuracy: 0.5417\n",
      "Epoch 49/100\n",
      "11/11 [==============================] - 96s 9s/step - loss: 1.1861 - accuracy: 0.5688\n",
      "Epoch 50/100\n",
      "11/11 [==============================] - 96s 9s/step - loss: 1.4235 - accuracy: 0.4806\n",
      "Epoch 51/100\n",
      "11/11 [==============================] - 96s 9s/step - loss: 1.7083 - accuracy: 0.3929\n",
      "Epoch 52/100\n",
      "11/11 [==============================] - 93s 8s/step - loss: 1.5319 - accuracy: 0.4497\n",
      "Epoch 53/100\n",
      "11/11 [==============================] - 97s 9s/step - loss: 1.3813 - accuracy: 0.5037\n",
      "Epoch 54/100\n",
      "11/11 [==============================] - 96s 9s/step - loss: 1.4740 - accuracy: 0.4772\n",
      "Epoch 55/100\n",
      "11/11 [==============================] - 92s 8s/step - loss: 1.3342 - accuracy: 0.5160\n",
      "Epoch 56/100\n",
      "11/11 [==============================] - 93s 8s/step - loss: 1.2635 - accuracy: 0.5395\n",
      "Epoch 57/100\n",
      "11/11 [==============================] - 96s 9s/step - loss: 1.2249 - accuracy: 0.5513\n",
      "Epoch 58/100\n",
      "11/11 [==============================] - 96s 9s/step - loss: 1.1737 - accuracy: 0.5712\n",
      "Epoch 59/100\n",
      "11/11 [==============================] - 94s 8s/step - loss: 1.1496 - accuracy: 0.5857\n",
      "Epoch 60/100\n",
      "11/11 [==============================] - 95s 9s/step - loss: 1.2505 - accuracy: 0.5413\n",
      "Epoch 61/100\n",
      "11/11 [==============================] - 94s 9s/step - loss: 1.1954 - accuracy: 0.5604\n",
      "Epoch 62/100\n",
      "11/11 [==============================] - 97s 9s/step - loss: 1.3308 - accuracy: 0.5305\n",
      "Epoch 63/100\n",
      "11/11 [==============================] - 94s 8s/step - loss: 1.2763 - accuracy: 0.5508\n",
      "Epoch 64/100\n",
      "11/11 [==============================] - 96s 9s/step - loss: 1.1592 - accuracy: 0.5820\n",
      "Epoch 65/100\n",
      "11/11 [==============================] - 95s 9s/step - loss: 1.1086 - accuracy: 0.5933\n",
      "Epoch 66/100\n",
      "11/11 [==============================] - 99s 9s/step - loss: 1.2031 - accuracy: 0.5702\n",
      "Epoch 67/100\n",
      "11/11 [==============================] - 93s 8s/step - loss: 1.2170 - accuracy: 0.5494\n",
      "Epoch 68/100\n",
      "11/11 [==============================] - 93s 8s/step - loss: 1.2311 - accuracy: 0.5611\n",
      "Epoch 69/100\n",
      "11/11 [==============================] - 93s 8s/step - loss: 1.1881 - accuracy: 0.5567\n",
      "Epoch 70/100\n",
      "11/11 [==============================] - 91s 8s/step - loss: 1.0911 - accuracy: 0.5874\n",
      "Epoch 71/100\n",
      "11/11 [==============================] - 91s 8s/step - loss: 1.0618 - accuracy: 0.6009\n",
      "Epoch 72/100\n",
      "11/11 [==============================] - 90s 8s/step - loss: 1.0076 - accuracy: 0.6272\n",
      "Epoch 73/100\n",
      "11/11 [==============================] - 91s 8s/step - loss: 1.0181 - accuracy: 0.6125\n",
      "Epoch 74/100\n",
      "11/11 [==============================] - 90s 8s/step - loss: 1.0058 - accuracy: 0.6152\n",
      "Epoch 75/100\n",
      "11/11 [==============================] - 91s 8s/step - loss: 0.9616 - accuracy: 0.6478\n",
      "Epoch 76/100\n",
      "11/11 [==============================] - 91s 8s/step - loss: 0.9422 - accuracy: 0.6466\n",
      "Epoch 77/100\n",
      "11/11 [==============================] - 92s 8s/step - loss: 0.9362 - accuracy: 0.6555\n",
      "Epoch 78/100\n",
      "11/11 [==============================] - 93s 8s/step - loss: 0.9292 - accuracy: 0.6532\n",
      "Epoch 79/100\n",
      "11/11 [==============================] - 91s 8s/step - loss: 0.9537 - accuracy: 0.6378\n",
      "Epoch 80/100\n",
      "11/11 [==============================] - 94s 8s/step - loss: 0.9701 - accuracy: 0.6365\n",
      "Epoch 81/100\n",
      "11/11 [==============================] - 92s 8s/step - loss: 0.9630 - accuracy: 0.6456\n",
      "Epoch 82/100\n"
     ]
    },
    {
     "name": "stdout",
     "output_type": "stream",
     "text": [
      "11/11 [==============================] - 93s 8s/step - loss: 0.9026 - accuracy: 0.6702\n",
      "Epoch 83/100\n",
      "11/11 [==============================] - 93s 8s/step - loss: 0.9522 - accuracy: 0.6508\n",
      "Epoch 84/100\n",
      "11/11 [==============================] - 91s 8s/step - loss: 0.9034 - accuracy: 0.6591\n",
      "Epoch 85/100\n",
      "11/11 [==============================] - 91s 8s/step - loss: 0.8930 - accuracy: 0.6579\n",
      "Epoch 86/100\n",
      "11/11 [==============================] - 91s 8s/step - loss: 0.8883 - accuracy: 0.6618\n",
      "Epoch 87/100\n",
      "11/11 [==============================] - 91s 8s/step - loss: 0.8888 - accuracy: 0.6606\n",
      "Epoch 88/100\n",
      "11/11 [==============================] - 91s 8s/step - loss: 0.9197 - accuracy: 0.6574\n",
      "Epoch 89/100\n",
      "11/11 [==============================] - 90s 8s/step - loss: 1.0441 - accuracy: 0.6186\n",
      "Epoch 90/100\n",
      "11/11 [==============================] - 91s 8s/step - loss: 1.0225 - accuracy: 0.6272\n",
      "Epoch 91/100\n",
      "11/11 [==============================] - 90s 8s/step - loss: 0.9697 - accuracy: 0.6444\n",
      "Epoch 92/100\n",
      "11/11 [==============================] - 90s 8s/step - loss: 0.8999 - accuracy: 0.6805\n",
      "Epoch 93/100\n",
      "11/11 [==============================] - 90s 8s/step - loss: 0.8279 - accuracy: 0.6967\n",
      "Epoch 94/100\n",
      "11/11 [==============================] - 90s 8s/step - loss: 0.8051 - accuracy: 0.7021\n",
      "Epoch 95/100\n",
      "11/11 [==============================] - 90s 8s/step - loss: 0.7786 - accuracy: 0.7129\n",
      "Epoch 96/100\n",
      "11/11 [==============================] - 90s 8s/step - loss: 0.7527 - accuracy: 0.7279\n",
      "Epoch 97/100\n",
      "11/11 [==============================] - 90s 8s/step - loss: 0.7214 - accuracy: 0.7294\n",
      "Epoch 98/100\n",
      "11/11 [==============================] - 154s 15s/step - loss: 0.7358 - accuracy: 0.7230\n",
      "Epoch 99/100\n",
      "11/11 [==============================] - 135s 11s/step - loss: 1.1267 - accuracy: 0.6058\n",
      "Epoch 100/100\n",
      "11/11 [==============================] - 108s 10s/step - loss: 1.0931 - accuracy: 0.5982\n"
     ]
    },
    {
     "data": {
      "text/plain": [
       "<keras.callbacks.History at 0x25804fdbdc0>"
      ]
     },
     "execution_count": 53,
     "metadata": {},
     "output_type": "execute_result"
    }
   ],
   "source": [
    "# print(\"Training ...\")\n",
    "batch_size = 407   # num of training examples per minibatch\n",
    "num_epochs = 100\n",
    "# print(len(x_train))\n",
    "# print(len(Y_train))\n",
    "modelBiLSTM.fit(\n",
    "    np.array(X_train),\n",
    "    np.array(Y_train),\n",
    "    batch_size=batch_size,\n",
    "    epochs=num_epochs,\n",
    ")"
   ]
  },
  {
   "cell_type": "code",
   "execution_count": 54,
   "id": "c4e83f99",
   "metadata": {},
   "outputs": [
    {
     "name": "stdout",
     "output_type": "stream",
     "text": [
      "\n",
      "Testing BiLstm...\n",
      "4/4 [==============================] - 5s 1s/step - loss: 1.0526 - accuracy: 0.6296\n",
      "Test loss:   1.0526479482650757\n",
      "Test accuracy:   0.6296023726463318\n"
     ]
    }
   ],
   "source": [
    "print(\"\\nTesting BiLstm...\")\n",
    "score, accuracy = modelBiLSTM.evaluate(\n",
    "    np.array(X_test), np.array(Y_test), batch_size=batch_size, verbose=1)\n",
    "print(\"Test loss:  \", score)\n",
    "print(\"Test accuracy:  \", accuracy)"
   ]
  },
  {
   "cell_type": "code",
   "execution_count": null,
   "id": "84b8b5b2",
   "metadata": {},
   "outputs": [],
   "source": [
    "modelFileName=\"biLstm5_120_407.h5\"\n",
    "modelBiLSTM.save(\"savedModels/\"+modelFileName)"
   ]
  }
 ],
 "metadata": {
  "kernelspec": {
   "display_name": "Python 3 (ipykernel)",
   "language": "python",
   "name": "python3"
  },
  "language_info": {
   "codemirror_mode": {
    "name": "ipython",
    "version": 3
   },
   "file_extension": ".py",
   "mimetype": "text/x-python",
   "name": "python",
   "nbconvert_exporter": "python",
   "pygments_lexer": "ipython3",
   "version": "3.9.7"
  }
 },
 "nbformat": 4,
 "nbformat_minor": 5
}
